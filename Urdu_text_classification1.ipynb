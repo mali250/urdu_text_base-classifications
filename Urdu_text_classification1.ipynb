{
  "nbformat": 4,
  "nbformat_minor": 0,
  "metadata": {
    "colab": {
      "provenance": []
    },
    "kernelspec": {
      "name": "python3",
      "display_name": "Python 3"
    },
    "language_info": {
      "name": "python"
    }
  },
  "cells": [
    {
      "cell_type": "code",
      "source": [
        "# Import Plotting Libararies\n",
        "import seaborn as sns\n",
        "import matplotlib.pyplot as plt\n",
        "\n",
        "# Import Data Preprocessing Libraries \n",
        "from sklearn.preprocessing import LabelEncoder\n",
        "from sklearn.model_selection import train_test_split\n",
        "from sklearn.feature_extraction.text import TfidfVectorizer\n",
        "\n",
        "# Machine Learning Models\n",
        "from sklearn import svm  \n",
        "from sklearn.naive_bayes import GaussianNB\n",
        "from sklearn.linear_model import LogisticRegression\n",
        "from sklearn.tree import DecisionTreeClassifier\n",
        "from sklearn.ensemble import RandomForestClassifier\n",
        "from sklearn.ensemble import GradientBoostingClassifier\n",
        "from sklearn.ensemble import AdaBoostClassifier\n",
        "import xgboost as xgb\n",
        "\n",
        "# Model Evaluation Libraries\n",
        "from sklearn.metrics import classification_report, confusion_matrix"
      ],
      "metadata": {
        "id": "kiTa-ltaa5vp"
      },
      "execution_count": 5,
      "outputs": []
    },
    {
      "cell_type": "code",
      "source": [
        "!pip install urduhack[tf]"
      ],
      "metadata": {
        "colab": {
          "base_uri": "https://localhost:8080/"
        },
        "id": "R2KSjbVEXIZ1",
        "outputId": "3ac7d2fe-f798-4bd7-c0e7-212fc6fa3c81"
      },
      "execution_count": 6,
      "outputs": [
        {
          "output_type": "stream",
          "name": "stdout",
          "text": [
            "Looking in indexes: https://pypi.org/simple, https://us-python.pkg.dev/colab-wheels/public/simple/\n",
            "Requirement already satisfied: urduhack[tf] in /usr/local/lib/python3.10/dist-packages (1.1.1)\n",
            "Requirement already satisfied: Click~=7.1 in /usr/local/lib/python3.10/dist-packages (from urduhack[tf]) (7.1.2)\n",
            "Requirement already satisfied: regex in /usr/local/lib/python3.10/dist-packages (from urduhack[tf]) (2022.10.31)\n",
            "Requirement already satisfied: tensorflow-datasets~=3.1 in /usr/local/lib/python3.10/dist-packages (from urduhack[tf]) (3.2.1)\n",
            "Requirement already satisfied: tf2crf in /usr/local/lib/python3.10/dist-packages (from urduhack[tf]) (0.1.33)\n",
            "Requirement already satisfied: tensorflow~=2.2 in /usr/local/lib/python3.10/dist-packages (from urduhack[tf]) (2.12.0)\n",
            "Requirement already satisfied: opt-einsum>=2.3.2 in /usr/local/lib/python3.10/dist-packages (from tensorflow~=2.2->urduhack[tf]) (3.3.0)\n",
            "Requirement already satisfied: keras<2.13,>=2.12.0 in /usr/local/lib/python3.10/dist-packages (from tensorflow~=2.2->urduhack[tf]) (2.12.0)\n",
            "Requirement already satisfied: grpcio<2.0,>=1.24.3 in /usr/local/lib/python3.10/dist-packages (from tensorflow~=2.2->urduhack[tf]) (1.54.0)\n",
            "Requirement already satisfied: packaging in /usr/local/lib/python3.10/dist-packages (from tensorflow~=2.2->urduhack[tf]) (23.1)\n",
            "Requirement already satisfied: tensorboard<2.13,>=2.12 in /usr/local/lib/python3.10/dist-packages (from tensorflow~=2.2->urduhack[tf]) (2.12.2)\n",
            "Requirement already satisfied: six>=1.12.0 in /usr/local/lib/python3.10/dist-packages (from tensorflow~=2.2->urduhack[tf]) (1.16.0)\n",
            "Requirement already satisfied: gast<=0.4.0,>=0.2.1 in /usr/local/lib/python3.10/dist-packages (from tensorflow~=2.2->urduhack[tf]) (0.4.0)\n",
            "Requirement already satisfied: termcolor>=1.1.0 in /usr/local/lib/python3.10/dist-packages (from tensorflow~=2.2->urduhack[tf]) (2.3.0)\n",
            "Requirement already satisfied: libclang>=13.0.0 in /usr/local/lib/python3.10/dist-packages (from tensorflow~=2.2->urduhack[tf]) (16.0.0)\n",
            "Requirement already satisfied: wrapt<1.15,>=1.11.0 in /usr/local/lib/python3.10/dist-packages (from tensorflow~=2.2->urduhack[tf]) (1.14.1)\n",
            "Requirement already satisfied: google-pasta>=0.1.1 in /usr/local/lib/python3.10/dist-packages (from tensorflow~=2.2->urduhack[tf]) (0.2.0)\n",
            "Requirement already satisfied: h5py>=2.9.0 in /usr/local/lib/python3.10/dist-packages (from tensorflow~=2.2->urduhack[tf]) (3.8.0)\n",
            "Requirement already satisfied: typing-extensions>=3.6.6 in /usr/local/lib/python3.10/dist-packages (from tensorflow~=2.2->urduhack[tf]) (4.5.0)\n",
            "Requirement already satisfied: jax>=0.3.15 in /usr/local/lib/python3.10/dist-packages (from tensorflow~=2.2->urduhack[tf]) (0.4.8)\n",
            "Requirement already satisfied: flatbuffers>=2.0 in /usr/local/lib/python3.10/dist-packages (from tensorflow~=2.2->urduhack[tf]) (23.3.3)\n",
            "Requirement already satisfied: tensorflow-estimator<2.13,>=2.12.0 in /usr/local/lib/python3.10/dist-packages (from tensorflow~=2.2->urduhack[tf]) (2.12.0)\n",
            "Requirement already satisfied: protobuf!=4.21.0,!=4.21.1,!=4.21.2,!=4.21.3,!=4.21.4,!=4.21.5,<5.0.0dev,>=3.20.3 in /usr/local/lib/python3.10/dist-packages (from tensorflow~=2.2->urduhack[tf]) (3.20.3)\n",
            "Requirement already satisfied: absl-py>=1.0.0 in /usr/local/lib/python3.10/dist-packages (from tensorflow~=2.2->urduhack[tf]) (1.4.0)\n",
            "Requirement already satisfied: numpy<1.24,>=1.22 in /usr/local/lib/python3.10/dist-packages (from tensorflow~=2.2->urduhack[tf]) (1.22.4)\n",
            "Requirement already satisfied: astunparse>=1.6.0 in /usr/local/lib/python3.10/dist-packages (from tensorflow~=2.2->urduhack[tf]) (1.6.3)\n",
            "Requirement already satisfied: tensorflow-io-gcs-filesystem>=0.23.1 in /usr/local/lib/python3.10/dist-packages (from tensorflow~=2.2->urduhack[tf]) (0.32.0)\n",
            "Requirement already satisfied: setuptools in /usr/local/lib/python3.10/dist-packages (from tensorflow~=2.2->urduhack[tf]) (67.7.2)\n",
            "Requirement already satisfied: attrs>=18.1.0 in /usr/local/lib/python3.10/dist-packages (from tensorflow-datasets~=3.1->urduhack[tf]) (23.1.0)\n",
            "Requirement already satisfied: requests>=2.19.0 in /usr/local/lib/python3.10/dist-packages (from tensorflow-datasets~=3.1->urduhack[tf]) (2.27.1)\n",
            "Requirement already satisfied: future in /usr/local/lib/python3.10/dist-packages (from tensorflow-datasets~=3.1->urduhack[tf]) (0.18.3)\n",
            "Requirement already satisfied: promise in /usr/local/lib/python3.10/dist-packages (from tensorflow-datasets~=3.1->urduhack[tf]) (2.3)\n",
            "Requirement already satisfied: dill in /usr/local/lib/python3.10/dist-packages (from tensorflow-datasets~=3.1->urduhack[tf]) (0.3.6)\n",
            "Requirement already satisfied: tensorflow-metadata in /usr/local/lib/python3.10/dist-packages (from tensorflow-datasets~=3.1->urduhack[tf]) (1.13.1)\n",
            "Requirement already satisfied: tqdm in /usr/local/lib/python3.10/dist-packages (from tensorflow-datasets~=3.1->urduhack[tf]) (4.65.0)\n",
            "Requirement already satisfied: tensorflow-addons>=0.8.2 in /usr/local/lib/python3.10/dist-packages (from tf2crf->urduhack[tf]) (0.20.0)\n",
            "Requirement already satisfied: wheel<1.0,>=0.23.0 in /usr/local/lib/python3.10/dist-packages (from astunparse>=1.6.0->tensorflow~=2.2->urduhack[tf]) (0.40.0)\n",
            "Requirement already satisfied: ml-dtypes>=0.0.3 in /usr/local/lib/python3.10/dist-packages (from jax>=0.3.15->tensorflow~=2.2->urduhack[tf]) (0.1.0)\n",
            "Requirement already satisfied: scipy>=1.7 in /usr/local/lib/python3.10/dist-packages (from jax>=0.3.15->tensorflow~=2.2->urduhack[tf]) (1.10.1)\n",
            "Requirement already satisfied: idna<4,>=2.5 in /usr/local/lib/python3.10/dist-packages (from requests>=2.19.0->tensorflow-datasets~=3.1->urduhack[tf]) (3.4)\n",
            "Requirement already satisfied: charset-normalizer~=2.0.0 in /usr/local/lib/python3.10/dist-packages (from requests>=2.19.0->tensorflow-datasets~=3.1->urduhack[tf]) (2.0.12)\n",
            "Requirement already satisfied: urllib3<1.27,>=1.21.1 in /usr/local/lib/python3.10/dist-packages (from requests>=2.19.0->tensorflow-datasets~=3.1->urduhack[tf]) (1.26.15)\n",
            "Requirement already satisfied: certifi>=2017.4.17 in /usr/local/lib/python3.10/dist-packages (from requests>=2.19.0->tensorflow-datasets~=3.1->urduhack[tf]) (2022.12.7)\n",
            "Requirement already satisfied: tensorboard-data-server<0.8.0,>=0.7.0 in /usr/local/lib/python3.10/dist-packages (from tensorboard<2.13,>=2.12->tensorflow~=2.2->urduhack[tf]) (0.7.0)\n",
            "Requirement already satisfied: tensorboard-plugin-wit>=1.6.0 in /usr/local/lib/python3.10/dist-packages (from tensorboard<2.13,>=2.12->tensorflow~=2.2->urduhack[tf]) (1.8.1)\n",
            "Requirement already satisfied: google-auth<3,>=1.6.3 in /usr/local/lib/python3.10/dist-packages (from tensorboard<2.13,>=2.12->tensorflow~=2.2->urduhack[tf]) (2.17.3)\n",
            "Requirement already satisfied: markdown>=2.6.8 in /usr/local/lib/python3.10/dist-packages (from tensorboard<2.13,>=2.12->tensorflow~=2.2->urduhack[tf]) (3.4.3)\n",
            "Requirement already satisfied: google-auth-oauthlib<1.1,>=0.5 in /usr/local/lib/python3.10/dist-packages (from tensorboard<2.13,>=2.12->tensorflow~=2.2->urduhack[tf]) (1.0.0)\n",
            "Requirement already satisfied: werkzeug>=1.0.1 in /usr/local/lib/python3.10/dist-packages (from tensorboard<2.13,>=2.12->tensorflow~=2.2->urduhack[tf]) (2.3.0)\n",
            "Requirement already satisfied: typeguard<3.0.0,>=2.7 in /usr/local/lib/python3.10/dist-packages (from tensorflow-addons>=0.8.2->tf2crf->urduhack[tf]) (2.13.3)\n",
            "Requirement already satisfied: googleapis-common-protos<2,>=1.52.0 in /usr/local/lib/python3.10/dist-packages (from tensorflow-metadata->tensorflow-datasets~=3.1->urduhack[tf]) (1.59.0)\n",
            "Requirement already satisfied: cachetools<6.0,>=2.0.0 in /usr/local/lib/python3.10/dist-packages (from google-auth<3,>=1.6.3->tensorboard<2.13,>=2.12->tensorflow~=2.2->urduhack[tf]) (5.3.0)\n",
            "Requirement already satisfied: rsa<5,>=3.1.4 in /usr/local/lib/python3.10/dist-packages (from google-auth<3,>=1.6.3->tensorboard<2.13,>=2.12->tensorflow~=2.2->urduhack[tf]) (4.9)\n",
            "Requirement already satisfied: pyasn1-modules>=0.2.1 in /usr/local/lib/python3.10/dist-packages (from google-auth<3,>=1.6.3->tensorboard<2.13,>=2.12->tensorflow~=2.2->urduhack[tf]) (0.3.0)\n",
            "Requirement already satisfied: requests-oauthlib>=0.7.0 in /usr/local/lib/python3.10/dist-packages (from google-auth-oauthlib<1.1,>=0.5->tensorboard<2.13,>=2.12->tensorflow~=2.2->urduhack[tf]) (1.3.1)\n",
            "Requirement already satisfied: MarkupSafe>=2.1.1 in /usr/local/lib/python3.10/dist-packages (from werkzeug>=1.0.1->tensorboard<2.13,>=2.12->tensorflow~=2.2->urduhack[tf]) (2.1.2)\n",
            "Requirement already satisfied: pyasn1<0.6.0,>=0.4.6 in /usr/local/lib/python3.10/dist-packages (from pyasn1-modules>=0.2.1->google-auth<3,>=1.6.3->tensorboard<2.13,>=2.12->tensorflow~=2.2->urduhack[tf]) (0.5.0)\n",
            "Requirement already satisfied: oauthlib>=3.0.0 in /usr/local/lib/python3.10/dist-packages (from requests-oauthlib>=0.7.0->google-auth-oauthlib<1.1,>=0.5->tensorboard<2.13,>=2.12->tensorflow~=2.2->urduhack[tf]) (3.2.2)\n"
          ]
        }
      ]
    },
    {
      "cell_type": "code",
      "source": [
        "import pandas as pd\n",
        "# Read in the CSV file\n",
        "df = pd.read_csv(\"Copy of Clean Translated Annotated Data 12000 data (1).csv\")"
      ],
      "metadata": {
        "id": "cmKvObD7XdzP"
      },
      "execution_count": 7,
      "outputs": []
    },
    {
      "cell_type": "code",
      "source": [
        "df"
      ],
      "metadata": {
        "id": "shYfuYLSX2Zx",
        "colab": {
          "base_uri": "https://localhost:8080/",
          "height": 424
        },
        "outputId": "ba214e6b-5dff-4857-c552-b0dce11ce69d"
      },
      "execution_count": 8,
      "outputs": [
        {
          "output_type": "execute_result",
          "data": {
            "text/plain": [
              "                                                Sentence  Anger Disgust  Fear  \\\n",
              "0      اس فلم کے بارے میں مجھے مارا کہ سب سے پہلی چیز...    0.0       0   1.0   \n",
              "1      اس فلم کے ساتھ ایک بھی بڑا مسئلہ کسی بھی موقع ...    0.0       1   0.0   \n",
              "2      ایک بہت غریب سکرپٹ، ایک بہت برا اداکار، اور ای...    1.0       1   0.0   \n",
              "3      قدرتی طور پر کہانی تیار کرنے میں بہت خیال رکھن...    0.0       0   0.0   \n",
              "4      اور شاندار ٹیکنیکلر میں فلمایا. ریس خود بہت سن...    0.0       0   0.0   \n",
              "...                                                  ...    ...     ...   ...   \n",
              "11975  چھوٹے قد کی لڑکی اور شہد کی مکھی دونوں ہی بہت ...    0.0       0   0.0   \n",
              "11976  آپ جتنا سادہ ہو سکتے ہیں آپ یہ دیکھ کر حیران ر...    0.0       0   0.0   \n",
              "11977  صرف 2 دن جب کچھ نہیں کیا جا سکتا: کل اور کل۔ ا...    0.0       0   0.0   \n",
              "11978  شمالی آئرلینڈ میں کچھ بہترین نظارے ان لوگوں کو...    0.0       0   0.0   \n",
              "11979  آئیے یاد رکھیں کہ زندگی غیر متوقع ہے اور ہم نہ...    0.0       0   0.0   \n",
              "\n",
              "       Sadness  Surprise  Happiness  Emotion Score  \n",
              "0          0.0       0.0        0.0              3  \n",
              "1          0.0       0.0        0.0              2  \n",
              "2          0.0       0.0        0.0              7  \n",
              "3          0.0       1.0        1.0             11  \n",
              "4          0.0       1.0        0.0              5  \n",
              "...        ...       ...        ...            ...  \n",
              "11975      1.0       0.0        0.0              4  \n",
              "11976      0.0       0.0        1.0              6  \n",
              "11977      0.0       0.0        1.0              6  \n",
              "11978      0.0       0.0        1.0              6  \n",
              "11979      0.0       0.0        1.0              6  \n",
              "\n",
              "[11980 rows x 8 columns]"
            ],
            "text/html": [
              "\n",
              "  <div id=\"df-9880fe04-bfec-419b-9d4c-2f263267ecdd\">\n",
              "    <div class=\"colab-df-container\">\n",
              "      <div>\n",
              "<style scoped>\n",
              "    .dataframe tbody tr th:only-of-type {\n",
              "        vertical-align: middle;\n",
              "    }\n",
              "\n",
              "    .dataframe tbody tr th {\n",
              "        vertical-align: top;\n",
              "    }\n",
              "\n",
              "    .dataframe thead th {\n",
              "        text-align: right;\n",
              "    }\n",
              "</style>\n",
              "<table border=\"1\" class=\"dataframe\">\n",
              "  <thead>\n",
              "    <tr style=\"text-align: right;\">\n",
              "      <th></th>\n",
              "      <th>Sentence</th>\n",
              "      <th>Anger</th>\n",
              "      <th>Disgust</th>\n",
              "      <th>Fear</th>\n",
              "      <th>Sadness</th>\n",
              "      <th>Surprise</th>\n",
              "      <th>Happiness</th>\n",
              "      <th>Emotion Score</th>\n",
              "    </tr>\n",
              "  </thead>\n",
              "  <tbody>\n",
              "    <tr>\n",
              "      <th>0</th>\n",
              "      <td>اس فلم کے بارے میں مجھے مارا کہ سب سے پہلی چیز...</td>\n",
              "      <td>0.0</td>\n",
              "      <td>0</td>\n",
              "      <td>1.0</td>\n",
              "      <td>0.0</td>\n",
              "      <td>0.0</td>\n",
              "      <td>0.0</td>\n",
              "      <td>3</td>\n",
              "    </tr>\n",
              "    <tr>\n",
              "      <th>1</th>\n",
              "      <td>اس فلم کے ساتھ ایک بھی بڑا مسئلہ کسی بھی موقع ...</td>\n",
              "      <td>0.0</td>\n",
              "      <td>1</td>\n",
              "      <td>0.0</td>\n",
              "      <td>0.0</td>\n",
              "      <td>0.0</td>\n",
              "      <td>0.0</td>\n",
              "      <td>2</td>\n",
              "    </tr>\n",
              "    <tr>\n",
              "      <th>2</th>\n",
              "      <td>ایک بہت غریب سکرپٹ، ایک بہت برا اداکار، اور ای...</td>\n",
              "      <td>1.0</td>\n",
              "      <td>1</td>\n",
              "      <td>0.0</td>\n",
              "      <td>0.0</td>\n",
              "      <td>0.0</td>\n",
              "      <td>0.0</td>\n",
              "      <td>7</td>\n",
              "    </tr>\n",
              "    <tr>\n",
              "      <th>3</th>\n",
              "      <td>قدرتی طور پر کہانی تیار کرنے میں بہت خیال رکھن...</td>\n",
              "      <td>0.0</td>\n",
              "      <td>0</td>\n",
              "      <td>0.0</td>\n",
              "      <td>0.0</td>\n",
              "      <td>1.0</td>\n",
              "      <td>1.0</td>\n",
              "      <td>11</td>\n",
              "    </tr>\n",
              "    <tr>\n",
              "      <th>4</th>\n",
              "      <td>اور شاندار ٹیکنیکلر میں فلمایا. ریس خود بہت سن...</td>\n",
              "      <td>0.0</td>\n",
              "      <td>0</td>\n",
              "      <td>0.0</td>\n",
              "      <td>0.0</td>\n",
              "      <td>1.0</td>\n",
              "      <td>0.0</td>\n",
              "      <td>5</td>\n",
              "    </tr>\n",
              "    <tr>\n",
              "      <th>...</th>\n",
              "      <td>...</td>\n",
              "      <td>...</td>\n",
              "      <td>...</td>\n",
              "      <td>...</td>\n",
              "      <td>...</td>\n",
              "      <td>...</td>\n",
              "      <td>...</td>\n",
              "      <td>...</td>\n",
              "    </tr>\n",
              "    <tr>\n",
              "      <th>11975</th>\n",
              "      <td>چھوٹے قد کی لڑکی اور شہد کی مکھی دونوں ہی بہت ...</td>\n",
              "      <td>0.0</td>\n",
              "      <td>0</td>\n",
              "      <td>0.0</td>\n",
              "      <td>1.0</td>\n",
              "      <td>0.0</td>\n",
              "      <td>0.0</td>\n",
              "      <td>4</td>\n",
              "    </tr>\n",
              "    <tr>\n",
              "      <th>11976</th>\n",
              "      <td>آپ جتنا سادہ ہو سکتے ہیں آپ یہ دیکھ کر حیران ر...</td>\n",
              "      <td>0.0</td>\n",
              "      <td>0</td>\n",
              "      <td>0.0</td>\n",
              "      <td>0.0</td>\n",
              "      <td>0.0</td>\n",
              "      <td>1.0</td>\n",
              "      <td>6</td>\n",
              "    </tr>\n",
              "    <tr>\n",
              "      <th>11977</th>\n",
              "      <td>صرف 2 دن جب کچھ نہیں کیا جا سکتا: کل اور کل۔ ا...</td>\n",
              "      <td>0.0</td>\n",
              "      <td>0</td>\n",
              "      <td>0.0</td>\n",
              "      <td>0.0</td>\n",
              "      <td>0.0</td>\n",
              "      <td>1.0</td>\n",
              "      <td>6</td>\n",
              "    </tr>\n",
              "    <tr>\n",
              "      <th>11978</th>\n",
              "      <td>شمالی آئرلینڈ میں کچھ بہترین نظارے ان لوگوں کو...</td>\n",
              "      <td>0.0</td>\n",
              "      <td>0</td>\n",
              "      <td>0.0</td>\n",
              "      <td>0.0</td>\n",
              "      <td>0.0</td>\n",
              "      <td>1.0</td>\n",
              "      <td>6</td>\n",
              "    </tr>\n",
              "    <tr>\n",
              "      <th>11979</th>\n",
              "      <td>آئیے یاد رکھیں کہ زندگی غیر متوقع ہے اور ہم نہ...</td>\n",
              "      <td>0.0</td>\n",
              "      <td>0</td>\n",
              "      <td>0.0</td>\n",
              "      <td>0.0</td>\n",
              "      <td>0.0</td>\n",
              "      <td>1.0</td>\n",
              "      <td>6</td>\n",
              "    </tr>\n",
              "  </tbody>\n",
              "</table>\n",
              "<p>11980 rows × 8 columns</p>\n",
              "</div>\n",
              "      <button class=\"colab-df-convert\" onclick=\"convertToInteractive('df-9880fe04-bfec-419b-9d4c-2f263267ecdd')\"\n",
              "              title=\"Convert this dataframe to an interactive table.\"\n",
              "              style=\"display:none;\">\n",
              "        \n",
              "  <svg xmlns=\"http://www.w3.org/2000/svg\" height=\"24px\"viewBox=\"0 0 24 24\"\n",
              "       width=\"24px\">\n",
              "    <path d=\"M0 0h24v24H0V0z\" fill=\"none\"/>\n",
              "    <path d=\"M18.56 5.44l.94 2.06.94-2.06 2.06-.94-2.06-.94-.94-2.06-.94 2.06-2.06.94zm-11 1L8.5 8.5l.94-2.06 2.06-.94-2.06-.94L8.5 2.5l-.94 2.06-2.06.94zm10 10l.94 2.06.94-2.06 2.06-.94-2.06-.94-.94-2.06-.94 2.06-2.06.94z\"/><path d=\"M17.41 7.96l-1.37-1.37c-.4-.4-.92-.59-1.43-.59-.52 0-1.04.2-1.43.59L10.3 9.45l-7.72 7.72c-.78.78-.78 2.05 0 2.83L4 21.41c.39.39.9.59 1.41.59.51 0 1.02-.2 1.41-.59l7.78-7.78 2.81-2.81c.8-.78.8-2.07 0-2.86zM5.41 20L4 18.59l7.72-7.72 1.47 1.35L5.41 20z\"/>\n",
              "  </svg>\n",
              "      </button>\n",
              "      \n",
              "  <style>\n",
              "    .colab-df-container {\n",
              "      display:flex;\n",
              "      flex-wrap:wrap;\n",
              "      gap: 12px;\n",
              "    }\n",
              "\n",
              "    .colab-df-convert {\n",
              "      background-color: #E8F0FE;\n",
              "      border: none;\n",
              "      border-radius: 50%;\n",
              "      cursor: pointer;\n",
              "      display: none;\n",
              "      fill: #1967D2;\n",
              "      height: 32px;\n",
              "      padding: 0 0 0 0;\n",
              "      width: 32px;\n",
              "    }\n",
              "\n",
              "    .colab-df-convert:hover {\n",
              "      background-color: #E2EBFA;\n",
              "      box-shadow: 0px 1px 2px rgba(60, 64, 67, 0.3), 0px 1px 3px 1px rgba(60, 64, 67, 0.15);\n",
              "      fill: #174EA6;\n",
              "    }\n",
              "\n",
              "    [theme=dark] .colab-df-convert {\n",
              "      background-color: #3B4455;\n",
              "      fill: #D2E3FC;\n",
              "    }\n",
              "\n",
              "    [theme=dark] .colab-df-convert:hover {\n",
              "      background-color: #434B5C;\n",
              "      box-shadow: 0px 1px 3px 1px rgba(0, 0, 0, 0.15);\n",
              "      filter: drop-shadow(0px 1px 2px rgba(0, 0, 0, 0.3));\n",
              "      fill: #FFFFFF;\n",
              "    }\n",
              "  </style>\n",
              "\n",
              "      <script>\n",
              "        const buttonEl =\n",
              "          document.querySelector('#df-9880fe04-bfec-419b-9d4c-2f263267ecdd button.colab-df-convert');\n",
              "        buttonEl.style.display =\n",
              "          google.colab.kernel.accessAllowed ? 'block' : 'none';\n",
              "\n",
              "        async function convertToInteractive(key) {\n",
              "          const element = document.querySelector('#df-9880fe04-bfec-419b-9d4c-2f263267ecdd');\n",
              "          const dataTable =\n",
              "            await google.colab.kernel.invokeFunction('convertToInteractive',\n",
              "                                                     [key], {});\n",
              "          if (!dataTable) return;\n",
              "\n",
              "          const docLinkHtml = 'Like what you see? Visit the ' +\n",
              "            '<a target=\"_blank\" href=https://colab.research.google.com/notebooks/data_table.ipynb>data table notebook</a>'\n",
              "            + ' to learn more about interactive tables.';\n",
              "          element.innerHTML = '';\n",
              "          dataTable['output_type'] = 'display_data';\n",
              "          await google.colab.output.renderOutput(dataTable, element);\n",
              "          const docLink = document.createElement('div');\n",
              "          docLink.innerHTML = docLinkHtml;\n",
              "          element.appendChild(docLink);\n",
              "        }\n",
              "      </script>\n",
              "    </div>\n",
              "  </div>\n",
              "  "
            ]
          },
          "metadata": {},
          "execution_count": 8
        }
      ]
    },
    {
      "cell_type": "code",
      "source": [
        "\n",
        "df = df.sample(frac = 1)\n",
        "\n",
        "\n"
      ],
      "metadata": {
        "id": "wuoedBW8oZ6Z"
      },
      "execution_count": 9,
      "outputs": []
    },
    {
      "cell_type": "code",
      "source": [
        "df"
      ],
      "metadata": {
        "colab": {
          "base_uri": "https://localhost:8080/",
          "height": 424
        },
        "id": "8KKrxU0NomzU",
        "outputId": "747920ea-fc83-4525-e2a3-d170adbc3cb8"
      },
      "execution_count": 10,
      "outputs": [
        {
          "output_type": "execute_result",
          "data": {
            "text/plain": [
              "                                               Sentence  Anger Disgust  Fear  \\\n",
              "7230             کچھ معیاری کرکٹ کی بدولت لیکن قسمت بھی    0.0       0   0.0   \n",
              "232   پلیز ندیم صعب ہمارے پرایم منسٹر سے کلیں کہ لفظ...    0.0       0   0.0   \n",
              "2500  عمران خان کو حکومت سے ہٹانے کے بعد جب زرداری س...    1.0       1   0.0   \n",
              "5960  اک دانش نورانی اک دانش برہانی ہے دانش برہانی ح...    0.0       0   0.0   \n",
              "7164  سچ میں یہ ٹیلی ویژن کے بہترین شوز میں سے ایک ہ...    0.0       0   0.0   \n",
              "...                                                 ...    ...     ...   ...   \n",
              "8949  پاکستان کو پہلے اندر سے غدار دشمنوں کا خاتمہ ک...    0.0       1   0.0   \n",
              "3390  سید شھداءامام حسین علیہ السلام کچھ لوگ رغبت کے...    0.0       0   0.0   \n",
              "3430             یہ ہےانکی کاردگی عدلیہ بھی حیرت زدہ ہے    0.0       1   0.0   \n",
              "6865  بہت ہی تازگی بخش ہارر فلم میں یقینی طور پر اس ...    0.0       0   1.0   \n",
              "5780                                   اداسی چھا گئی ہے    0.0       0   0.0   \n",
              "\n",
              "      Sadness  Surprise  Happiness  Emotion Score  \n",
              "7230      0.0       0.0        1.0              6  \n",
              "232       0.0       0.0        0.0              0  \n",
              "2500      0.0       0.0        0.0              7  \n",
              "5960      0.0       1.0        0.0              5  \n",
              "7164      0.0       0.0        1.0              6  \n",
              "...       ...       ...        ...            ...  \n",
              "8949      0.0       0.0        0.0              2  \n",
              "3390      0.0       0.0        1.0              6  \n",
              "3430      0.0       0.0        0.0              2  \n",
              "6865      0.0       0.0        0.0              3  \n",
              "5780      1.0       0.0        0.0              4  \n",
              "\n",
              "[11980 rows x 8 columns]"
            ],
            "text/html": [
              "\n",
              "  <div id=\"df-ad4da91c-f3c1-4a01-8015-289c5afc3fe1\">\n",
              "    <div class=\"colab-df-container\">\n",
              "      <div>\n",
              "<style scoped>\n",
              "    .dataframe tbody tr th:only-of-type {\n",
              "        vertical-align: middle;\n",
              "    }\n",
              "\n",
              "    .dataframe tbody tr th {\n",
              "        vertical-align: top;\n",
              "    }\n",
              "\n",
              "    .dataframe thead th {\n",
              "        text-align: right;\n",
              "    }\n",
              "</style>\n",
              "<table border=\"1\" class=\"dataframe\">\n",
              "  <thead>\n",
              "    <tr style=\"text-align: right;\">\n",
              "      <th></th>\n",
              "      <th>Sentence</th>\n",
              "      <th>Anger</th>\n",
              "      <th>Disgust</th>\n",
              "      <th>Fear</th>\n",
              "      <th>Sadness</th>\n",
              "      <th>Surprise</th>\n",
              "      <th>Happiness</th>\n",
              "      <th>Emotion Score</th>\n",
              "    </tr>\n",
              "  </thead>\n",
              "  <tbody>\n",
              "    <tr>\n",
              "      <th>7230</th>\n",
              "      <td>کچھ معیاری کرکٹ کی بدولت لیکن قسمت بھی</td>\n",
              "      <td>0.0</td>\n",
              "      <td>0</td>\n",
              "      <td>0.0</td>\n",
              "      <td>0.0</td>\n",
              "      <td>0.0</td>\n",
              "      <td>1.0</td>\n",
              "      <td>6</td>\n",
              "    </tr>\n",
              "    <tr>\n",
              "      <th>232</th>\n",
              "      <td>پلیز ندیم صعب ہمارے پرایم منسٹر سے کلیں کہ لفظ...</td>\n",
              "      <td>0.0</td>\n",
              "      <td>0</td>\n",
              "      <td>0.0</td>\n",
              "      <td>0.0</td>\n",
              "      <td>0.0</td>\n",
              "      <td>0.0</td>\n",
              "      <td>0</td>\n",
              "    </tr>\n",
              "    <tr>\n",
              "      <th>2500</th>\n",
              "      <td>عمران خان کو حکومت سے ہٹانے کے بعد جب زرداری س...</td>\n",
              "      <td>1.0</td>\n",
              "      <td>1</td>\n",
              "      <td>0.0</td>\n",
              "      <td>0.0</td>\n",
              "      <td>0.0</td>\n",
              "      <td>0.0</td>\n",
              "      <td>7</td>\n",
              "    </tr>\n",
              "    <tr>\n",
              "      <th>5960</th>\n",
              "      <td>اک دانش نورانی اک دانش برہانی ہے دانش برہانی ح...</td>\n",
              "      <td>0.0</td>\n",
              "      <td>0</td>\n",
              "      <td>0.0</td>\n",
              "      <td>0.0</td>\n",
              "      <td>1.0</td>\n",
              "      <td>0.0</td>\n",
              "      <td>5</td>\n",
              "    </tr>\n",
              "    <tr>\n",
              "      <th>7164</th>\n",
              "      <td>سچ میں یہ ٹیلی ویژن کے بہترین شوز میں سے ایک ہ...</td>\n",
              "      <td>0.0</td>\n",
              "      <td>0</td>\n",
              "      <td>0.0</td>\n",
              "      <td>0.0</td>\n",
              "      <td>0.0</td>\n",
              "      <td>1.0</td>\n",
              "      <td>6</td>\n",
              "    </tr>\n",
              "    <tr>\n",
              "      <th>...</th>\n",
              "      <td>...</td>\n",
              "      <td>...</td>\n",
              "      <td>...</td>\n",
              "      <td>...</td>\n",
              "      <td>...</td>\n",
              "      <td>...</td>\n",
              "      <td>...</td>\n",
              "      <td>...</td>\n",
              "    </tr>\n",
              "    <tr>\n",
              "      <th>8949</th>\n",
              "      <td>پاکستان کو پہلے اندر سے غدار دشمنوں کا خاتمہ ک...</td>\n",
              "      <td>0.0</td>\n",
              "      <td>1</td>\n",
              "      <td>0.0</td>\n",
              "      <td>0.0</td>\n",
              "      <td>0.0</td>\n",
              "      <td>0.0</td>\n",
              "      <td>2</td>\n",
              "    </tr>\n",
              "    <tr>\n",
              "      <th>3390</th>\n",
              "      <td>سید شھداءامام حسین علیہ السلام کچھ لوگ رغبت کے...</td>\n",
              "      <td>0.0</td>\n",
              "      <td>0</td>\n",
              "      <td>0.0</td>\n",
              "      <td>0.0</td>\n",
              "      <td>0.0</td>\n",
              "      <td>1.0</td>\n",
              "      <td>6</td>\n",
              "    </tr>\n",
              "    <tr>\n",
              "      <th>3430</th>\n",
              "      <td>یہ ہےانکی کاردگی عدلیہ بھی حیرت زدہ ہے</td>\n",
              "      <td>0.0</td>\n",
              "      <td>1</td>\n",
              "      <td>0.0</td>\n",
              "      <td>0.0</td>\n",
              "      <td>0.0</td>\n",
              "      <td>0.0</td>\n",
              "      <td>2</td>\n",
              "    </tr>\n",
              "    <tr>\n",
              "      <th>6865</th>\n",
              "      <td>بہت ہی تازگی بخش ہارر فلم میں یقینی طور پر اس ...</td>\n",
              "      <td>0.0</td>\n",
              "      <td>0</td>\n",
              "      <td>1.0</td>\n",
              "      <td>0.0</td>\n",
              "      <td>0.0</td>\n",
              "      <td>0.0</td>\n",
              "      <td>3</td>\n",
              "    </tr>\n",
              "    <tr>\n",
              "      <th>5780</th>\n",
              "      <td>اداسی چھا گئی ہے</td>\n",
              "      <td>0.0</td>\n",
              "      <td>0</td>\n",
              "      <td>0.0</td>\n",
              "      <td>1.0</td>\n",
              "      <td>0.0</td>\n",
              "      <td>0.0</td>\n",
              "      <td>4</td>\n",
              "    </tr>\n",
              "  </tbody>\n",
              "</table>\n",
              "<p>11980 rows × 8 columns</p>\n",
              "</div>\n",
              "      <button class=\"colab-df-convert\" onclick=\"convertToInteractive('df-ad4da91c-f3c1-4a01-8015-289c5afc3fe1')\"\n",
              "              title=\"Convert this dataframe to an interactive table.\"\n",
              "              style=\"display:none;\">\n",
              "        \n",
              "  <svg xmlns=\"http://www.w3.org/2000/svg\" height=\"24px\"viewBox=\"0 0 24 24\"\n",
              "       width=\"24px\">\n",
              "    <path d=\"M0 0h24v24H0V0z\" fill=\"none\"/>\n",
              "    <path d=\"M18.56 5.44l.94 2.06.94-2.06 2.06-.94-2.06-.94-.94-2.06-.94 2.06-2.06.94zm-11 1L8.5 8.5l.94-2.06 2.06-.94-2.06-.94L8.5 2.5l-.94 2.06-2.06.94zm10 10l.94 2.06.94-2.06 2.06-.94-2.06-.94-.94-2.06-.94 2.06-2.06.94z\"/><path d=\"M17.41 7.96l-1.37-1.37c-.4-.4-.92-.59-1.43-.59-.52 0-1.04.2-1.43.59L10.3 9.45l-7.72 7.72c-.78.78-.78 2.05 0 2.83L4 21.41c.39.39.9.59 1.41.59.51 0 1.02-.2 1.41-.59l7.78-7.78 2.81-2.81c.8-.78.8-2.07 0-2.86zM5.41 20L4 18.59l7.72-7.72 1.47 1.35L5.41 20z\"/>\n",
              "  </svg>\n",
              "      </button>\n",
              "      \n",
              "  <style>\n",
              "    .colab-df-container {\n",
              "      display:flex;\n",
              "      flex-wrap:wrap;\n",
              "      gap: 12px;\n",
              "    }\n",
              "\n",
              "    .colab-df-convert {\n",
              "      background-color: #E8F0FE;\n",
              "      border: none;\n",
              "      border-radius: 50%;\n",
              "      cursor: pointer;\n",
              "      display: none;\n",
              "      fill: #1967D2;\n",
              "      height: 32px;\n",
              "      padding: 0 0 0 0;\n",
              "      width: 32px;\n",
              "    }\n",
              "\n",
              "    .colab-df-convert:hover {\n",
              "      background-color: #E2EBFA;\n",
              "      box-shadow: 0px 1px 2px rgba(60, 64, 67, 0.3), 0px 1px 3px 1px rgba(60, 64, 67, 0.15);\n",
              "      fill: #174EA6;\n",
              "    }\n",
              "\n",
              "    [theme=dark] .colab-df-convert {\n",
              "      background-color: #3B4455;\n",
              "      fill: #D2E3FC;\n",
              "    }\n",
              "\n",
              "    [theme=dark] .colab-df-convert:hover {\n",
              "      background-color: #434B5C;\n",
              "      box-shadow: 0px 1px 3px 1px rgba(0, 0, 0, 0.15);\n",
              "      filter: drop-shadow(0px 1px 2px rgba(0, 0, 0, 0.3));\n",
              "      fill: #FFFFFF;\n",
              "    }\n",
              "  </style>\n",
              "\n",
              "      <script>\n",
              "        const buttonEl =\n",
              "          document.querySelector('#df-ad4da91c-f3c1-4a01-8015-289c5afc3fe1 button.colab-df-convert');\n",
              "        buttonEl.style.display =\n",
              "          google.colab.kernel.accessAllowed ? 'block' : 'none';\n",
              "\n",
              "        async function convertToInteractive(key) {\n",
              "          const element = document.querySelector('#df-ad4da91c-f3c1-4a01-8015-289c5afc3fe1');\n",
              "          const dataTable =\n",
              "            await google.colab.kernel.invokeFunction('convertToInteractive',\n",
              "                                                     [key], {});\n",
              "          if (!dataTable) return;\n",
              "\n",
              "          const docLinkHtml = 'Like what you see? Visit the ' +\n",
              "            '<a target=\"_blank\" href=https://colab.research.google.com/notebooks/data_table.ipynb>data table notebook</a>'\n",
              "            + ' to learn more about interactive tables.';\n",
              "          element.innerHTML = '';\n",
              "          dataTable['output_type'] = 'display_data';\n",
              "          await google.colab.output.renderOutput(dataTable, element);\n",
              "          const docLink = document.createElement('div');\n",
              "          docLink.innerHTML = docLinkHtml;\n",
              "          element.appendChild(docLink);\n",
              "        }\n",
              "      </script>\n",
              "    </div>\n",
              "  </div>\n",
              "  "
            ]
          },
          "metadata": {},
          "execution_count": 10
        }
      ]
    },
    {
      "cell_type": "code",
      "source": [
        "sns.countplot( x = 'Emotion Score', data = df );"
      ],
      "metadata": {
        "colab": {
          "base_uri": "https://localhost:8080/",
          "height": 449
        },
        "id": "EUcfrHMFhZUR",
        "outputId": "5033c521-58a6-41cd-90ad-d34523961d2f"
      },
      "execution_count": 11,
      "outputs": [
        {
          "output_type": "display_data",
          "data": {
            "text/plain": [
              "<Figure size 640x480 with 1 Axes>"
            ],
            "image/png": "[encoded data removed]"
          },
          "metadata": {}
        }
      ]
    },
    {
      "cell_type": "code",
      "source": [
        "import urduhack\n",
        "urduhack.download()\n",
        "from urduhack.normalization import normalize\n",
        "from urduhack.preprocessing import normalize_whitespace, remove_punctuation, remove_accents, replace_urls, replace_emails, replace_numbers, replace_currency_symbols, remove_english_alphabets"
      ],
      "metadata": {
        "id": "WJXPKiMrZ39U",
        "colab": {
          "base_uri": "https://localhost:8080/"
        },
        "outputId": "e056ddbd-0576-42ca-c414-8d1e3f22c592"
      },
      "execution_count": 12,
      "outputs": [
        {
          "output_type": "stream",
          "name": "stderr",
          "text": [
            "/usr/local/lib/python3.10/dist-packages/tensorflow_addons/utils/tfa_eol_msg.py:23: UserWarning: \n",
            "\n",
            "TensorFlow Addons (TFA) has ended development and introduction of new features.\n",
            "TFA has entered a minimal maintenance and release mode until a planned end of life in May 2024.\n",
            "Please modify downstream libraries to take dependencies from other repositories in our TensorFlow community (e.g. Keras, Keras-CV, and Keras-NLP). \n",
            "\n",
            "For more information see: https://github.com/tensorflow/addons/issues/2807 \n",
            "\n",
            "  warnings.warn(\n"
          ]
        }
      ]
    },
    {
      "cell_type": "code",
      "source": [
        "df['Sentence'] = df['Sentence'].astype(str) # convert column to string type\n",
        "df['Sentence'] = df['Sentence'].apply(normalize) # apply normalize function to column\n"
      ],
      "metadata": {
        "id": "3uMGXzUwVZRA"
      },
      "execution_count": 13,
      "outputs": []
    },
    {
      "cell_type": "code",
      "source": [
        "df['Sentence'] = df['Sentence'].apply(normalize) # To normalize some text, all you need to do pass unicode text. It will return a str with normalized characters both single and combined, proper spaces after digits and punctuations and diacritics(Zabar - Paish) removed.\n",
        "# df['review'] = df['review'].apply(remove_punctuation) # Remove punctuation from text by removing all instances of marks. marks=',;:'\n",
        "df['Sentence'] = df['Sentence'].apply(remove_accents) # Remove accents from any accented unicode characters in text str, either by transforming them into ascii equivalents or removing them entirely.\n",
        "df['Sentence'] = df['Sentence'].apply(replace_urls) # Replace all URLs in text str with replace_with str.\n",
        "df['Sentence'] = df['Sentence'].apply(replace_emails) # Replace all emails in text str with replace_with str.\n",
        "# df['review'] = df['review'].apply(replace_numbers) # Replace all numbers in text str with replace_with str.\n",
        "df['Sentence'] = df['Sentence'].apply(replace_currency_symbols) # Replace all currency symbols in text str with string specified by replace_with str.\n",
        "# df['review'] = df['review'].apply(remove_english_alphabets) # Removes English words and digits from a text\n",
        "df['Sentence'] = df['Sentence'].apply(normalize_whitespace) ## Given text str, replace one or more spacings with a single space, and one or more linebreaks with a single newline. Also strip leading/trailing whitespace."
      ],
      "metadata": {
        "id": "ES1NauYhYbBg"
      },
      "execution_count": 14,
      "outputs": []
    },
    {
      "cell_type": "code",
      "source": [
        "# Remove stop words from text\n",
        "from typing import FrozenSet\n",
        "\n",
        "# Urdu Language Stop words list\n",
        "STOP_WORDS: FrozenSet[str] = frozenset(\"\"\"\n",
        " آ آئی آئیں آئے آتا آتی آتے آس آمدید آنا آنسہ آنی آنے آپ آگے آہ آہا آیا اب ابھی ابے\n",
        " ارے اس اسکا اسکی اسکے اسی اسے اف افوہ البتہ الف ان اندر انکا انکی انکے انہوں انہی انہیں اوئے اور اوپر\n",
        " اوہو اپ اپنا اپنوں اپنی اپنے اپنےآپ اکثر اگر اگرچہ اہاہا ایسا ایسی ایسے ایک بائیں بار بارے بالکل باوجود باہر\n",
        " بج بجے بخیر بشرطیکہ بعد بعض بغیر بلکہ بن بنا بناؤ بند بڑی بھر بھریں بھی بہت بہتر تاکہ تاہم تب تجھ\n",
        " تجھی تجھے ترا تری تلک تم تمام تمہارا تمہاروں تمہاری تمہارے تمہیں تو تک تھا تھی تھیں تھے تیرا تیری تیرے\n",
        " جا جاؤ جائیں جائے جاتا جاتی جاتے جانی جانے جب جبکہ جدھر جس جسے جن جناب جنہوں جنہیں جو جہاں جی جیسا\n",
        " جیسوں جیسی جیسے حالانکہ حالاں حصہ حضرت خاطر خالی خواہ خوب خود دائیں درمیان دریں دو دوران دوسرا دوسروں دوسری دوں\n",
        " دکھائیں دی دیئے دیا دیتا دیتی دیتے دیر دینا دینی دینے دیکھو دیں دیے دے ذریعے رکھا رکھتا رکھتی رکھتے رکھنا رکھنی\n",
        " رکھنے رکھو رکھی رکھے رہ رہا رہتا رہتی رہتے رہنا رہنی رہنے رہو رہی رہیں رہے ساتھ سامنے ساڑھے سب سبھی\n",
        " سراسر سمیت سوا سوائے سکا سکتا سکتے سہ سہی سی سے شاید شکریہ صاحب صاحبہ صرف ضرور طرح طرف طور علاوہ عین\n",
        " فقط فلاں فی قبل قطا لئے لائی لائے لاتا لاتی لاتے لانا لانی لانے لایا لو لوجی لوگوں لگ لگا لگتا\n",
        " لگتی لگی لگیں لگے لہذا لی لیا لیتا لیتی لیتے لیکن لیں لیے لے ماسوا مت مجھ مجھی مجھے محترم محترمہ محض\n",
        " مرا مرحبا مری مرے مزید مس مسز مسٹر مطابق مل مکرمی مگر مگھر مہربانی میرا میروں میری میرے میں نا نزدیک\n",
        " نما نہ نہیں نیز نیچے نے و وار واسطے واقعی والا والوں والی والے واہ وجہ ورنہ وغیرہ ولے وگرنہ وہ وہاں\n",
        " وہی وہیں ویسا ویسے ویں پاس پایا پر پس پلیز پون پونی پونے پھر پہ پہلا پہلی پہلے پیر پیچھے چاہئے\n",
        " چاہتے چاہیئے چاہے چلا چلو چلیں چلے چناچہ چند چونکہ چکی چکیں چکے ڈالنا ڈالنی ڈالنے ڈالے کئے کا کاش کب کبھی\n",
        " کدھر کر کرتا کرتی کرتے کرم کرنا کرنے کرو کریں کرے کس کسی کسے کم کن کنہیں کو کوئی کون کونسا\n",
        " کونسے کچھ کہ کہا کہاں کہہ کہی کہیں کہے کی کیا کیسا کیسے کیونکر کیونکہ کیوں کیے کے گئی گئے گا گنا\n",
        " گو گویا گی گیا ہائیں ہائے ہاں ہر ہرچند ہرگز ہم ہمارا ہماری ہمارے ہمی ہمیں ہو ہوئی ہوئیں ہوئے ہوا\n",
        " ہوبہو ہوتا ہوتی ہوتیں ہوتے ہونا ہونگے ہونی ہونے ہوں ہی ہیلو ہیں ہے یا یات یعنی یک یہ یہاں یہی یہیں\n",
        "\"\"\".split())\n",
        "\n",
        "\n",
        "def remove_stopwords(text: str):\n",
        "    return \" \".join(word for word in text.split() if word not in STOP_WORDS)"
      ],
      "metadata": {
        "id": "-bYFPBgPYbFD"
      },
      "execution_count": 15,
      "outputs": []
    },
    {
      "cell_type": "code",
      "source": [
        "len(STOP_WORDS)"
      ],
      "metadata": {
        "colab": {
          "base_uri": "https://localhost:8080/"
        },
        "id": "T9PN2MbYXWjC",
        "outputId": "e7088f87-4ddd-4b3a-a16e-f9259ae2424f"
      },
      "execution_count": 17,
      "outputs": [
        {
          "output_type": "execute_result",
          "data": {
            "text/plain": [
              "430"
            ]
          },
          "metadata": {},
          "execution_count": 17
        }
      ]
    },
    {
      "cell_type": "code",
      "source": [
        "df[['Sentence']].head(10)"
      ],
      "metadata": {
        "colab": {
          "base_uri": "https://localhost:8080/",
          "height": 363
        },
        "id": "3PpkygIEXWnv",
        "outputId": "3cd276d5-3ddd-4771-e6de-d541cd4ef619"
      },
      "execution_count": 16,
      "outputs": [
        {
          "output_type": "execute_result",
          "data": {
            "text/plain": [
              "                                               Sentence\n",
              "7230             کچھ معیاری کرکٹ کی بدولت لیکن قسمت بھی\n",
              "232   پلیز ندیم صعب ہمارے پرایم منسٹر سے کلیں کہ لفظ...\n",
              "2500  عمران خان کو حکومت سے ہٹانے کے بعد جب زرداری س...\n",
              "5960  اک دانش نورانی اک دانش برہانی ہے دانش برہانی ح...\n",
              "7164  سچ میں یہ ٹیلی ویژن کے بہترین شوز میں سے ایک ہ...\n",
              "9932  ہندوستان کے مسلمانوں ابھی وقت ہے اپنی آذادی چی...\n",
              "4700  محبت کی فیلینگز بھی کیا ھیں یار کبھی کبھی ایسے...\n",
              "2292  بھارت میں کووڈ نائنٹین اب تک کسی حقیقی بحران ک...\n",
              "9106  بس مودی بس تیرا ظلم انتہا کو پہنچ گیا، کشمیری ...\n",
              "3472  میں تو نیل پولش سے جوڑتا تھا کیونکہ جہاں نوٹوں..."
            ],
            "text/html": [
              "\n",
              "  <div id=\"df-d0de6fd6-695d-4e29-8300-445a10a9f6fa\">\n",
              "    <div class=\"colab-df-container\">\n",
              "      <div>\n",
              "<style scoped>\n",
              "    .dataframe tbody tr th:only-of-type {\n",
              "        vertical-align: middle;\n",
              "    }\n",
              "\n",
              "    .dataframe tbody tr th {\n",
              "        vertical-align: top;\n",
              "    }\n",
              "\n",
              "    .dataframe thead th {\n",
              "        text-align: right;\n",
              "    }\n",
              "</style>\n",
              "<table border=\"1\" class=\"dataframe\">\n",
              "  <thead>\n",
              "    <tr style=\"text-align: right;\">\n",
              "      <th></th>\n",
              "      <th>Sentence</th>\n",
              "    </tr>\n",
              "  </thead>\n",
              "  <tbody>\n",
              "    <tr>\n",
              "      <th>7230</th>\n",
              "      <td>کچھ معیاری کرکٹ کی بدولت لیکن قسمت بھی</td>\n",
              "    </tr>\n",
              "    <tr>\n",
              "      <th>232</th>\n",
              "      <td>پلیز ندیم صعب ہمارے پرایم منسٹر سے کلیں کہ لفظ...</td>\n",
              "    </tr>\n",
              "    <tr>\n",
              "      <th>2500</th>\n",
              "      <td>عمران خان کو حکومت سے ہٹانے کے بعد جب زرداری س...</td>\n",
              "    </tr>\n",
              "    <tr>\n",
              "      <th>5960</th>\n",
              "      <td>اک دانش نورانی اک دانش برہانی ہے دانش برہانی ح...</td>\n",
              "    </tr>\n",
              "    <tr>\n",
              "      <th>7164</th>\n",
              "      <td>سچ میں یہ ٹیلی ویژن کے بہترین شوز میں سے ایک ہ...</td>\n",
              "    </tr>\n",
              "    <tr>\n",
              "      <th>9932</th>\n",
              "      <td>ہندوستان کے مسلمانوں ابھی وقت ہے اپنی آذادی چی...</td>\n",
              "    </tr>\n",
              "    <tr>\n",
              "      <th>4700</th>\n",
              "      <td>محبت کی فیلینگز بھی کیا ھیں یار کبھی کبھی ایسے...</td>\n",
              "    </tr>\n",
              "    <tr>\n",
              "      <th>2292</th>\n",
              "      <td>بھارت میں کووڈ نائنٹین اب تک کسی حقیقی بحران ک...</td>\n",
              "    </tr>\n",
              "    <tr>\n",
              "      <th>9106</th>\n",
              "      <td>بس مودی بس تیرا ظلم انتہا کو پہنچ گیا، کشمیری ...</td>\n",
              "    </tr>\n",
              "    <tr>\n",
              "      <th>3472</th>\n",
              "      <td>میں تو نیل پولش سے جوڑتا تھا کیونکہ جہاں نوٹوں...</td>\n",
              "    </tr>\n",
              "  </tbody>\n",
              "</table>\n",
              "</div>\n",
              "      <button class=\"colab-df-convert\" onclick=\"convertToInteractive('df-d0de6fd6-695d-4e29-8300-445a10a9f6fa')\"\n",
              "              title=\"Convert this dataframe to an interactive table.\"\n",
              "              style=\"display:none;\">\n",
              "        \n",
              "  <svg xmlns=\"http://www.w3.org/2000/svg\" height=\"24px\"viewBox=\"0 0 24 24\"\n",
              "       width=\"24px\">\n",
              "    <path d=\"M0 0h24v24H0V0z\" fill=\"none\"/>\n",
              "    <path d=\"M18.56 5.44l.94 2.06.94-2.06 2.06-.94-2.06-.94-.94-2.06-.94 2.06-2.06.94zm-11 1L8.5 8.5l.94-2.06 2.06-.94-2.06-.94L8.5 2.5l-.94 2.06-2.06.94zm10 10l.94 2.06.94-2.06 2.06-.94-2.06-.94-.94-2.06-.94 2.06-2.06.94z\"/><path d=\"M17.41 7.96l-1.37-1.37c-.4-.4-.92-.59-1.43-.59-.52 0-1.04.2-1.43.59L10.3 9.45l-7.72 7.72c-.78.78-.78 2.05 0 2.83L4 21.41c.39.39.9.59 1.41.59.51 0 1.02-.2 1.41-.59l7.78-7.78 2.81-2.81c.8-.78.8-2.07 0-2.86zM5.41 20L4 18.59l7.72-7.72 1.47 1.35L5.41 20z\"/>\n",
              "  </svg>\n",
              "      </button>\n",
              "      \n",
              "  <style>\n",
              "    .colab-df-container {\n",
              "      display:flex;\n",
              "      flex-wrap:wrap;\n",
              "      gap: 12px;\n",
              "    }\n",
              "\n",
              "    .colab-df-convert {\n",
              "      background-color: #E8F0FE;\n",
              "      border: none;\n",
              "      border-radius: 50%;\n",
              "      cursor: pointer;\n",
              "      display: none;\n",
              "      fill: #1967D2;\n",
              "      height: 32px;\n",
              "      padding: 0 0 0 0;\n",
              "      width: 32px;\n",
              "    }\n",
              "\n",
              "    .colab-df-convert:hover {\n",
              "      background-color: #E2EBFA;\n",
              "      box-shadow: 0px 1px 2px rgba(60, 64, 67, 0.3), 0px 1px 3px 1px rgba(60, 64, 67, 0.15);\n",
              "      fill: #174EA6;\n",
              "    }\n",
              "\n",
              "    [theme=dark] .colab-df-convert {\n",
              "      background-color: #3B4455;\n",
              "      fill: #D2E3FC;\n",
              "    }\n",
              "\n",
              "    [theme=dark] .colab-df-convert:hover {\n",
              "      background-color: #434B5C;\n",
              "      box-shadow: 0px 1px 3px 1px rgba(0, 0, 0, 0.15);\n",
              "      filter: drop-shadow(0px 1px 2px rgba(0, 0, 0, 0.3));\n",
              "      fill: #FFFFFF;\n",
              "    }\n",
              "  </style>\n",
              "\n",
              "      <script>\n",
              "        const buttonEl =\n",
              "          document.querySelector('#df-d0de6fd6-695d-4e29-8300-445a10a9f6fa button.colab-df-convert');\n",
              "        buttonEl.style.display =\n",
              "          google.colab.kernel.accessAllowed ? 'block' : 'none';\n",
              "\n",
              "        async function convertToInteractive(key) {\n",
              "          const element = document.querySelector('#df-d0de6fd6-695d-4e29-8300-445a10a9f6fa');\n",
              "          const dataTable =\n",
              "            await google.colab.kernel.invokeFunction('convertToInteractive',\n",
              "                                                     [key], {});\n",
              "          if (!dataTable) return;\n",
              "\n",
              "          const docLinkHtml = 'Like what you see? Visit the ' +\n",
              "            '<a target=\"_blank\" href=https://colab.research.google.com/notebooks/data_table.ipynb>data table notebook</a>'\n",
              "            + ' to learn more about interactive tables.';\n",
              "          element.innerHTML = '';\n",
              "          dataTable['output_type'] = 'display_data';\n",
              "          await google.colab.output.renderOutput(dataTable, element);\n",
              "          const docLink = document.createElement('div');\n",
              "          docLink.innerHTML = docLinkHtml;\n",
              "          element.appendChild(docLink);\n",
              "        }\n",
              "      </script>\n",
              "    </div>\n",
              "  </div>\n",
              "  "
            ]
          },
          "metadata": {},
          "execution_count": 16
        }
      ]
    },
    {
      "cell_type": "code",
      "source": [
        "from urduhack.models.lemmatizer import lemmatizer\n",
        "def lemitizeStr(str):\n",
        "    lemme_str = \"\"\n",
        "    temp = lemmatizer.lemma_lookup(str)\n",
        "    for t in temp:\n",
        "        lemme_str += t[0] + \" \"\n",
        "    \n",
        "    return lemme_str"
      ],
      "metadata": {
        "id": "waLZ8wI7XWq4"
      },
      "execution_count": 18,
      "outputs": []
    },
    {
      "cell_type": "code",
      "source": [
        "df['Sentence'] =  df['Sentence'].apply(remove_stopwords)"
      ],
      "metadata": {
        "id": "12IMh0M7XWuS"
      },
      "execution_count": 19,
      "outputs": []
    },
    {
      "cell_type": "code",
      "source": [
        "df['lemmatized_text'] = df['Sentence'].apply(lemitizeStr)"
      ],
      "metadata": {
        "id": "DW0NQuL8adZS"
      },
      "execution_count": 20,
      "outputs": []
    },
    {
      "cell_type": "code",
      "source": [
        "df['Sentence'][2], df['lemmatized_text'][2]"
      ],
      "metadata": {
        "colab": {
          "base_uri": "https://localhost:8080/"
        },
        "id": "bg7qfnvIadc7",
        "outputId": "b734e4b5-a3b3-43be-a24f-a311fb1122b9"
      },
      "execution_count": 21,
      "outputs": [
        {
          "output_type": "execute_result",
          "data": {
            "text/plain": [
              "('غریب سکرپٹ، برا اداکار، بری فلم', 'غریب سکرپٹ، برا اداکار، بری فلم ')"
            ]
          },
          "metadata": {},
          "execution_count": 21
        }
      ]
    },
    {
      "cell_type": "code",
      "source": [
        "# Encode the labels\n",
        "le = LabelEncoder()\n",
        "le.fit(df['Emotion Score'])\n",
        "df['encoded_sentiments'] = le.transform(df['Emotion Score'])"
      ],
      "metadata": {
        "id": "zQuxduz4bEoD"
      },
      "execution_count": 22,
      "outputs": []
    },
    {
      "cell_type": "code",
      "source": [
        "X_train, X_test, Y_train, Y_test = train_test_split(df['lemmatized_text'], df['encoded_sentiments'], test_size = 0.30, random_state = 7, shuffle = True)"
      ],
      "metadata": {
        "id": "mLv86XzTazGb"
      },
      "execution_count": 23,
      "outputs": []
    },
    {
      "cell_type": "code",
      "source": [],
      "metadata": {
        "id": "dSfVD4ev1KYw"
      },
      "execution_count": 21,
      "outputs": []
    },
    {
      "cell_type": "code",
      "source": [
        "print('Shape of X_train', X_train.shape)\n",
        "print('Shape of X_test', X_test.shape)\n",
        "print('Shape of Y_train', Y_train.shape)\n",
        "print('Shape of Y_test', Y_test.shape)"
      ],
      "metadata": {
        "colab": {
          "base_uri": "https://localhost:8080/"
        },
        "id": "bjHHlK-jazJX",
        "outputId": "fc3c4b94-41d7-45b4-ca5d-6703791969f7"
      },
      "execution_count": 24,
      "outputs": [
        {
          "output_type": "stream",
          "name": "stdout",
          "text": [
            "Shape of X_train (8386,)\n",
            "Shape of X_test (3594,)\n",
            "Shape of Y_train (8386,)\n",
            "Shape of Y_test (3594,)\n"
          ]
        }
      ]
    },
    {
      "cell_type": "code",
      "source": [
        "max_feature_num = 500000\n",
        "vectorizer = TfidfVectorizer(max_features=max_feature_num)\n",
        "train_vecs = vectorizer.fit_transform(X_train)\n",
        "test_vecs = TfidfVectorizer(max_features=max_feature_num, vocabulary=vectorizer.vocabulary_).fit_transform(X_test)"
      ],
      "metadata": {
        "id": "oYI-9Or-azMZ"
      },
      "execution_count": 25,
      "outputs": []
    },
    {
      "cell_type": "code",
      "source": [
        "# check the dimensions of feature vectors\n",
        "train_vecs.shape, test_vecs.shape"
      ],
      "metadata": {
        "colab": {
          "base_uri": "https://localhost:8080/"
        },
        "id": "1icByiG2azPJ",
        "outputId": "00f35665-0d3f-4fdc-83f9-987229d91a44"
      },
      "execution_count": 26,
      "outputs": [
        {
          "output_type": "execute_result",
          "data": {
            "text/plain": [
              "((8386, 14267), (3594, 14267))"
            ]
          },
          "metadata": {},
          "execution_count": 26
        }
      ]
    },
    {
      "cell_type": "code",
      "source": [],
      "metadata": {
        "id": "6bxVA_Ez6H_P"
      },
      "execution_count": null,
      "outputs": []
    },
    {
      "cell_type": "markdown",
      "source": [
        "#Machine Learning Models"
      ],
      "metadata": {
        "id": "0VQFwtM4kYn5"
      }
    },
    {
      "cell_type": "code",
      "source": [
        "#SVM with hyperparameter\n",
        "from sklearn import svm\n",
        "from sklearn.metrics import classification_report, confusion_matrix\n",
        "from sklearn.model_selection import GridSearchCV\n",
        "from sklearn.pipeline import Pipeline\n",
        "from sklearn.feature_extraction.text import TfidfVectorizer\n",
        "\n",
        "# Convert train_vecs to list of strings\n",
        "train_docs = [str(doc) for doc in train_vecs]\n",
        "\n",
        "# Hyperparameter tuning\n",
        "pipeline = Pipeline([\n",
        "    ('tfidf', TfidfVectorizer()),\n",
        "    ('svm', svm.LinearSVC())\n",
        "])\n",
        "parameters = {\n",
        "    'svm__C': [0.1, 1, 10],\n",
        "    'svm__penalty': ['l1', 'l2']\n",
        "}\n",
        "grid_search = GridSearchCV(pipeline, parameters, cv=5)\n",
        "grid_search.fit(train_docs, Y_train)\n",
        "SVM = grid_search.best_estimator_\n",
        "\n",
        "# Convert test_vecs to list of strings\n",
        "test_docs = [str(doc) for doc in test_vecs]\n",
        "\n",
        "# Testing\n",
        "test_predictionSVM = SVM.predict(test_docs)\n",
        "print(classification_report(test_predictionSVM, Y_test))\n",
        "print(confusion_matrix(test_predictionSVM, Y_test))\n"
      ],
      "metadata": {
        "colab": {
          "base_uri": "https://localhost:8080/"
        },
        "id": "UHM26H3Z6JS2",
        "outputId": "533e8732-bdb5-45ea-e2fa-b5b43b78aadf"
      },
      "execution_count": 25,
      "outputs": [
        {
          "output_type": "stream",
          "name": "stderr",
          "text": [
            "/usr/local/lib/python3.10/dist-packages/sklearn/model_selection/_validation.py:378: FitFailedWarning: \n",
            "15 fits failed out of a total of 30.\n",
            "The score on these train-test partitions for these parameters will be set to nan.\n",
            "If these failures are not expected, you can try to debug them by setting error_score='raise'.\n",
            "\n",
            "Below are more details about the failures:\n",
            "--------------------------------------------------------------------------------\n",
            "15 fits failed with the following error:\n",
            "Traceback (most recent call last):\n",
            "  File \"/usr/local/lib/python3.10/dist-packages/sklearn/model_selection/_validation.py\", line 686, in _fit_and_score\n",
            "    estimator.fit(X_train, y_train, **fit_params)\n",
            "  File \"/usr/local/lib/python3.10/dist-packages/sklearn/pipeline.py\", line 405, in fit\n",
            "    self._final_estimator.fit(Xt, y, **fit_params_last_step)\n",
            "  File \"/usr/local/lib/python3.10/dist-packages/sklearn/svm/_classes.py\", line 274, in fit\n",
            "    self.coef_, self.intercept_, n_iter_ = _fit_liblinear(\n",
            "  File \"/usr/local/lib/python3.10/dist-packages/sklearn/svm/_base.py\", line 1223, in _fit_liblinear\n",
            "    solver_type = _get_liblinear_solver_type(multi_class, penalty, loss, dual)\n",
            "  File \"/usr/local/lib/python3.10/dist-packages/sklearn/svm/_base.py\", line 1062, in _get_liblinear_solver_type\n",
            "    raise ValueError(\n",
            "ValueError: Unsupported set of arguments: The combination of penalty='l1' and loss='squared_hinge' are not supported when dual=True, Parameters: penalty='l1', loss='squared_hinge', dual=True\n",
            "\n",
            "  warnings.warn(some_fits_failed_message, FitFailedWarning)\n",
            "/usr/local/lib/python3.10/dist-packages/sklearn/model_selection/_search.py:952: UserWarning: One or more of the test scores are non-finite: [       nan 0.39410918        nan 0.38909924        nan 0.37145102]\n",
            "  warnings.warn(\n"
          ]
        },
        {
          "output_type": "stream",
          "name": "stdout",
          "text": [
            "              precision    recall  f1-score   support\n",
            "\n",
            "           0       0.17      0.56      0.26        55\n",
            "           1       0.35      0.33      0.34       554\n",
            "           2       0.45      0.36      0.40       610\n",
            "           3       0.48      0.35      0.41       303\n",
            "           4       0.42      0.39      0.41       541\n",
            "           5       0.49      0.39      0.43       273\n",
            "           6       0.74      0.46      0.57       906\n",
            "           7       0.26      0.37      0.31       224\n",
            "           8       0.00      0.00      0.00         0\n",
            "           9       0.14      0.36      0.20        95\n",
            "          10       0.08      0.55      0.15        33\n",
            "          11       0.00      0.00      0.00         0\n",
            "\n",
            "    accuracy                           0.39      3594\n",
            "   macro avg       0.30      0.34      0.29      3594\n",
            "weighted avg       0.48      0.39      0.42      3594\n",
            "\n",
            "[[ 31   0   1   8   1   1   7   0   0   6   0   0]\n",
            " [ 10 183 181  17  39  11  15  62   5  17   9   5]\n",
            " [ 14 208 219  18  39   9  13  53   5  16  10   6]\n",
            " [ 25   9   5 107  31   9  40  21   4  43   6   3]\n",
            " [ 42  24  20  18 212  33  43  15   1  52  66  15]\n",
            " [  5  10  19   3   8 107  11  23   2   4  59  22]\n",
            " [ 48  52  28  33 133  33 418  51   1  49  26  34]\n",
            " [  7  33  14   4  18  10   7  83   3  24  16   5]\n",
            " [  0   0   0   0   0   0   0   0   0   0   0   0]\n",
            " [  1   3   2  14  12   6  12   7   1  34   3   0]\n",
            " [  1   0   0   0   9   1   1   2   0   1  18   0]\n",
            " [  0   0   0   0   0   0   0   0   0   0   0   0]]\n"
          ]
        },
        {
          "output_type": "stream",
          "name": "stderr",
          "text": [
            "/usr/local/lib/python3.10/dist-packages/sklearn/metrics/_classification.py:1344: UndefinedMetricWarning: Recall and F-score are ill-defined and being set to 0.0 in labels with no true samples. Use `zero_division` parameter to control this behavior.\n",
            "  _warn_prf(average, modifier, msg_start, len(result))\n",
            "/usr/local/lib/python3.10/dist-packages/sklearn/metrics/_classification.py:1344: UndefinedMetricWarning: Recall and F-score are ill-defined and being set to 0.0 in labels with no true samples. Use `zero_division` parameter to control this behavior.\n",
            "  _warn_prf(average, modifier, msg_start, len(result))\n",
            "/usr/local/lib/python3.10/dist-packages/sklearn/metrics/_classification.py:1344: UndefinedMetricWarning: Recall and F-score are ill-defined and being set to 0.0 in labels with no true samples. Use `zero_division` parameter to control this behavior.\n",
            "  _warn_prf(average, modifier, msg_start, len(result))\n"
          ]
        }
      ]
    },
    {
      "cell_type": "code",
      "source": [
        "#SVM\n",
        "def SVM_classifier(train_vecs, Y_train, test_vecs, Y_test):\n",
        "    # Training\n",
        "    SVM = svm.LinearSVC(max_iter=100)\n",
        "    SVM.fit(train_vecs, Y_train)\n",
        "\n",
        "    # Testing\n",
        "    test_predictionSVM = SVM.predict(test_vecs)\n",
        "    return classification_report(test_predictionSVM, Y_test), confusion_matrix(test_predictionSVM, Y_test)"
      ],
      "metadata": {
        "id": "Cl8Knq8IazSh"
      },
      "execution_count": 26,
      "outputs": []
    },
    {
      "cell_type": "code",
      "source": [
        "class_report , conf_matrix = SVM_classifier(train_vecs, Y_train, test_vecs, Y_test)\n",
        "print('Results of SVM CLASSIFIER on TF-IDF Vectorizer\\n')\n",
        "print(class_report)\n",
        "print(conf_matrix)"
      ],
      "metadata": {
        "colab": {
          "base_uri": "https://localhost:8080/"
        },
        "id": "CkGLt1Ln5Isb",
        "outputId": "94852f79-606f-447b-f75c-814f9b67d70b"
      },
      "execution_count": 25,
      "outputs": [
        {
          "output_type": "stream",
          "name": "stdout",
          "text": [
            "Results of SVM CLASSIFIER on TF-IDF Vectorizer\n",
            "\n",
            "              precision    recall  f1-score   support\n",
            "\n",
            "           0       0.21      0.37      0.27       107\n",
            "           1       0.34      0.32      0.33       517\n",
            "           2       0.40      0.35      0.37       557\n",
            "           3       0.42      0.38      0.40       224\n",
            "           4       0.40      0.37      0.39       544\n",
            "           5       0.37      0.35      0.36       262\n",
            "           6       0.62      0.48      0.54       734\n",
            "           7       0.31      0.32      0.32       287\n",
            "           8       0.09      0.60      0.15         5\n",
            "           9       0.22      0.33      0.26       172\n",
            "          10       0.21      0.29      0.25       158\n",
            "          11       0.05      0.19      0.08        27\n",
            "\n",
            "    accuracy                           0.37      3594\n",
            "   macro avg       0.30      0.36      0.31      3594\n",
            "weighted avg       0.40      0.37      0.38      3594\n",
            "\n",
            "[[ 40   7   2  11  14   4  14   3   0   6   5   1]\n",
            " [ 12 168 164   9  45  20  21  40   8  17   3  10]\n",
            " [  7 173 194  13  42  12  29  49   6  11  16   5]\n",
            " [ 14   5   6  86  20   7  27   9   2  39   6   3]\n",
            " [ 33  31  24  17 203  31  55  29   2  43  62  14]\n",
            " [ 14  21  13   5  17  92  16  18   0   9  32  25]\n",
            " [ 43  37  32  28  83  36 352  35   4  30  31  23]\n",
            " [ 11  40  32  11  19  14  19  93   7  34   5   2]\n",
            " [  0   0   2   0   0   0   0   0   3   0   0   0]\n",
            " [  7   8   7  21  21   5  17  17   2  57   8   2]\n",
            " [  8   2   3   5  35  24  11   8   0  13  46   3]\n",
            " [  2   2   5   0   4   2   5   0   0   1   1   5]]\n"
          ]
        }
      ]
    },
    {
      "cell_type": "code",
      "source": [],
      "metadata": {
        "id": "KXrDBv5T5Y_5"
      },
      "execution_count": 32,
      "outputs": []
    },
    {
      "cell_type": "code",
      "source": [
        "def LR_classifier(train_vecs, Y_train, test_vecs, Y_test):\n",
        "    # Training\n",
        "    LR = LogisticRegression()\n",
        "    LR.fit(train_vecs, Y_train)\n",
        "\n",
        "    # testing\n",
        "    test_predictionLR = LR.predict(test_vecs)\n",
        "    return classification_report(test_predictionLR, Y_test) , confusion_matrix(test_predictionLR, Y_test)"
      ],
      "metadata": {
        "id": "GxOTXlMqbsZW"
      },
      "execution_count": 27,
      "outputs": []
    },
    {
      "cell_type": "code",
      "source": [
        "class_report , conf_matrix = LR_classifier(train_vecs, Y_train, test_vecs, Y_test)\n",
        "print('Results of Logistic Regression Classifier on TF-IDF Vectorizer\\n')\n",
        "print(class_report)\n",
        "print(conf_matrix)"
      ],
      "metadata": {
        "colab": {
          "base_uri": "https://localhost:8080/"
        },
        "id": "0TuVyvo_qt1T",
        "outputId": "fe376b52-2125-4a7a-887d-40ecefb4d515"
      },
      "execution_count": 28,
      "outputs": [
        {
          "output_type": "stream",
          "name": "stdout",
          "text": [
            "Results of Logistic Regression Classifier on TF-IDF Vectorizer\n",
            "\n",
            "              precision    recall  f1-score   support\n",
            "\n",
            "           0       0.18      0.55      0.27        60\n",
            "           1       0.38      0.33      0.35       613\n",
            "           2       0.41      0.33      0.36       618\n",
            "           3       0.36      0.41      0.39       197\n",
            "           4       0.46      0.36      0.41       631\n",
            "           5       0.43      0.43      0.43       220\n",
            "           6       0.73      0.48      0.58       865\n",
            "           7       0.26      0.37      0.31       227\n",
            "           8       0.00      0.00      0.00         0\n",
            "           9       0.15      0.37      0.21        98\n",
            "          10       0.15      0.49      0.23        65\n",
            "          11       0.00      0.00      0.00         0\n",
            "\n",
            "    accuracy                           0.39      3594\n",
            "   macro avg       0.29      0.34      0.29      3594\n",
            "weighted avg       0.47      0.39      0.41      3594\n",
            "\n",
            "[[ 33   0   1  11   1   1   7   0   0   5   0   1]\n",
            " [ 12 200 199  19  43  16  17  65   5  20  12   5]\n",
            " [ 17 215 201  19  45  13  14  48   7  19  13   7]\n",
            " [ 18   5   3  81  17   4  24  10   2  27   4   2]\n",
            " [ 37  21  30  23 230  39  58  37   3  62  73  18]\n",
            " [  6   8  15   3   6  94   8  15   0   4  42  19]\n",
            " [ 48  35  23  44 115  30 416  48   1  46  26  33]\n",
            " [  8  30  14   8  19  12  11  84   3  25   9   4]\n",
            " [  0   0   0   0   0   0   0   0   0   0   0   0]\n",
            " [  2   8   2  14  12   5  10   6   1  36   2   0]\n",
            " [  3   0   1   0  14   6   2   4   0   2  32   1]\n",
            " [  0   0   0   0   0   0   0   0   0   0   0   0]]\n"
          ]
        },
        {
          "output_type": "stream",
          "name": "stderr",
          "text": [
            "/usr/local/lib/python3.10/dist-packages/sklearn/linear_model/_logistic.py:458: ConvergenceWarning: lbfgs failed to converge (status=1):\n",
            "STOP: TOTAL NO. of ITERATIONS REACHED LIMIT.\n",
            "\n",
            "Increase the number of iterations (max_iter) or scale the data as shown in:\n",
            "    https://scikit-learn.org/stable/modules/preprocessing.html\n",
            "Please also refer to the documentation for alternative solver options:\n",
            "    https://scikit-learn.org/stable/modules/linear_model.html#logistic-regression\n",
            "  n_iter_i = _check_optimize_result(\n",
            "/usr/local/lib/python3.10/dist-packages/sklearn/metrics/_classification.py:1344: UndefinedMetricWarning: Recall and F-score are ill-defined and being set to 0.0 in labels with no true samples. Use `zero_division` parameter to control this behavior.\n",
            "  _warn_prf(average, modifier, msg_start, len(result))\n",
            "/usr/local/lib/python3.10/dist-packages/sklearn/metrics/_classification.py:1344: UndefinedMetricWarning: Recall and F-score are ill-defined and being set to 0.0 in labels with no true samples. Use `zero_division` parameter to control this behavior.\n",
            "  _warn_prf(average, modifier, msg_start, len(result))\n",
            "/usr/local/lib/python3.10/dist-packages/sklearn/metrics/_classification.py:1344: UndefinedMetricWarning: Recall and F-score are ill-defined and being set to 0.0 in labels with no true samples. Use `zero_division` parameter to control this behavior.\n",
            "  _warn_prf(average, modifier, msg_start, len(result))\n"
          ]
        }
      ]
    },
    {
      "cell_type": "code",
      "source": [
        "#LR WITH HYPERPARAMETER\n",
        "# Import necessary libraries\n",
        "from sklearn.linear_model import LogisticRegression\n",
        "from sklearn.metrics import classification_report, confusion_matrix\n",
        "\n",
        "# Initialize logistic regression model\n",
        "LR = LogisticRegression(C=1.0, penalty='l2')\n",
        "\n",
        "# Fit model on training data\n",
        "LR.fit(train_vecs, Y_train)\n",
        "\n",
        "# Predict labels for test data\n",
        "test_predictionLR = LR.predict(test_vecs)\n",
        "\n",
        "# Evaluate performance using classification report and confusion matrix\n",
        "class_report = classification_report(Y_test, test_predictionLR)\n",
        "conf_matrix = confusion_matrix(Y_test, test_predictionLR)\n",
        "\n",
        "print('Results of Logistic Regression Classifier on TF-IDF Vectorizer\\n')\n",
        "print(class_report)\n",
        "print(conf_matrix)\n"
      ],
      "metadata": {
        "colab": {
          "base_uri": "https://localhost:8080/"
        },
        "id": "xHDAUcdLPuLM",
        "outputId": "239581df-e652-48c8-979c-b8ad26fcfdcb"
      },
      "execution_count": 29,
      "outputs": [
        {
          "output_type": "stream",
          "name": "stdout",
          "text": [
            "Results of Logistic Regression Classifier on TF-IDF Vectorizer\n",
            "\n",
            "              precision    recall  f1-score   support\n",
            "\n",
            "           0       0.55      0.18      0.27       184\n",
            "           1       0.33      0.38      0.35       522\n",
            "           2       0.33      0.41      0.36       489\n",
            "           3       0.41      0.36      0.39       222\n",
            "           4       0.36      0.46      0.41       502\n",
            "           5       0.43      0.43      0.43       220\n",
            "           6       0.48      0.73      0.58       567\n",
            "           7       0.37      0.26      0.31       317\n",
            "           8       0.00      0.00      0.00        22\n",
            "           9       0.37      0.15      0.21       246\n",
            "          10       0.49      0.15      0.23       213\n",
            "          11       0.00      0.00      0.00        90\n",
            "\n",
            "    accuracy                           0.39      3594\n",
            "   macro avg       0.34      0.29      0.29      3594\n",
            "weighted avg       0.39      0.39      0.37      3594\n",
            "\n",
            "[[ 33  12  17  18  37   6  48   8   0   2   3   0]\n",
            " [  0 200 215   5  21   8  35  30   0   8   0   0]\n",
            " [  1 199 201   3  30  15  23  14   0   2   1   0]\n",
            " [ 11  19  19  81  23   3  44   8   0  14   0   0]\n",
            " [  1  43  45  17 230   6 115  19   0  12  14   0]\n",
            " [  1  16  13   4  39  94  30  12   0   5   6   0]\n",
            " [  7  17  14  24  58   8 416  11   0  10   2   0]\n",
            " [  0  65  48  10  37  15  48  84   0   6   4   0]\n",
            " [  0   5   7   2   3   0   1   3   0   1   0   0]\n",
            " [  5  20  19  27  62   4  46  25   0  36   2   0]\n",
            " [  0  12  13   4  73  42  26   9   0   2  32   0]\n",
            " [  1   5   7   2  18  19  33   4   0   0   1   0]]\n"
          ]
        },
        {
          "output_type": "stream",
          "name": "stderr",
          "text": [
            "/usr/local/lib/python3.10/dist-packages/sklearn/linear_model/_logistic.py:458: ConvergenceWarning: lbfgs failed to converge (status=1):\n",
            "STOP: TOTAL NO. of ITERATIONS REACHED LIMIT.\n",
            "\n",
            "Increase the number of iterations (max_iter) or scale the data as shown in:\n",
            "    https://scikit-learn.org/stable/modules/preprocessing.html\n",
            "Please also refer to the documentation for alternative solver options:\n",
            "    https://scikit-learn.org/stable/modules/linear_model.html#logistic-regression\n",
            "  n_iter_i = _check_optimize_result(\n",
            "/usr/local/lib/python3.10/dist-packages/sklearn/metrics/_classification.py:1344: UndefinedMetricWarning: Precision and F-score are ill-defined and being set to 0.0 in labels with no predicted samples. Use `zero_division` parameter to control this behavior.\n",
            "  _warn_prf(average, modifier, msg_start, len(result))\n",
            "/usr/local/lib/python3.10/dist-packages/sklearn/metrics/_classification.py:1344: UndefinedMetricWarning: Precision and F-score are ill-defined and being set to 0.0 in labels with no predicted samples. Use `zero_division` parameter to control this behavior.\n",
            "  _warn_prf(average, modifier, msg_start, len(result))\n",
            "/usr/local/lib/python3.10/dist-packages/sklearn/metrics/_classification.py:1344: UndefinedMetricWarning: Precision and F-score are ill-defined and being set to 0.0 in labels with no predicted samples. Use `zero_division` parameter to control this behavior.\n",
            "  _warn_prf(average, modifier, msg_start, len(result))\n"
          ]
        }
      ]
    },
    {
      "cell_type": "code",
      "source": [
        "\n"
      ],
      "metadata": {
        "id": "J4pV2Si9_2xz"
      },
      "execution_count": 36,
      "outputs": []
    },
    {
      "cell_type": "code",
      "source": [
        "from sklearn.tree import DecisionTreeClassifier\n",
        "from sklearn.metrics import classification_report, confusion_matrix\n",
        "\n",
        "def DT_classifier(train_vecs, Y_train, test_vecs, Y_test):\n",
        "    # Training\n",
        "    DT = DecisionTreeClassifier(max_depth = 9, random_state = 23 )\n",
        "    DT.fit(train_vecs, Y_train)\n",
        "\n",
        "    # Testing\n",
        "    test_predictionDT = DT.predict(test_vecs)\n",
        "    return classification_report(test_predictionDT, Y_test), confusion_matrix(test_predictionDT, Y_test)\n",
        "\n",
        "# Example usage\n",
        "class_report, conf_matrix = DT_classifier(train_vecs, Y_train, test_vecs, Y_test)\n",
        "print('Results of Decision Tree Classifier\\n')\n",
        "print(class_report)\n",
        "print(conf_matrix)\n"
      ],
      "metadata": {
        "colab": {
          "base_uri": "https://localhost:8080/"
        },
        "id": "LR6xd8bopssA",
        "outputId": "671c5f9a-0906-4d97-82fe-ebfa2d947120"
      },
      "execution_count": 30,
      "outputs": [
        {
          "output_type": "stream",
          "name": "stdout",
          "text": [
            "Results of Decision Tree Classifier\n",
            "\n",
            "              precision    recall  f1-score   support\n",
            "\n",
            "           0       0.21      0.45      0.29        86\n",
            "           1       0.00      0.00      0.00         0\n",
            "           2       0.90      0.23      0.36      1939\n",
            "           3       0.40      0.26      0.31       338\n",
            "           4       0.28      0.55      0.37       253\n",
            "           5       0.37      0.38      0.37       213\n",
            "           6       0.31      0.51      0.38       342\n",
            "           7       0.28      0.25      0.27       358\n",
            "           8       0.00      0.00      0.00         0\n",
            "           9       0.04      0.61      0.08        18\n",
            "          10       0.09      0.45      0.15        42\n",
            "          11       0.01      0.20      0.02         5\n",
            "\n",
            "    accuracy                           0.30      3594\n",
            "   macro avg       0.24      0.32      0.22      3594\n",
            "weighted avg       0.63      0.30      0.35      3594\n",
            "\n",
            "[[ 39   5   4  18   9   1   6   0   0   0   3   1]\n",
            " [  0   0   0   0   0   0   0   0   0   0   0   0]\n",
            " [ 83 461 440  79 187  68 265 170  11 108  29  38]\n",
            " [ 18   8   7  88  48  11  52  25   3  62  13   3]\n",
            " [  8   0   2   0 139  19  17   1   0   6  52   9]\n",
            " [  3   6  18   2   7  81   3  19   0   1  56  17]\n",
            " [ 12  16   7   4  58  14 174  10   0  10  22  15]\n",
            " [ 17  26  11  28  46  14  45  90   8  48  19   6]\n",
            " [  0   0   0   0   0   0   0   0   0   0   0   0]\n",
            " [  0   0   0   3   1   0   2   1   0  11   0   0]\n",
            " [  4   0   0   0   7   9   2   1   0   0  19   0]\n",
            " [  0   0   0   0   0   3   1   0   0   0   0   1]]\n"
          ]
        },
        {
          "output_type": "stream",
          "name": "stderr",
          "text": [
            "/usr/local/lib/python3.10/dist-packages/sklearn/metrics/_classification.py:1344: UndefinedMetricWarning: Recall and F-score are ill-defined and being set to 0.0 in labels with no true samples. Use `zero_division` parameter to control this behavior.\n",
            "  _warn_prf(average, modifier, msg_start, len(result))\n",
            "/usr/local/lib/python3.10/dist-packages/sklearn/metrics/_classification.py:1344: UndefinedMetricWarning: Recall and F-score are ill-defined and being set to 0.0 in labels with no true samples. Use `zero_division` parameter to control this behavior.\n",
            "  _warn_prf(average, modifier, msg_start, len(result))\n",
            "/usr/local/lib/python3.10/dist-packages/sklearn/metrics/_classification.py:1344: UndefinedMetricWarning: Recall and F-score are ill-defined and being set to 0.0 in labels with no true samples. Use `zero_division` parameter to control this behavior.\n",
            "  _warn_prf(average, modifier, msg_start, len(result))\n"
          ]
        }
      ]
    },
    {
      "cell_type": "code",
      "source": [],
      "metadata": {
        "id": "c4ZKR5GtAqcA"
      },
      "execution_count": null,
      "outputs": []
    },
    {
      "cell_type": "code",
      "source": [],
      "metadata": {
        "id": "P4eg3X5SqDV9"
      },
      "execution_count": 31,
      "outputs": []
    },
    {
      "cell_type": "code",
      "source": [
        "from sklearn.tree import DecisionTreeClassifier\n",
        "from sklearn.model_selection import GridSearchCV\n",
        "\n",
        "def DT_classifier(train_vecs, Y_train, test_vecs, Y_test):\n",
        "    # Define the parameter grid to search\n",
        "    param_grid = {'max_depth': [5, 10, 15],\n",
        "                  'min_samples_split': [2, 5, 10]}\n",
        "\n",
        "    # Create a Decision Tree Classifier object\n",
        "    DT = DecisionTreeClassifier(random_state=23)\n",
        "\n",
        "    # Perform grid search cross-validation to find the best hyperparameters\n",
        "    clf = GridSearchCV(DT, param_grid, cv=5)\n",
        "    clf.fit(train_vecs, Y_train)\n",
        "\n",
        "    # Print the best hyperparameters and the corresponding accuracy\n",
        "    print(\"Best hyperparameters: \", clf.best_params_)\n",
        "    print(\"Best score: \", clf.best_score_)\n",
        "\n",
        "    # Use the best hyperparameters to train the model\n",
        "    DT = DecisionTreeClassifier(random_state=23, **clf.best_params_)\n",
        "    DT.fit(train_vecs, Y_train)\n",
        "\n",
        "    # Test the model and print the classification report and confusion matrix\n",
        "    test_predictionDT = DT.predict(test_vecs)\n",
        "    return classification_report(test_predictionDT, Y_test), confusion_matrix(test_predictionDT, Y_test)\n",
        "\n",
        "class_report, conf_matrix = DT_classifier(train_vecs, Y_train, test_vecs, Y_test)\n",
        "print('Results of Decision Tree Classifier on TF-IDF Vectorizer\\n')\n",
        "print(class_report)\n",
        "print(conf_matrix)\n"
      ],
      "metadata": {
        "colab": {
          "base_uri": "https://localhost:8080/"
        },
        "id": "DUpLOwE-qDdJ",
        "outputId": "9e5c50cc-bde7-43be-9ed5-03804ad053ad"
      },
      "execution_count": 31,
      "outputs": [
        {
          "output_type": "stream",
          "name": "stdout",
          "text": [
            "Best hyperparameters:  {'max_depth': 15, 'min_samples_split': 10}\n",
            "Best score:  0.3280466352950207\n",
            "Results of Decision Tree Classifier on TF-IDF Vectorizer\n",
            "\n",
            "              precision    recall  f1-score   support\n",
            "\n",
            "           0       0.17      0.53      0.26        58\n",
            "           1       0.07      0.36      0.12       107\n",
            "           2       0.80      0.24      0.37      1642\n",
            "           3       0.30      0.38      0.33       174\n",
            "           4       0.35      0.36      0.36       489\n",
            "           5       0.45      0.38      0.41       258\n",
            "           6       0.35      0.52      0.41       378\n",
            "           7       0.16      0.20      0.18       251\n",
            "           8       0.00      0.00      0.00         2\n",
            "           9       0.21      0.28      0.24       179\n",
            "          10       0.12      0.50      0.20        52\n",
            "          11       0.01      0.25      0.02         4\n",
            "\n",
            "    accuracy                           0.31      3594\n",
            "   macro avg       0.25      0.33      0.24      3594\n",
            "weighted avg       0.53      0.31      0.34      3594\n",
            "\n",
            "[[ 31   3   5   1   5   1   7   1   0   2   2   0]\n",
            " [  4  38  44   2   7   0   3   5   1   2   0   1]\n",
            " [ 57 411 392  62 164  48 212 156  10  73  28  29]\n",
            " [ 33   7   5  66  10   4  17   5   0  19   5   3]\n",
            " [ 18  13   7  30 178  27  48  44   3  46  63  12]\n",
            " [  9   7  16   3   7  99  12  22   0  10  50  23]\n",
            " [ 12  21   8   7  62  13 196  13   1  11  20  14]\n",
            " [ 14  15   6  26  33  14  40  50   6  31  12   4]\n",
            " [  0   0   0   0   1   0   0   0   0   1   0   0]\n",
            " [  3   6   5  24  23   9  28  20   1  51   6   3]\n",
            " [  3   0   1   1  12   5   3   1   0   0  26   0]\n",
            " [  0   1   0   0   0   0   1   0   0   0   1   1]]\n"
          ]
        }
      ]
    },
    {
      "cell_type": "code",
      "source": [
        "from sklearn.tree import DecisionTreeClassifier\n",
        "from sklearn.model_selection import GridSearchCV\n",
        "\n",
        "def DT_classifier(train_vecs, Y_train, test_vecs, Y_test):\n",
        "    # Define decision tree model\n",
        "    DT = DecisionTreeClassifier(random_state=23)\n",
        "\n",
        "    # Define parameter grid for grid search\n",
        "    param_grid = {'max_depth': [3, 5, 7, 9],\n",
        "                  'min_samples_split': [2, 5, 10],\n",
        "                  'criterion': ['gini', 'entropy']}\n",
        "\n",
        "    # Perform grid search\n",
        "    grid_search = GridSearchCV(DT, param_grid=param_grid, cv=5)\n",
        "    grid_search.fit(train_vecs, Y_train)\n",
        "\n",
        "    # Get best model\n",
        "    best_DT_model = grid_search.best_estimator_\n",
        "\n",
        "    # Make predictions on test set\n",
        "    test_predictionDT = best_DT_model.predict(test_vecs)\n",
        "\n",
        "    return classification_report(test_predictionDT, Y_test), confusion_matrix(test_predictionDT, Y_test)\n",
        "\n",
        "# Call DT classifier function\n",
        "class_report, conf_matrix = DT_classifier(train_vecs, Y_train, test_vecs, Y_test)\n",
        "\n",
        "# Print results\n",
        "print('Results of Decision Tree Classifier on TF-IDF Vectorizer\\n')\n",
        "print(class_report)\n",
        "print(conf_matrix)\n"
      ],
      "metadata": {
        "colab": {
          "base_uri": "https://localhost:8080/"
        },
        "id": "NqyBKXvS_Zej",
        "outputId": "b103f937-0223-451e-c0e0-a87825eb7d1f"
      },
      "execution_count": 32,
      "outputs": [
        {
          "output_type": "stream",
          "name": "stdout",
          "text": [
            "Results of Decision Tree Classifier on TF-IDF Vectorizer\n",
            "\n",
            "              precision    recall  f1-score   support\n",
            "\n",
            "           0       0.22      0.41      0.29       100\n",
            "           1       0.00      0.00      0.00         5\n",
            "           2       0.91      0.24      0.37      1884\n",
            "           3       0.30      0.35      0.32       193\n",
            "           4       0.23      0.51      0.32       228\n",
            "           5       0.45      0.37      0.41       269\n",
            "           6       0.27      0.51      0.35       297\n",
            "           7       0.27      0.25      0.26       347\n",
            "           8       0.00      0.00      0.00         0\n",
            "           9       0.24      0.29      0.26       207\n",
            "          10       0.07      0.25      0.11        61\n",
            "          11       0.01      0.33      0.02         3\n",
            "\n",
            "    accuracy                           0.30      3594\n",
            "   macro avg       0.25      0.29      0.23      3594\n",
            "weighted avg       0.61      0.30      0.34      3594\n",
            "\n",
            "[[ 41   7   2  18  15   4   6   0   0   1   5   1]\n",
            " [  0   0   1   1   0   0   0   0   0   0   3   0]\n",
            " [ 77 454 444  77 194  49 276 165  11  79  27  31]\n",
            " [ 12   5   5  67  22   7  25   8   3  31   6   2]\n",
            " [  8   1   1   2 116  15  17   4   0   9  46   9]\n",
            " [ 10   7  19   2   9 100  12  21   0  10  59  20]\n",
            " [ 12  10   2   2  51  13 152   9   1   9  23  13]\n",
            " [ 17  26  11  29  43  14  42  86   7  46  20   6]\n",
            " [  0   0   0   0   0   0   0   0   0   0   0   0]\n",
            " [  5  12   3  24  27   8  34  22   0  60   9   3]\n",
            " [  2   0   1   0  24  10   3   1   0   1  15   4]\n",
            " [  0   0   0   0   1   0   0   1   0   0   0   1]]\n"
          ]
        },
        {
          "output_type": "stream",
          "name": "stderr",
          "text": [
            "/usr/local/lib/python3.10/dist-packages/sklearn/metrics/_classification.py:1344: UndefinedMetricWarning: Recall and F-score are ill-defined and being set to 0.0 in labels with no true samples. Use `zero_division` parameter to control this behavior.\n",
            "  _warn_prf(average, modifier, msg_start, len(result))\n",
            "/usr/local/lib/python3.10/dist-packages/sklearn/metrics/_classification.py:1344: UndefinedMetricWarning: Recall and F-score are ill-defined and being set to 0.0 in labels with no true samples. Use `zero_division` parameter to control this behavior.\n",
            "  _warn_prf(average, modifier, msg_start, len(result))\n",
            "/usr/local/lib/python3.10/dist-packages/sklearn/metrics/_classification.py:1344: UndefinedMetricWarning: Recall and F-score are ill-defined and being set to 0.0 in labels with no true samples. Use `zero_division` parameter to control this behavior.\n",
            "  _warn_prf(average, modifier, msg_start, len(result))\n"
          ]
        }
      ]
    },
    {
      "cell_type": "code",
      "source": [],
      "metadata": {
        "id": "iIhjteyAI9zr"
      },
      "execution_count": null,
      "outputs": []
    },
    {
      "cell_type": "code",
      "source": [
        "def XGB_classifier(train_vecs, Y_train, test_vecs, Y_test):\n",
        "    # Training\n",
        "    XGB = xgb.XGBClassifier(colsample_bytree = 0.2, learning_rate = 0.01, n_estimators = 100)\n",
        "    XGB.fit(train_vecs, Y_train)\n",
        "\n",
        "    # Testing\n",
        "    test_predictionXGB = XGB.predict(test_vecs)\n",
        "    return classification_report(test_predictionXGB, Y_test), confusion_matrix(test_predictionXGB, Y_test)  "
      ],
      "metadata": {
        "id": "fcGvDOOCbsfq"
      },
      "execution_count": 33,
      "outputs": []
    },
    {
      "cell_type": "code",
      "source": [
        "class_report , conf_matrix = XGB_classifier(train_vecs, Y_train, test_vecs, Y_test)\n",
        "print('Results of Xgboost Classifier on TF-IDF Vectorizer\\n')\n",
        "print(class_report)\n",
        "print(conf_matrix)"
      ],
      "metadata": {
        "colab": {
          "base_uri": "https://localhost:8080/"
        },
        "id": "dgTh89YjZZan",
        "outputId": "cc50cc27-cf27-4a1e-c516-5c8b78740ca8"
      },
      "execution_count": 34,
      "outputs": [
        {
          "output_type": "stream",
          "name": "stdout",
          "text": [
            "Results of Xgboost Classifier on TF-IDF Vectorizer\n",
            "\n",
            "              precision    recall  f1-score   support\n",
            "\n",
            "           0       0.09      0.64      0.15        25\n",
            "           1       0.49      0.24      0.32      1052\n",
            "           2       0.34      0.34      0.34       484\n",
            "           3       0.23      0.61      0.34        85\n",
            "           4       0.40      0.37      0.39       547\n",
            "           5       0.40      0.42      0.41       212\n",
            "           6       0.69      0.38      0.49      1040\n",
            "           7       0.14      0.51      0.21        85\n",
            "           8       0.00      0.00      0.00         0\n",
            "           9       0.09      0.63      0.16        35\n",
            "          10       0.07      0.54      0.12        28\n",
            "          11       0.01      1.00      0.02         1\n",
            "\n",
            "    accuracy                           0.35      3594\n",
            "   macro avg       0.25      0.47      0.25      3594\n",
            "weighted avg       0.48      0.35      0.38      3594\n",
            "\n",
            "[[ 16   1   1   1   0   0   3   1   0   2   0   0]\n",
            " [ 31 255 252  43 106  42  99 118   9  58  20  19]\n",
            " [ 18 172 164   9  31   7  17  39   3  10   9   5]\n",
            " [  2   1   3  52   2   1   7   1   0  14   1   1]\n",
            " [ 62  20  17  28 202  35  40  13   1  46  70  13]\n",
            " [  6   7  15   3   4  89   4  16   0   4  49  15]\n",
            " [ 45  56  29  82 150  32 391  83   8  82  47  35]\n",
            " [  2   8   8   0   5   7   2  43   1   6   2   1]\n",
            " [  0   0   0   0   0   0   0   0   0   0   0   0]\n",
            " [  0   1   0   4   1   2   3   2   0  22   0   0]\n",
            " [  2   1   0   0   1   5   1   1   0   2  15   0]\n",
            " [  0   0   0   0   0   0   0   0   0   0   0   1]]\n"
          ]
        },
        {
          "output_type": "stream",
          "name": "stderr",
          "text": [
            "/usr/local/lib/python3.10/dist-packages/sklearn/metrics/_classification.py:1344: UndefinedMetricWarning: Recall and F-score are ill-defined and being set to 0.0 in labels with no true samples. Use `zero_division` parameter to control this behavior.\n",
            "  _warn_prf(average, modifier, msg_start, len(result))\n",
            "/usr/local/lib/python3.10/dist-packages/sklearn/metrics/_classification.py:1344: UndefinedMetricWarning: Recall and F-score are ill-defined and being set to 0.0 in labels with no true samples. Use `zero_division` parameter to control this behavior.\n",
            "  _warn_prf(average, modifier, msg_start, len(result))\n",
            "/usr/local/lib/python3.10/dist-packages/sklearn/metrics/_classification.py:1344: UndefinedMetricWarning: Recall and F-score are ill-defined and being set to 0.0 in labels with no true samples. Use `zero_division` parameter to control this behavior.\n",
            "  _warn_prf(average, modifier, msg_start, len(result))\n"
          ]
        }
      ]
    },
    {
      "cell_type": "code",
      "source": [
        "def RF_classifier(train_vecs, Y_train, test_vecs, Y_test):\n",
        "    # Training\n",
        "    RF = RandomForestClassifier(n_estimators = 450, max_depth=9, random_state=43)\n",
        "    RF.fit(train_vecs, Y_train)\n",
        "\n",
        "    # Testing\n",
        "    test_predictionRF = RF.predict(test_vecs)\n",
        "    return classification_report(test_predictionRF, Y_test), confusion_matrix(test_predictionRF, Y_test)"
      ],
      "metadata": {
        "id": "_zKMEptwb0xg"
      },
      "execution_count": 35,
      "outputs": []
    },
    {
      "cell_type": "code",
      "source": [
        "class_report , conf_matrix = RF_classifier(train_vecs, Y_train, test_vecs, Y_test)\n",
        "print('Results of Random Forest Classifier on TF-IDF Vectorizer\\n')\n",
        "print(class_report)\n",
        "print(conf_matrix)"
      ],
      "metadata": {
        "colab": {
          "base_uri": "https://localhost:8080/"
        },
        "id": "uhnOQrE5ZPFw",
        "outputId": "a0bbb81b-7438-4fa2-dba2-ea0a6f391e0d"
      },
      "execution_count": 36,
      "outputs": [
        {
          "output_type": "stream",
          "name": "stdout",
          "text": [
            "Results of Random Forest Classifier on TF-IDF Vectorizer\n",
            "\n",
            "              precision    recall  f1-score   support\n",
            "\n",
            "           0       0.00      0.00      0.00         0\n",
            "           1       0.28      0.33      0.30       409\n",
            "           2       0.24      0.44      0.31       262\n",
            "           3       0.00      0.33      0.01         3\n",
            "           4       0.37      0.39      0.38       479\n",
            "           5       0.00      0.00      0.00         0\n",
            "           6       0.93      0.22      0.35      2417\n",
            "           7       0.00      0.00      0.00         0\n",
            "           8       0.00      0.00      0.00         0\n",
            "           9       0.07      0.90      0.14        21\n",
            "          10       0.01      1.00      0.03         3\n",
            "          11       0.00      0.00      0.00         0\n",
            "\n",
            "    accuracy                           0.28      3594\n",
            "   macro avg       0.16      0.30      0.13      3594\n",
            "weighted avg       0.73      0.28      0.35      3594\n",
            "\n",
            "[[  0   0   0   0   0   0   0   0   0   0   0   0]\n",
            " [  5 137 147   8  35  10   8  32  10   7   6   4]\n",
            " [  1  96 115   7  12   6   3  14   4   1   2   1]\n",
            " [  0   0   0   1   0   0   0   0   0   2   0   0]\n",
            " [ 53  18  11  24 185  31  26  13   1  30  73  14]\n",
            " [  0   0   0   0   0   0   0   0   0   0   0   0]\n",
            " [131 243 211 166 270 200 529 242  19 201 131  74]\n",
            " [  0   0   0   0   0   0   0   0   0   0   0   0]\n",
            " [  0   0   0   0   0   0   0   0   0   0   0   0]\n",
            " [  1   0   0   0   1   0   0   0   0  19   0   0]\n",
            " [  0   0   0   0   0   0   0   0   0   0   3   0]\n",
            " [  0   0   0   0   0   0   0   0   0   0   0   0]]\n"
          ]
        },
        {
          "output_type": "stream",
          "name": "stderr",
          "text": [
            "/usr/local/lib/python3.10/dist-packages/sklearn/metrics/_classification.py:1344: UndefinedMetricWarning: Recall and F-score are ill-defined and being set to 0.0 in labels with no true samples. Use `zero_division` parameter to control this behavior.\n",
            "  _warn_prf(average, modifier, msg_start, len(result))\n",
            "/usr/local/lib/python3.10/dist-packages/sklearn/metrics/_classification.py:1344: UndefinedMetricWarning: Recall and F-score are ill-defined and being set to 0.0 in labels with no true samples. Use `zero_division` parameter to control this behavior.\n",
            "  _warn_prf(average, modifier, msg_start, len(result))\n",
            "/usr/local/lib/python3.10/dist-packages/sklearn/metrics/_classification.py:1344: UndefinedMetricWarning: Recall and F-score are ill-defined and being set to 0.0 in labels with no true samples. Use `zero_division` parameter to control this behavior.\n",
            "  _warn_prf(average, modifier, msg_start, len(result))\n"
          ]
        }
      ]
    },
    {
      "cell_type": "code",
      "source": [
        " #ENSEMBLE LEARNING\n",
        "from sklearn.ensemble import StackingClassifier, RandomForestClassifier, GradientBoostingClassifier\n",
        "from sklearn.tree import DecisionTreeClassifier\n",
        "from sklearn.metrics import classification_report, confusion_matrix\n",
        "\n",
        "# Create base classifiers\n",
        "rf = RandomForestClassifier(n_estimators=500, max_depth=20, random_state=42)\n",
        "gb = GradientBoostingClassifier(n_estimators=500, max_depth=20, random_state=42)\n",
        "dt = DecisionTreeClassifier()\n",
        "\n",
        "# Create meta classifier\n",
        "meta = DecisionTreeClassifier()\n",
        "\n",
        "# Create ensemble classifier with stacking\n",
        "ensemble = StackingClassifier(estimators=[('rf', rf), ('gb', gb)], final_estimator=meta)\n",
        "\n",
        "# Fit the ensemble classifier on the training data\n",
        "ensemble.fit(train_vecs, Y_train)\n",
        "\n",
        "# Make predictions on the test data\n",
        "test_prediction = ensemble.predict(test_vecs)\n",
        "\n",
        "# Evaluate the performance of the ensemble classifier\n",
        "class_report = classification_report(test_prediction, Y_test)\n",
        "conf_matrix = confusion_matrix(test_prediction, Y_test)\n",
        "\n",
        "# Print results\n",
        "print('Results of Ensemble Classifier on TF-IDF Vectorizer\\n')\n",
        "print(class_report)\n",
        "print(conf_matrix)\n"
      ],
      "metadata": {
        "id": "zYwT4Se2b002"
      },
      "execution_count": null,
      "outputs": []
    },
    {
      "cell_type": "code",
      "source": [
        "from sklearn.ensemble import RandomForestClassifier\n",
        "\n",
        "def RF_classifier(train_vecs, Y_train, test_vecs, Y_test):\n",
        "    # Training\n",
        "    RF = RandomForestClassifier(n_estimators=500, max_depth=20, random_state=42)\n",
        "    RF.fit(train_vecs, Y_train)\n",
        "\n",
        "    # Testing\n",
        "    test_predictionRF = RF.predict(test_vecs)\n",
        "    return classification_report(test_predictionRF, Y_test), confusion_matrix(test_predictionRF, Y_test)\n",
        "\n",
        "class_report, conf_matrix = RF_classifier(train_vecs, Y_train, test_vecs, Y_test)\n",
        "print('Results of Random Forest Classifier on TF-IDF Vectorizer\\n')\n",
        "print(class_report)\n",
        "print(conf_matrix)\n"
      ],
      "metadata": {
        "colab": {
          "base_uri": "https://localhost:8080/"
        },
        "id": "ZMmnOldyb7zc",
        "outputId": "62d04562-b639-4fb6-f44c-208a7be97127"
      },
      "execution_count": 35,
      "outputs": [
        {
          "output_type": "stream",
          "name": "stdout",
          "text": [
            "Results of Random Forest Classifier on TF-IDF Vectorizer\n",
            "\n",
            "              precision    recall  f1-score   support\n",
            "\n",
            "           0       0.00      0.00      0.00         0\n",
            "           1       0.28      0.31      0.30       475\n",
            "           2       0.38      0.37      0.38       507\n",
            "           3       0.10      0.82      0.18        28\n",
            "           4       0.45      0.33      0.38       691\n",
            "           5       0.12      0.45      0.19        58\n",
            "           6       0.88      0.28      0.43      1785\n",
            "           7       0.05      0.60      0.09        25\n",
            "           8       0.00      0.00      0.00         0\n",
            "           9       0.06      0.88      0.11        17\n",
            "          10       0.03      0.88      0.06         8\n",
            "          11       0.00      0.00      0.00         0\n",
            "\n",
            "    accuracy                           0.32      3594\n",
            "   macro avg       0.20      0.41      0.18      3594\n",
            "weighted avg       0.62      0.32      0.38      3594\n",
            "\n",
            "[[  0   0   0   0   0   0   0   0   0   0   0   0]\n",
            " [  7 148 143  21  28  19  19  56   3  14   7  10]\n",
            " [  9 180 188   8  29  13   5  42   5  10   9   9]\n",
            " [  0   0   0  23   1   0   0   0   0   4   0   0]\n",
            " [ 77  29  26  30 228  43  41  39   2  62  98  16]\n",
            " [  2   0   2   1   2  26   1   6   0   0  14   4]\n",
            " [ 89 162 129 137 212 117 501 159  12 138  78  51]\n",
            " [  0   3   1   0   2   1   0  15   0   3   0   0]\n",
            " [  0   0   0   0   0   0   0   0   0   0   0   0]\n",
            " [  0   0   0   2   0   0   0   0   0  15   0   0]\n",
            " [  0   0   0   0   0   1   0   0   0   0   7   0]\n",
            " [  0   0   0   0   0   0   0   0   0   0   0   0]]\n"
          ]
        },
        {
          "output_type": "stream",
          "name": "stderr",
          "text": [
            "/usr/local/lib/python3.10/dist-packages/sklearn/metrics/_classification.py:1344: UndefinedMetricWarning: Recall and F-score are ill-defined and being set to 0.0 in labels with no true samples. Use `zero_division` parameter to control this behavior.\n",
            "  _warn_prf(average, modifier, msg_start, len(result))\n",
            "/usr/local/lib/python3.10/dist-packages/sklearn/metrics/_classification.py:1344: UndefinedMetricWarning: Recall and F-score are ill-defined and being set to 0.0 in labels with no true samples. Use `zero_division` parameter to control this behavior.\n",
            "  _warn_prf(average, modifier, msg_start, len(result))\n",
            "/usr/local/lib/python3.10/dist-packages/sklearn/metrics/_classification.py:1344: UndefinedMetricWarning: Recall and F-score are ill-defined and being set to 0.0 in labels with no true samples. Use `zero_division` parameter to control this behavior.\n",
            "  _warn_prf(average, modifier, msg_start, len(result))\n"
          ]
        }
      ]
    },
    {
      "cell_type": "code",
      "source": [],
      "metadata": {
        "id": "W0By00Xub72K"
      },
      "execution_count": null,
      "outputs": []
    },
    {
      "cell_type": "code",
      "source": [
        "\n"
      ],
      "metadata": {
        "id": "7xz_lljy0zKf"
      },
      "execution_count": 43,
      "outputs": []
    },
    {
      "cell_type": "code",
      "source": [],
      "metadata": {
        "id": "uKj8rnLn0kc_",
        "outputId": "df356f2a-d99c-465f-a6e5-738ea3e117b0",
        "colab": {
          "base_uri": "https://localhost:8080/",
          "height": 380
        }
      },
      "execution_count": 45,
      "outputs": [
        {
          "output_type": "error",
          "ename": "ValueError",
          "evalue": "ignored",
          "traceback": [
            "\u001b[0;31m---------------------------------------------------------------------------\u001b[0m",
            "\u001b[0;31mValueError\u001b[0m                                Traceback (most recent call last)",
            "\u001b[0;32m<ipython-input-45-65c10ba98daf>\u001b[0m in \u001b[0;36m<cell line: 31>\u001b[0;34m()\u001b[0m\n\u001b[1;32m     29\u001b[0m \u001b[0mY_test\u001b[0m \u001b[0;34m=\u001b[0m \u001b[0mle\u001b[0m\u001b[0;34m.\u001b[0m\u001b[0mtransform\u001b[0m\u001b[0;34m(\u001b[0m\u001b[0mY_test\u001b[0m\u001b[0;34m)\u001b[0m\u001b[0;34m\u001b[0m\u001b[0;34m\u001b[0m\u001b[0m\n\u001b[1;32m     30\u001b[0m \u001b[0;31m# Fit the ensemble\u001b[0m\u001b[0;34m\u001b[0m\u001b[0;34m\u001b[0m\u001b[0m\n\u001b[0;32m---> 31\u001b[0;31m \u001b[0mensemble\u001b[0m\u001b[0;34m.\u001b[0m\u001b[0mfit\u001b[0m\u001b[0;34m(\u001b[0m\u001b[0mtrain_docs\u001b[0m\u001b[0;34m,\u001b[0m \u001b[0mY_train\u001b[0m\u001b[0;34m)\u001b[0m\u001b[0;34m\u001b[0m\u001b[0;34m\u001b[0m\u001b[0m\n\u001b[0m\u001b[1;32m     32\u001b[0m \u001b[0;34m\u001b[0m\u001b[0m\n\u001b[1;32m     33\u001b[0m \u001b[0;31m# Test the ensemble\u001b[0m\u001b[0;34m\u001b[0m\u001b[0;34m\u001b[0m\u001b[0m\n",
            "\u001b[0;32m/usr/local/lib/python3.10/dist-packages/sklearn/ensemble/_voting.py\u001b[0m in \u001b[0;36mfit\u001b[0;34m(self, X, y, sample_weight)\u001b[0m\n\u001b[1;32m    344\u001b[0m         \u001b[0mtransformed_y\u001b[0m \u001b[0;34m=\u001b[0m \u001b[0mself\u001b[0m\u001b[0;34m.\u001b[0m\u001b[0mle_\u001b[0m\u001b[0;34m.\u001b[0m\u001b[0mtransform\u001b[0m\u001b[0;34m(\u001b[0m\u001b[0my\u001b[0m\u001b[0;34m)\u001b[0m\u001b[0;34m\u001b[0m\u001b[0;34m\u001b[0m\u001b[0m\n\u001b[1;32m    345\u001b[0m \u001b[0;34m\u001b[0m\u001b[0m\n\u001b[0;32m--> 346\u001b[0;31m         \u001b[0;32mreturn\u001b[0m \u001b[0msuper\u001b[0m\u001b[0;34m(\u001b[0m\u001b[0;34m)\u001b[0m\u001b[0;34m.\u001b[0m\u001b[0mfit\u001b[0m\u001b[0;34m(\u001b[0m\u001b[0mX\u001b[0m\u001b[0;34m,\u001b[0m \u001b[0mtransformed_y\u001b[0m\u001b[0;34m,\u001b[0m \u001b[0msample_weight\u001b[0m\u001b[0;34m)\u001b[0m\u001b[0;34m\u001b[0m\u001b[0;34m\u001b[0m\u001b[0m\n\u001b[0m\u001b[1;32m    347\u001b[0m \u001b[0;34m\u001b[0m\u001b[0m\n\u001b[1;32m    348\u001b[0m     \u001b[0;32mdef\u001b[0m \u001b[0mpredict\u001b[0m\u001b[0;34m(\u001b[0m\u001b[0mself\u001b[0m\u001b[0;34m,\u001b[0m \u001b[0mX\u001b[0m\u001b[0;34m)\u001b[0m\u001b[0;34m:\u001b[0m\u001b[0;34m\u001b[0m\u001b[0;34m\u001b[0m\u001b[0m\n",
            "\u001b[0;32m/usr/local/lib/python3.10/dist-packages/sklearn/ensemble/_voting.py\u001b[0m in \u001b[0;36mfit\u001b[0;34m(self, X, y, sample_weight)\u001b[0m\n\u001b[1;32m     79\u001b[0m             )\n\u001b[1;32m     80\u001b[0m \u001b[0;34m\u001b[0m\u001b[0m\n\u001b[0;32m---> 81\u001b[0;31m         self.estimators_ = Parallel(n_jobs=self.n_jobs)(\n\u001b[0m\u001b[1;32m     82\u001b[0m             delayed(_fit_single_estimator)(\n\u001b[1;32m     83\u001b[0m                 \u001b[0mclone\u001b[0m\u001b[0;34m(\u001b[0m\u001b[0mclf\u001b[0m\u001b[0;34m)\u001b[0m\u001b[0;34m,\u001b[0m\u001b[0;34m\u001b[0m\u001b[0;34m\u001b[0m\u001b[0m\n",
            "\u001b[0;32m/usr/local/lib/python3.10/dist-packages/sklearn/utils/parallel.py\u001b[0m in \u001b[0;36m__call__\u001b[0;34m(self, iterable)\u001b[0m\n\u001b[1;32m     61\u001b[0m             \u001b[0;32mfor\u001b[0m \u001b[0mdelayed_func\u001b[0m\u001b[0;34m,\u001b[0m \u001b[0margs\u001b[0m\u001b[0;34m,\u001b[0m \u001b[0mkwargs\u001b[0m \u001b[0;32min\u001b[0m \u001b[0miterable\u001b[0m\u001b[0;34m\u001b[0m\u001b[0;34m\u001b[0m\u001b[0m\n\u001b[1;32m     62\u001b[0m         )\n\u001b[0;32m---> 63\u001b[0;31m         \u001b[0;32mreturn\u001b[0m \u001b[0msuper\u001b[0m\u001b[0;34m(\u001b[0m\u001b[0;34m)\u001b[0m\u001b[0;34m.\u001b[0m\u001b[0m__call__\u001b[0m\u001b[0;34m(\u001b[0m\u001b[0miterable_with_config\u001b[0m\u001b[0;34m)\u001b[0m\u001b[0;34m\u001b[0m\u001b[0;34m\u001b[0m\u001b[0m\n\u001b[0m\u001b[1;32m     64\u001b[0m \u001b[0;34m\u001b[0m\u001b[0m\n\u001b[1;32m     65\u001b[0m \u001b[0;34m\u001b[0m\u001b[0m\n",
            "\u001b[0;32m/usr/local/lib/python3.10/dist-packages/joblib/parallel.py\u001b[0m in \u001b[0;36m__call__\u001b[0;34m(self, iterable)\u001b[0m\n\u001b[1;32m   1083\u001b[0m             \u001b[0;31m# remaining jobs.\u001b[0m\u001b[0;34m\u001b[0m\u001b[0;34m\u001b[0m\u001b[0m\n\u001b[1;32m   1084\u001b[0m             \u001b[0mself\u001b[0m\u001b[0;34m.\u001b[0m\u001b[0m_iterating\u001b[0m \u001b[0;34m=\u001b[0m \u001b[0;32mFalse\u001b[0m\u001b[0;34m\u001b[0m\u001b[0;34m\u001b[0m\u001b[0m\n\u001b[0;32m-> 1085\u001b[0;31m             \u001b[0;32mif\u001b[0m \u001b[0mself\u001b[0m\u001b[0;34m.\u001b[0m\u001b[0mdispatch_one_batch\u001b[0m\u001b[0;34m(\u001b[0m\u001b[0miterator\u001b[0m\u001b[0;34m)\u001b[0m\u001b[0;34m:\u001b[0m\u001b[0;34m\u001b[0m\u001b[0;34m\u001b[0m\u001b[0m\n\u001b[0m\u001b[1;32m   1086\u001b[0m                 \u001b[0mself\u001b[0m\u001b[0;34m.\u001b[0m\u001b[0m_iterating\u001b[0m \u001b[0;34m=\u001b[0m \u001b[0mself\u001b[0m\u001b[0;34m.\u001b[0m\u001b[0m_original_iterator\u001b[0m \u001b[0;32mis\u001b[0m \u001b[0;32mnot\u001b[0m \u001b[0;32mNone\u001b[0m\u001b[0;34m\u001b[0m\u001b[0;34m\u001b[0m\u001b[0m\n\u001b[1;32m   1087\u001b[0m \u001b[0;34m\u001b[0m\u001b[0m\n",
            "\u001b[0;32m/usr/local/lib/python3.10/dist-packages/joblib/parallel.py\u001b[0m in \u001b[0;36mdispatch_one_batch\u001b[0;34m(self, iterator)\u001b[0m\n\u001b[1;32m    899\u001b[0m                 \u001b[0;32mreturn\u001b[0m \u001b[0;32mFalse\u001b[0m\u001b[0;34m\u001b[0m\u001b[0;34m\u001b[0m\u001b[0m\n\u001b[1;32m    900\u001b[0m             \u001b[0;32melse\u001b[0m\u001b[0;34m:\u001b[0m\u001b[0;34m\u001b[0m\u001b[0;34m\u001b[0m\u001b[0m\n\u001b[0;32m--> 901\u001b[0;31m                 \u001b[0mself\u001b[0m\u001b[0;34m.\u001b[0m\u001b[0m_dispatch\u001b[0m\u001b[0;34m(\u001b[0m\u001b[0mtasks\u001b[0m\u001b[0;34m)\u001b[0m\u001b[0;34m\u001b[0m\u001b[0;34m\u001b[0m\u001b[0m\n\u001b[0m\u001b[1;32m    902\u001b[0m                 \u001b[0;32mreturn\u001b[0m \u001b[0;32mTrue\u001b[0m\u001b[0;34m\u001b[0m\u001b[0;34m\u001b[0m\u001b[0m\n\u001b[1;32m    903\u001b[0m \u001b[0;34m\u001b[0m\u001b[0m\n",
            "\u001b[0;32m/usr/local/lib/python3.10/dist-packages/joblib/parallel.py\u001b[0m in \u001b[0;36m_dispatch\u001b[0;34m(self, batch)\u001b[0m\n\u001b[1;32m    817\u001b[0m         \u001b[0;32mwith\u001b[0m \u001b[0mself\u001b[0m\u001b[0;34m.\u001b[0m\u001b[0m_lock\u001b[0m\u001b[0;34m:\u001b[0m\u001b[0;34m\u001b[0m\u001b[0;34m\u001b[0m\u001b[0m\n\u001b[1;32m    818\u001b[0m             \u001b[0mjob_idx\u001b[0m \u001b[0;34m=\u001b[0m \u001b[0mlen\u001b[0m\u001b[0;34m(\u001b[0m\u001b[0mself\u001b[0m\u001b[0;34m.\u001b[0m\u001b[0m_jobs\u001b[0m\u001b[0;34m)\u001b[0m\u001b[0;34m\u001b[0m\u001b[0;34m\u001b[0m\u001b[0m\n\u001b[0;32m--> 819\u001b[0;31m             \u001b[0mjob\u001b[0m \u001b[0;34m=\u001b[0m \u001b[0mself\u001b[0m\u001b[0;34m.\u001b[0m\u001b[0m_backend\u001b[0m\u001b[0;34m.\u001b[0m\u001b[0mapply_async\u001b[0m\u001b[0;34m(\u001b[0m\u001b[0mbatch\u001b[0m\u001b[0;34m,\u001b[0m \u001b[0mcallback\u001b[0m\u001b[0;34m=\u001b[0m\u001b[0mcb\u001b[0m\u001b[0;34m)\u001b[0m\u001b[0;34m\u001b[0m\u001b[0;34m\u001b[0m\u001b[0m\n\u001b[0m\u001b[1;32m    820\u001b[0m             \u001b[0;31m# A job can complete so quickly than its callback is\u001b[0m\u001b[0;34m\u001b[0m\u001b[0;34m\u001b[0m\u001b[0m\n\u001b[1;32m    821\u001b[0m             \u001b[0;31m# called before we get here, causing self._jobs to\u001b[0m\u001b[0;34m\u001b[0m\u001b[0;34m\u001b[0m\u001b[0m\n",
            "\u001b[0;32m/usr/local/lib/python3.10/dist-packages/joblib/_parallel_backends.py\u001b[0m in \u001b[0;36mapply_async\u001b[0;34m(self, func, callback)\u001b[0m\n\u001b[1;32m    206\u001b[0m     \u001b[0;32mdef\u001b[0m \u001b[0mapply_async\u001b[0m\u001b[0;34m(\u001b[0m\u001b[0mself\u001b[0m\u001b[0;34m,\u001b[0m \u001b[0mfunc\u001b[0m\u001b[0;34m,\u001b[0m \u001b[0mcallback\u001b[0m\u001b[0;34m=\u001b[0m\u001b[0;32mNone\u001b[0m\u001b[0;34m)\u001b[0m\u001b[0;34m:\u001b[0m\u001b[0;34m\u001b[0m\u001b[0;34m\u001b[0m\u001b[0m\n\u001b[1;32m    207\u001b[0m         \u001b[0;34m\"\"\"Schedule a func to be run\"\"\"\u001b[0m\u001b[0;34m\u001b[0m\u001b[0;34m\u001b[0m\u001b[0m\n\u001b[0;32m--> 208\u001b[0;31m         \u001b[0mresult\u001b[0m \u001b[0;34m=\u001b[0m \u001b[0mImmediateResult\u001b[0m\u001b[0;34m(\u001b[0m\u001b[0mfunc\u001b[0m\u001b[0;34m)\u001b[0m\u001b[0;34m\u001b[0m\u001b[0;34m\u001b[0m\u001b[0m\n\u001b[0m\u001b[1;32m    209\u001b[0m         \u001b[0;32mif\u001b[0m \u001b[0mcallback\u001b[0m\u001b[0;34m:\u001b[0m\u001b[0;34m\u001b[0m\u001b[0;34m\u001b[0m\u001b[0m\n\u001b[1;32m    210\u001b[0m             \u001b[0mcallback\u001b[0m\u001b[0;34m(\u001b[0m\u001b[0mresult\u001b[0m\u001b[0;34m)\u001b[0m\u001b[0;34m\u001b[0m\u001b[0;34m\u001b[0m\u001b[0m\n",
            "\u001b[0;32m/usr/local/lib/python3.10/dist-packages/joblib/_parallel_backends.py\u001b[0m in \u001b[0;36m__init__\u001b[0;34m(self, batch)\u001b[0m\n\u001b[1;32m    595\u001b[0m         \u001b[0;31m# Don't delay the application, to avoid keeping the input\u001b[0m\u001b[0;34m\u001b[0m\u001b[0;34m\u001b[0m\u001b[0m\n\u001b[1;32m    596\u001b[0m         \u001b[0;31m# arguments in memory\u001b[0m\u001b[0;34m\u001b[0m\u001b[0;34m\u001b[0m\u001b[0m\n\u001b[0;32m--> 597\u001b[0;31m         \u001b[0mself\u001b[0m\u001b[0;34m.\u001b[0m\u001b[0mresults\u001b[0m \u001b[0;34m=\u001b[0m \u001b[0mbatch\u001b[0m\u001b[0;34m(\u001b[0m\u001b[0;34m)\u001b[0m\u001b[0;34m\u001b[0m\u001b[0;34m\u001b[0m\u001b[0m\n\u001b[0m\u001b[1;32m    598\u001b[0m \u001b[0;34m\u001b[0m\u001b[0m\n\u001b[1;32m    599\u001b[0m     \u001b[0;32mdef\u001b[0m \u001b[0mget\u001b[0m\u001b[0;34m(\u001b[0m\u001b[0mself\u001b[0m\u001b[0;34m)\u001b[0m\u001b[0;34m:\u001b[0m\u001b[0;34m\u001b[0m\u001b[0;34m\u001b[0m\u001b[0m\n",
            "\u001b[0;32m/usr/local/lib/python3.10/dist-packages/joblib/parallel.py\u001b[0m in \u001b[0;36m__call__\u001b[0;34m(self)\u001b[0m\n\u001b[1;32m    286\u001b[0m         \u001b[0;31m# change the default number of processes to -1\u001b[0m\u001b[0;34m\u001b[0m\u001b[0;34m\u001b[0m\u001b[0m\n\u001b[1;32m    287\u001b[0m         \u001b[0;32mwith\u001b[0m \u001b[0mparallel_backend\u001b[0m\u001b[0;34m(\u001b[0m\u001b[0mself\u001b[0m\u001b[0;34m.\u001b[0m\u001b[0m_backend\u001b[0m\u001b[0;34m,\u001b[0m \u001b[0mn_jobs\u001b[0m\u001b[0;34m=\u001b[0m\u001b[0mself\u001b[0m\u001b[0;34m.\u001b[0m\u001b[0m_n_jobs\u001b[0m\u001b[0;34m)\u001b[0m\u001b[0;34m:\u001b[0m\u001b[0;34m\u001b[0m\u001b[0;34m\u001b[0m\u001b[0m\n\u001b[0;32m--> 288\u001b[0;31m             return [func(*args, **kwargs)\n\u001b[0m\u001b[1;32m    289\u001b[0m                     for func, args, kwargs in self.items]\n\u001b[1;32m    290\u001b[0m \u001b[0;34m\u001b[0m\u001b[0m\n",
            "\u001b[0;32m/usr/local/lib/python3.10/dist-packages/joblib/parallel.py\u001b[0m in \u001b[0;36m<listcomp>\u001b[0;34m(.0)\u001b[0m\n\u001b[1;32m    286\u001b[0m         \u001b[0;31m# change the default number of processes to -1\u001b[0m\u001b[0;34m\u001b[0m\u001b[0;34m\u001b[0m\u001b[0m\n\u001b[1;32m    287\u001b[0m         \u001b[0;32mwith\u001b[0m \u001b[0mparallel_backend\u001b[0m\u001b[0;34m(\u001b[0m\u001b[0mself\u001b[0m\u001b[0;34m.\u001b[0m\u001b[0m_backend\u001b[0m\u001b[0;34m,\u001b[0m \u001b[0mn_jobs\u001b[0m\u001b[0;34m=\u001b[0m\u001b[0mself\u001b[0m\u001b[0;34m.\u001b[0m\u001b[0m_n_jobs\u001b[0m\u001b[0;34m)\u001b[0m\u001b[0;34m:\u001b[0m\u001b[0;34m\u001b[0m\u001b[0;34m\u001b[0m\u001b[0m\n\u001b[0;32m--> 288\u001b[0;31m             return [func(*args, **kwargs)\n\u001b[0m\u001b[1;32m    289\u001b[0m                     for func, args, kwargs in self.items]\n\u001b[1;32m    290\u001b[0m \u001b[0;34m\u001b[0m\u001b[0m\n",
            "\u001b[0;32m/usr/local/lib/python3.10/dist-packages/sklearn/utils/parallel.py\u001b[0m in \u001b[0;36m__call__\u001b[0;34m(self, *args, **kwargs)\u001b[0m\n\u001b[1;32m    121\u001b[0m             \u001b[0mconfig\u001b[0m \u001b[0;34m=\u001b[0m \u001b[0;34m{\u001b[0m\u001b[0;34m}\u001b[0m\u001b[0;34m\u001b[0m\u001b[0;34m\u001b[0m\u001b[0m\n\u001b[1;32m    122\u001b[0m         \u001b[0;32mwith\u001b[0m \u001b[0mconfig_context\u001b[0m\u001b[0;34m(\u001b[0m\u001b[0;34m**\u001b[0m\u001b[0mconfig\u001b[0m\u001b[0;34m)\u001b[0m\u001b[0;34m:\u001b[0m\u001b[0;34m\u001b[0m\u001b[0;34m\u001b[0m\u001b[0m\n\u001b[0;32m--> 123\u001b[0;31m             \u001b[0;32mreturn\u001b[0m \u001b[0mself\u001b[0m\u001b[0;34m.\u001b[0m\u001b[0mfunction\u001b[0m\u001b[0;34m(\u001b[0m\u001b[0;34m*\u001b[0m\u001b[0margs\u001b[0m\u001b[0;34m,\u001b[0m \u001b[0;34m**\u001b[0m\u001b[0mkwargs\u001b[0m\u001b[0;34m)\u001b[0m\u001b[0;34m\u001b[0m\u001b[0;34m\u001b[0m\u001b[0m\n\u001b[0m",
            "\u001b[0;32m/usr/local/lib/python3.10/dist-packages/sklearn/ensemble/_base.py\u001b[0m in \u001b[0;36m_fit_single_estimator\u001b[0;34m(estimator, X, y, sample_weight, message_clsname, message)\u001b[0m\n\u001b[1;32m     44\u001b[0m     \u001b[0;32melse\u001b[0m\u001b[0;34m:\u001b[0m\u001b[0;34m\u001b[0m\u001b[0;34m\u001b[0m\u001b[0m\n\u001b[1;32m     45\u001b[0m         \u001b[0;32mwith\u001b[0m \u001b[0m_print_elapsed_time\u001b[0m\u001b[0;34m(\u001b[0m\u001b[0mmessage_clsname\u001b[0m\u001b[0;34m,\u001b[0m \u001b[0mmessage\u001b[0m\u001b[0;34m)\u001b[0m\u001b[0;34m:\u001b[0m\u001b[0;34m\u001b[0m\u001b[0;34m\u001b[0m\u001b[0m\n\u001b[0;32m---> 46\u001b[0;31m             \u001b[0mestimator\u001b[0m\u001b[0;34m.\u001b[0m\u001b[0mfit\u001b[0m\u001b[0;34m(\u001b[0m\u001b[0mX\u001b[0m\u001b[0;34m,\u001b[0m \u001b[0my\u001b[0m\u001b[0;34m)\u001b[0m\u001b[0;34m\u001b[0m\u001b[0;34m\u001b[0m\u001b[0m\n\u001b[0m\u001b[1;32m     47\u001b[0m     \u001b[0;32mreturn\u001b[0m \u001b[0mestimator\u001b[0m\u001b[0;34m\u001b[0m\u001b[0;34m\u001b[0m\u001b[0m\n\u001b[1;32m     48\u001b[0m \u001b[0;34m\u001b[0m\u001b[0m\n",
            "\u001b[0;32m/usr/local/lib/python3.10/dist-packages/sklearn/svm/_classes.py\u001b[0m in \u001b[0;36mfit\u001b[0;34m(self, X, y, sample_weight)\u001b[0m\n\u001b[1;32m    261\u001b[0m         \u001b[0mself\u001b[0m\u001b[0;34m.\u001b[0m\u001b[0m_validate_params\u001b[0m\u001b[0;34m(\u001b[0m\u001b[0;34m)\u001b[0m\u001b[0;34m\u001b[0m\u001b[0;34m\u001b[0m\u001b[0m\n\u001b[1;32m    262\u001b[0m \u001b[0;34m\u001b[0m\u001b[0m\n\u001b[0;32m--> 263\u001b[0;31m         X, y = self._validate_data(\n\u001b[0m\u001b[1;32m    264\u001b[0m             \u001b[0mX\u001b[0m\u001b[0;34m,\u001b[0m\u001b[0;34m\u001b[0m\u001b[0;34m\u001b[0m\u001b[0m\n\u001b[1;32m    265\u001b[0m             \u001b[0my\u001b[0m\u001b[0;34m,\u001b[0m\u001b[0;34m\u001b[0m\u001b[0;34m\u001b[0m\u001b[0m\n",
            "\u001b[0;32m/usr/local/lib/python3.10/dist-packages/sklearn/base.py\u001b[0m in \u001b[0;36m_validate_data\u001b[0;34m(self, X, y, reset, validate_separately, **check_params)\u001b[0m\n\u001b[1;32m    582\u001b[0m                 \u001b[0my\u001b[0m \u001b[0;34m=\u001b[0m \u001b[0mcheck_array\u001b[0m\u001b[0;34m(\u001b[0m\u001b[0my\u001b[0m\u001b[0;34m,\u001b[0m \u001b[0minput_name\u001b[0m\u001b[0;34m=\u001b[0m\u001b[0;34m\"y\"\u001b[0m\u001b[0;34m,\u001b[0m \u001b[0;34m**\u001b[0m\u001b[0mcheck_y_params\u001b[0m\u001b[0;34m)\u001b[0m\u001b[0;34m\u001b[0m\u001b[0;34m\u001b[0m\u001b[0m\n\u001b[1;32m    583\u001b[0m             \u001b[0;32melse\u001b[0m\u001b[0;34m:\u001b[0m\u001b[0;34m\u001b[0m\u001b[0;34m\u001b[0m\u001b[0m\n\u001b[0;32m--> 584\u001b[0;31m                 \u001b[0mX\u001b[0m\u001b[0;34m,\u001b[0m \u001b[0my\u001b[0m \u001b[0;34m=\u001b[0m \u001b[0mcheck_X_y\u001b[0m\u001b[0;34m(\u001b[0m\u001b[0mX\u001b[0m\u001b[0;34m,\u001b[0m \u001b[0my\u001b[0m\u001b[0;34m,\u001b[0m \u001b[0;34m**\u001b[0m\u001b[0mcheck_params\u001b[0m\u001b[0;34m)\u001b[0m\u001b[0;34m\u001b[0m\u001b[0;34m\u001b[0m\u001b[0m\n\u001b[0m\u001b[1;32m    585\u001b[0m             \u001b[0mout\u001b[0m \u001b[0;34m=\u001b[0m \u001b[0mX\u001b[0m\u001b[0;34m,\u001b[0m \u001b[0my\u001b[0m\u001b[0;34m\u001b[0m\u001b[0;34m\u001b[0m\u001b[0m\n\u001b[1;32m    586\u001b[0m \u001b[0;34m\u001b[0m\u001b[0m\n",
            "\u001b[0;32m/usr/local/lib/python3.10/dist-packages/sklearn/utils/validation.py\u001b[0m in \u001b[0;36mcheck_X_y\u001b[0;34m(X, y, accept_sparse, accept_large_sparse, dtype, order, copy, force_all_finite, ensure_2d, allow_nd, multi_output, ensure_min_samples, ensure_min_features, y_numeric, estimator)\u001b[0m\n\u001b[1;32m   1104\u001b[0m         )\n\u001b[1;32m   1105\u001b[0m \u001b[0;34m\u001b[0m\u001b[0m\n\u001b[0;32m-> 1106\u001b[0;31m     X = check_array(\n\u001b[0m\u001b[1;32m   1107\u001b[0m         \u001b[0mX\u001b[0m\u001b[0;34m,\u001b[0m\u001b[0;34m\u001b[0m\u001b[0;34m\u001b[0m\u001b[0m\n\u001b[1;32m   1108\u001b[0m         \u001b[0maccept_sparse\u001b[0m\u001b[0;34m=\u001b[0m\u001b[0maccept_sparse\u001b[0m\u001b[0;34m,\u001b[0m\u001b[0;34m\u001b[0m\u001b[0;34m\u001b[0m\u001b[0m\n",
            "\u001b[0;32m/usr/local/lib/python3.10/dist-packages/sklearn/utils/validation.py\u001b[0m in \u001b[0;36mcheck_array\u001b[0;34m(array, accept_sparse, accept_large_sparse, dtype, order, copy, force_all_finite, ensure_2d, allow_nd, ensure_min_samples, ensure_min_features, estimator, input_name)\u001b[0m\n\u001b[1;32m    877\u001b[0m                     \u001b[0marray\u001b[0m \u001b[0;34m=\u001b[0m \u001b[0mxp\u001b[0m\u001b[0;34m.\u001b[0m\u001b[0mastype\u001b[0m\u001b[0;34m(\u001b[0m\u001b[0marray\u001b[0m\u001b[0;34m,\u001b[0m \u001b[0mdtype\u001b[0m\u001b[0;34m,\u001b[0m \u001b[0mcopy\u001b[0m\u001b[0;34m=\u001b[0m\u001b[0;32mFalse\u001b[0m\u001b[0;34m)\u001b[0m\u001b[0;34m\u001b[0m\u001b[0;34m\u001b[0m\u001b[0m\n\u001b[1;32m    878\u001b[0m                 \u001b[0;32melse\u001b[0m\u001b[0;34m:\u001b[0m\u001b[0;34m\u001b[0m\u001b[0;34m\u001b[0m\u001b[0m\n\u001b[0;32m--> 879\u001b[0;31m                     \u001b[0marray\u001b[0m \u001b[0;34m=\u001b[0m \u001b[0m_asarray_with_order\u001b[0m\u001b[0;34m(\u001b[0m\u001b[0marray\u001b[0m\u001b[0;34m,\u001b[0m \u001b[0morder\u001b[0m\u001b[0;34m=\u001b[0m\u001b[0morder\u001b[0m\u001b[0;34m,\u001b[0m \u001b[0mdtype\u001b[0m\u001b[0;34m=\u001b[0m\u001b[0mdtype\u001b[0m\u001b[0;34m,\u001b[0m \u001b[0mxp\u001b[0m\u001b[0;34m=\u001b[0m\u001b[0mxp\u001b[0m\u001b[0;34m)\u001b[0m\u001b[0;34m\u001b[0m\u001b[0;34m\u001b[0m\u001b[0m\n\u001b[0m\u001b[1;32m    880\u001b[0m             \u001b[0;32mexcept\u001b[0m \u001b[0mComplexWarning\u001b[0m \u001b[0;32mas\u001b[0m \u001b[0mcomplex_warning\u001b[0m\u001b[0;34m:\u001b[0m\u001b[0;34m\u001b[0m\u001b[0;34m\u001b[0m\u001b[0m\n\u001b[1;32m    881\u001b[0m                 raise ValueError(\n",
            "\u001b[0;32m/usr/local/lib/python3.10/dist-packages/sklearn/utils/_array_api.py\u001b[0m in \u001b[0;36m_asarray_with_order\u001b[0;34m(array, dtype, order, copy, xp)\u001b[0m\n\u001b[1;32m    183\u001b[0m     \u001b[0;32mif\u001b[0m \u001b[0mxp\u001b[0m\u001b[0;34m.\u001b[0m\u001b[0m__name__\u001b[0m \u001b[0;32min\u001b[0m \u001b[0;34m{\u001b[0m\u001b[0;34m\"numpy\"\u001b[0m\u001b[0;34m,\u001b[0m \u001b[0;34m\"numpy.array_api\"\u001b[0m\u001b[0;34m}\u001b[0m\u001b[0;34m:\u001b[0m\u001b[0;34m\u001b[0m\u001b[0;34m\u001b[0m\u001b[0m\n\u001b[1;32m    184\u001b[0m         \u001b[0;31m# Use NumPy API to support order\u001b[0m\u001b[0;34m\u001b[0m\u001b[0;34m\u001b[0m\u001b[0m\n\u001b[0;32m--> 185\u001b[0;31m         \u001b[0marray\u001b[0m \u001b[0;34m=\u001b[0m \u001b[0mnumpy\u001b[0m\u001b[0;34m.\u001b[0m\u001b[0masarray\u001b[0m\u001b[0;34m(\u001b[0m\u001b[0marray\u001b[0m\u001b[0;34m,\u001b[0m \u001b[0morder\u001b[0m\u001b[0;34m=\u001b[0m\u001b[0morder\u001b[0m\u001b[0;34m,\u001b[0m \u001b[0mdtype\u001b[0m\u001b[0;34m=\u001b[0m\u001b[0mdtype\u001b[0m\u001b[0;34m)\u001b[0m\u001b[0;34m\u001b[0m\u001b[0;34m\u001b[0m\u001b[0m\n\u001b[0m\u001b[1;32m    186\u001b[0m         \u001b[0;32mreturn\u001b[0m \u001b[0mxp\u001b[0m\u001b[0;34m.\u001b[0m\u001b[0masarray\u001b[0m\u001b[0;34m(\u001b[0m\u001b[0marray\u001b[0m\u001b[0;34m,\u001b[0m \u001b[0mcopy\u001b[0m\u001b[0;34m=\u001b[0m\u001b[0mcopy\u001b[0m\u001b[0;34m)\u001b[0m\u001b[0;34m\u001b[0m\u001b[0;34m\u001b[0m\u001b[0m\n\u001b[1;32m    187\u001b[0m     \u001b[0;32melse\u001b[0m\u001b[0;34m:\u001b[0m\u001b[0;34m\u001b[0m\u001b[0;34m\u001b[0m\u001b[0m\n",
            "\u001b[0;31mValueError\u001b[0m: could not convert string to float: 'موت ڈر آخری سانس لٸے حرام ہوگا ہتھیار ڈال ارطغرلغازی '"
          ]
        }
      ]
    },
    {
      "cell_type": "code",
      "source": [],
      "metadata": {
        "id": "vNITrd4J1913",
        "outputId": "09aa6840-76fd-4e8d-c7e3-bd02b8e4425e",
        "colab": {
          "base_uri": "https://localhost:8080/",
          "height": 235
        }
      },
      "execution_count": 50,
      "outputs": [
        {
          "output_type": "error",
          "ename": "NameError",
          "evalue": "ignored",
          "traceback": [
            "\u001b[0;31m---------------------------------------------------------------------------\u001b[0m",
            "\u001b[0;31mNameError\u001b[0m                                 Traceback (most recent call last)",
            "\u001b[0;32m<ipython-input-50-c89a5551258f>\u001b[0m in \u001b[0;36m<cell line: 10>\u001b[0;34m()\u001b[0m\n\u001b[1;32m      8\u001b[0m \u001b[0;34m\u001b[0m\u001b[0m\n\u001b[1;32m      9\u001b[0m \u001b[0;31m# Transform the corpus of text into a TF-IDF matrix\u001b[0m\u001b[0;34m\u001b[0m\u001b[0;34m\u001b[0m\u001b[0m\n\u001b[0;32m---> 10\u001b[0;31m \u001b[0mX\u001b[0m \u001b[0;34m=\u001b[0m \u001b[0mvectorizer\u001b[0m\u001b[0;34m.\u001b[0m\u001b[0mfit_transform\u001b[0m\u001b[0;34m(\u001b[0m\u001b[0mcorpus\u001b[0m\u001b[0;34m)\u001b[0m\u001b[0;34m\u001b[0m\u001b[0;34m\u001b[0m\u001b[0m\n\u001b[0m\u001b[1;32m     11\u001b[0m \u001b[0;34m\u001b[0m\u001b[0m\n\u001b[1;32m     12\u001b[0m \u001b[0;31m# Train and evaluate the ensemble classifier\u001b[0m\u001b[0;34m\u001b[0m\u001b[0;34m\u001b[0m\u001b[0m\n",
            "\u001b[0;31mNameError\u001b[0m: name 'corpus' is not defined"
          ]
        }
      ]
    },
    {
      "cell_type": "code",
      "source": [],
      "metadata": {
        "id": "PA1MQvz62ZYs",
        "outputId": "deec86b4-95e0-4aa4-ba69-744a08f1b016",
        "colab": {
          "base_uri": "https://localhost:8080/",
          "height": 130
        }
      },
      "execution_count": 53,
      "outputs": [
        {
          "output_type": "error",
          "ename": "SyntaxError",
          "evalue": "ignored",
          "traceback": [
            "\u001b[0;36m  File \u001b[0;32m\"<ipython-input-53-14f888c3a654>\"\u001b[0;36m, line \u001b[0;32m3\u001b[0m\n\u001b[0;31m    آ آئی آئیں آئے آتا آتی آتے آس آمدید آنا آنسہ آنی آنے آپ آگے آہ آہا آیا اب ابھی ابے\u001b[0m\n\u001b[0m    ^\u001b[0m\n\u001b[0;31mSyntaxError\u001b[0m\u001b[0;31m:\u001b[0m invalid syntax. Perhaps you forgot a comma?\n"
          ]
        }
      ]
    },
    {
      "cell_type": "code",
      "source": [],
      "metadata": {
        "id": "JK-0VUZV1z-4",
        "outputId": "c496cc3c-87d8-4a0c-c2a8-045b8c3bb3dd",
        "colab": {
          "base_uri": "https://localhost:8080/",
          "height": 432
        }
      },
      "execution_count": 49,
      "outputs": [
        {
          "output_type": "error",
          "ename": "StopWordError",
          "evalue": "ignored",
          "traceback": [
            "\u001b[0;31m---------------------------------------------------------------------------\u001b[0m",
            "\u001b[0;31mKeyError\u001b[0m                                  Traceback (most recent call last)",
            "\u001b[0;32m/usr/local/lib/python3.10/dist-packages/stop_words/__init__.py\u001b[0m in \u001b[0;36mget_stop_words\u001b[0;34m(language, cache)\u001b[0m\n\u001b[1;32m     34\u001b[0m     \u001b[0;32mtry\u001b[0m\u001b[0;34m:\u001b[0m\u001b[0;34m\u001b[0m\u001b[0;34m\u001b[0m\u001b[0m\n\u001b[0;32m---> 35\u001b[0;31m         \u001b[0mlanguage\u001b[0m \u001b[0;34m=\u001b[0m \u001b[0mLANGUAGE_MAPPING\u001b[0m\u001b[0;34m[\u001b[0m\u001b[0mlanguage\u001b[0m\u001b[0;34m]\u001b[0m\u001b[0;34m\u001b[0m\u001b[0;34m\u001b[0m\u001b[0m\n\u001b[0m\u001b[1;32m     36\u001b[0m     \u001b[0;32mexcept\u001b[0m \u001b[0mKeyError\u001b[0m\u001b[0;34m:\u001b[0m\u001b[0;34m\u001b[0m\u001b[0;34m\u001b[0m\u001b[0m\n",
            "\u001b[0;31mKeyError\u001b[0m: 'urdu'",
            "\nDuring handling of the above exception, another exception occurred:\n",
            "\u001b[0;31mStopWordError\u001b[0m                             Traceback (most recent call last)",
            "\u001b[0;32m<ipython-input-49-de84d6eb7ea8>\u001b[0m in \u001b[0;36m<cell line: 5>\u001b[0;34m()\u001b[0m\n\u001b[1;32m      3\u001b[0m \u001b[0;34m\u001b[0m\u001b[0m\n\u001b[1;32m      4\u001b[0m \u001b[0;31m# Load list of Urdu stop words using stop-words library\u001b[0m\u001b[0;34m\u001b[0m\u001b[0;34m\u001b[0m\u001b[0m\n\u001b[0;32m----> 5\u001b[0;31m \u001b[0murdu_stop_words\u001b[0m \u001b[0;34m=\u001b[0m \u001b[0mget_stop_words\u001b[0m\u001b[0;34m(\u001b[0m\u001b[0;34m'urdu'\u001b[0m\u001b[0;34m)\u001b[0m\u001b[0;34m\u001b[0m\u001b[0;34m\u001b[0m\u001b[0m\n\u001b[0m\u001b[1;32m      6\u001b[0m \u001b[0;34m\u001b[0m\u001b[0m\n\u001b[1;32m      7\u001b[0m \u001b[0;31m# Create TfidfVectorizer object with the stop_words parameter set to the Urdu stop words list\u001b[0m\u001b[0;34m\u001b[0m\u001b[0;34m\u001b[0m\u001b[0m\n",
            "\u001b[0;32m/usr/local/lib/python3.10/dist-packages/stop_words/__init__.py\u001b[0m in \u001b[0;36mget_stop_words\u001b[0;34m(language, cache)\u001b[0m\n\u001b[1;32m     36\u001b[0m     \u001b[0;32mexcept\u001b[0m \u001b[0mKeyError\u001b[0m\u001b[0;34m:\u001b[0m\u001b[0;34m\u001b[0m\u001b[0;34m\u001b[0m\u001b[0m\n\u001b[1;32m     37\u001b[0m         \u001b[0;32mif\u001b[0m \u001b[0mlanguage\u001b[0m \u001b[0;32mnot\u001b[0m \u001b[0;32min\u001b[0m \u001b[0mAVAILABLE_LANGUAGES\u001b[0m\u001b[0;34m:\u001b[0m\u001b[0;34m\u001b[0m\u001b[0;34m\u001b[0m\u001b[0m\n\u001b[0;32m---> 38\u001b[0;31m             raise StopWordError('{0}\" language is unavailable.'.format(\n\u001b[0m\u001b[1;32m     39\u001b[0m                 \u001b[0mlanguage\u001b[0m\u001b[0;34m\u001b[0m\u001b[0;34m\u001b[0m\u001b[0m\n\u001b[1;32m     40\u001b[0m             ))\n",
            "\u001b[0;31mStopWordError\u001b[0m: urdu\" language is unavailable."
          ]
        }
      ]
    },
    {
      "cell_type": "code",
      "source": [],
      "metadata": {
        "id": "CdEr_0Ru1eIX",
        "outputId": "78f8d5d8-bd67-4850-9473-8041a120b9ed",
        "colab": {
          "base_uri": "https://localhost:8080/",
          "height": 235
        }
      },
      "execution_count": 1,
      "outputs": [
        {
          "output_type": "error",
          "ename": "NameError",
          "evalue": "ignored",
          "traceback": [
            "\u001b[0;31m---------------------------------------------------------------------------\u001b[0m",
            "\u001b[0;31mNameError\u001b[0m                                 Traceback (most recent call last)",
            "\u001b[0;32m<ipython-input-1-81c6806b159e>\u001b[0m in \u001b[0;36m<cell line: 13>\u001b[0;34m()\u001b[0m\n\u001b[1;32m     11\u001b[0m \u001b[0;34m\u001b[0m\u001b[0m\n\u001b[1;32m     12\u001b[0m \u001b[0;31m# Split the data into train and test sets\u001b[0m\u001b[0;34m\u001b[0m\u001b[0;34m\u001b[0m\u001b[0m\n\u001b[0;32m---> 13\u001b[0;31m \u001b[0mX_train\u001b[0m\u001b[0;34m,\u001b[0m \u001b[0mX_test\u001b[0m\u001b[0;34m,\u001b[0m \u001b[0mY_train\u001b[0m\u001b[0;34m,\u001b[0m \u001b[0mY_test\u001b[0m \u001b[0;34m=\u001b[0m \u001b[0mtrain_test_split\u001b[0m\u001b[0;34m(\u001b[0m\u001b[0mdf\u001b[0m\u001b[0;34m[\u001b[0m\u001b[0;34m'Sentence'\u001b[0m\u001b[0;34m]\u001b[0m\u001b[0;34m,\u001b[0m \u001b[0mdf\u001b[0m\u001b[0;34m[\u001b[0m\u001b[0;34m'Emotion Score'\u001b[0m\u001b[0;34m]\u001b[0m\u001b[0;34m,\u001b[0m \u001b[0mtest_size\u001b[0m\u001b[0;34m=\u001b[0m\u001b[0;36m0.2\u001b[0m\u001b[0;34m,\u001b[0m \u001b[0mrandom_state\u001b[0m\u001b[0;34m=\u001b[0m\u001b[0;36m42\u001b[0m\u001b[0;34m)\u001b[0m\u001b[0;34m\u001b[0m\u001b[0;34m\u001b[0m\u001b[0m\n\u001b[0m\u001b[1;32m     14\u001b[0m \u001b[0;34m\u001b[0m\u001b[0m\n\u001b[1;32m     15\u001b[0m \u001b[0;31m# Vectorize the text data\u001b[0m\u001b[0;34m\u001b[0m\u001b[0;34m\u001b[0m\u001b[0m\n",
            "\u001b[0;31mNameError\u001b[0m: name 'df' is not defined"
          ]
        }
      ]
    },
    {
      "cell_type": "code",
      "source": [
        "# Make copy of Dataset to prepare for Word2Vector\n",
        "df_w2v = df.copy() "
      ],
      "metadata": {
        "id": "-iap7gwEb-1b"
      },
      "execution_count": 54,
      "outputs": []
    },
    {
      "cell_type": "code",
      "source": [
        "df_w2v.head()"
      ],
      "metadata": {
        "colab": {
          "base_uri": "https://localhost:8080/",
          "height": 354
        },
        "id": "21dsVFcKb75m",
        "outputId": "b74130ac-fdab-4247-81c3-febafe9a6e94"
      },
      "execution_count": 55,
      "outputs": [
        {
          "output_type": "execute_result",
          "data": {
            "text/plain": [
              "                                               Sentence  Anger Disgust  Fear  \\\n",
              "2762                          گیند جادوگر بلے گیم چینجر    0.0       0   0.0   \n",
              "1783                               روح پیاسی اداسی مرشد    0.0       0   0.0   \n",
              "1852  مرد ڈر حالات خونی منظر سےجس حال جینا مشکل حال ...    0.0       0   0.0   \n",
              "5580  اشک ناداں کہو پچھتائیں گے گر آنکھوں گے گے چھین...    0.0       0   1.0   \n",
              "6083                          یاد یاد دن ٹرین قصہ سنایا    0.0       0   0.0   \n",
              "\n",
              "      Sadness  Surprise  Happiness  Emotion Score  \\\n",
              "2762      0.0       0.0        1.0              6   \n",
              "1783      1.0       1.0        0.0             10   \n",
              "1852      0.0       0.0        1.0              6   \n",
              "5580      1.0       0.0        0.0              9   \n",
              "6083      0.0       0.0        1.0              6   \n",
              "\n",
              "                                        lemmatized_text  encoded_sentiments  \n",
              "2762                         گیند جادوگر بلے گیم چینجر                    6  \n",
              "1783                              روح پیاسی اداسی مرشد                   10  \n",
              "1852  مرد ڈر حالات خونی منظر سےجس حال جینا مشکل حال ...                   6  \n",
              "5580  اشک ناداں کہو پچھتائیں گے گر آنکھوں گے گے چھین...                   9  \n",
              "6083                         یاد یاد دن ٹرین قصہ سنایا                    6  "
            ],
            "text/html": [
              "\n",
              "  <div id=\"df-8420f81f-ebc4-4655-82ca-89b712b29302\">\n",
              "    <div class=\"colab-df-container\">\n",
              "      <div>\n",
              "<style scoped>\n",
              "    .dataframe tbody tr th:only-of-type {\n",
              "        vertical-align: middle;\n",
              "    }\n",
              "\n",
              "    .dataframe tbody tr th {\n",
              "        vertical-align: top;\n",
              "    }\n",
              "\n",
              "    .dataframe thead th {\n",
              "        text-align: right;\n",
              "    }\n",
              "</style>\n",
              "<table border=\"1\" class=\"dataframe\">\n",
              "  <thead>\n",
              "    <tr style=\"text-align: right;\">\n",
              "      <th></th>\n",
              "      <th>Sentence</th>\n",
              "      <th>Anger</th>\n",
              "      <th>Disgust</th>\n",
              "      <th>Fear</th>\n",
              "      <th>Sadness</th>\n",
              "      <th>Surprise</th>\n",
              "      <th>Happiness</th>\n",
              "      <th>Emotion Score</th>\n",
              "      <th>lemmatized_text</th>\n",
              "      <th>encoded_sentiments</th>\n",
              "    </tr>\n",
              "  </thead>\n",
              "  <tbody>\n",
              "    <tr>\n",
              "      <th>2762</th>\n",
              "      <td>گیند جادوگر بلے گیم چینجر</td>\n",
              "      <td>0.0</td>\n",
              "      <td>0</td>\n",
              "      <td>0.0</td>\n",
              "      <td>0.0</td>\n",
              "      <td>0.0</td>\n",
              "      <td>1.0</td>\n",
              "      <td>6</td>\n",
              "      <td>گیند جادوگر بلے گیم چینجر</td>\n",
              "      <td>6</td>\n",
              "    </tr>\n",
              "    <tr>\n",
              "      <th>1783</th>\n",
              "      <td>روح پیاسی اداسی مرشد</td>\n",
              "      <td>0.0</td>\n",
              "      <td>0</td>\n",
              "      <td>0.0</td>\n",
              "      <td>1.0</td>\n",
              "      <td>1.0</td>\n",
              "      <td>0.0</td>\n",
              "      <td>10</td>\n",
              "      <td>روح پیاسی اداسی مرشد</td>\n",
              "      <td>10</td>\n",
              "    </tr>\n",
              "    <tr>\n",
              "      <th>1852</th>\n",
              "      <td>مرد ڈر حالات خونی منظر سےجس حال جینا مشکل حال ...</td>\n",
              "      <td>0.0</td>\n",
              "      <td>0</td>\n",
              "      <td>0.0</td>\n",
              "      <td>0.0</td>\n",
              "      <td>0.0</td>\n",
              "      <td>1.0</td>\n",
              "      <td>6</td>\n",
              "      <td>مرد ڈر حالات خونی منظر سےجس حال جینا مشکل حال ...</td>\n",
              "      <td>6</td>\n",
              "    </tr>\n",
              "    <tr>\n",
              "      <th>5580</th>\n",
              "      <td>اشک ناداں کہو پچھتائیں گے گر آنکھوں گے گے چھین...</td>\n",
              "      <td>0.0</td>\n",
              "      <td>0</td>\n",
              "      <td>1.0</td>\n",
              "      <td>1.0</td>\n",
              "      <td>0.0</td>\n",
              "      <td>0.0</td>\n",
              "      <td>9</td>\n",
              "      <td>اشک ناداں کہو پچھتائیں گے گر آنکھوں گے گے چھین...</td>\n",
              "      <td>9</td>\n",
              "    </tr>\n",
              "    <tr>\n",
              "      <th>6083</th>\n",
              "      <td>یاد یاد دن ٹرین قصہ سنایا</td>\n",
              "      <td>0.0</td>\n",
              "      <td>0</td>\n",
              "      <td>0.0</td>\n",
              "      <td>0.0</td>\n",
              "      <td>0.0</td>\n",
              "      <td>1.0</td>\n",
              "      <td>6</td>\n",
              "      <td>یاد یاد دن ٹرین قصہ سنایا</td>\n",
              "      <td>6</td>\n",
              "    </tr>\n",
              "  </tbody>\n",
              "</table>\n",
              "</div>\n",
              "      <button class=\"colab-df-convert\" onclick=\"convertToInteractive('df-8420f81f-ebc4-4655-82ca-89b712b29302')\"\n",
              "              title=\"Convert this dataframe to an interactive table.\"\n",
              "              style=\"display:none;\">\n",
              "        \n",
              "  <svg xmlns=\"http://www.w3.org/2000/svg\" height=\"24px\"viewBox=\"0 0 24 24\"\n",
              "       width=\"24px\">\n",
              "    <path d=\"M0 0h24v24H0V0z\" fill=\"none\"/>\n",
              "    <path d=\"M18.56 5.44l.94 2.06.94-2.06 2.06-.94-2.06-.94-.94-2.06-.94 2.06-2.06.94zm-11 1L8.5 8.5l.94-2.06 2.06-.94-2.06-.94L8.5 2.5l-.94 2.06-2.06.94zm10 10l.94 2.06.94-2.06 2.06-.94-2.06-.94-.94-2.06-.94 2.06-2.06.94z\"/><path d=\"M17.41 7.96l-1.37-1.37c-.4-.4-.92-.59-1.43-.59-.52 0-1.04.2-1.43.59L10.3 9.45l-7.72 7.72c-.78.78-.78 2.05 0 2.83L4 21.41c.39.39.9.59 1.41.59.51 0 1.02-.2 1.41-.59l7.78-7.78 2.81-2.81c.8-.78.8-2.07 0-2.86zM5.41 20L4 18.59l7.72-7.72 1.47 1.35L5.41 20z\"/>\n",
              "  </svg>\n",
              "      </button>\n",
              "      \n",
              "  <style>\n",
              "    .colab-df-container {\n",
              "      display:flex;\n",
              "      flex-wrap:wrap;\n",
              "      gap: 12px;\n",
              "    }\n",
              "\n",
              "    .colab-df-convert {\n",
              "      background-color: #E8F0FE;\n",
              "      border: none;\n",
              "      border-radius: 50%;\n",
              "      cursor: pointer;\n",
              "      display: none;\n",
              "      fill: #1967D2;\n",
              "      height: 32px;\n",
              "      padding: 0 0 0 0;\n",
              "      width: 32px;\n",
              "    }\n",
              "\n",
              "    .colab-df-convert:hover {\n",
              "      background-color: #E2EBFA;\n",
              "      box-shadow: 0px 1px 2px rgba(60, 64, 67, 0.3), 0px 1px 3px 1px rgba(60, 64, 67, 0.15);\n",
              "      fill: #174EA6;\n",
              "    }\n",
              "\n",
              "    [theme=dark] .colab-df-convert {\n",
              "      background-color: #3B4455;\n",
              "      fill: #D2E3FC;\n",
              "    }\n",
              "\n",
              "    [theme=dark] .colab-df-convert:hover {\n",
              "      background-color: #434B5C;\n",
              "      box-shadow: 0px 1px 3px 1px rgba(0, 0, 0, 0.15);\n",
              "      filter: drop-shadow(0px 1px 2px rgba(0, 0, 0, 0.3));\n",
              "      fill: #FFFFFF;\n",
              "    }\n",
              "  </style>\n",
              "\n",
              "      <script>\n",
              "        const buttonEl =\n",
              "          document.querySelector('#df-8420f81f-ebc4-4655-82ca-89b712b29302 button.colab-df-convert');\n",
              "        buttonEl.style.display =\n",
              "          google.colab.kernel.accessAllowed ? 'block' : 'none';\n",
              "\n",
              "        async function convertToInteractive(key) {\n",
              "          const element = document.querySelector('#df-8420f81f-ebc4-4655-82ca-89b712b29302');\n",
              "          const dataTable =\n",
              "            await google.colab.kernel.invokeFunction('convertToInteractive',\n",
              "                                                     [key], {});\n",
              "          if (!dataTable) return;\n",
              "\n",
              "          const docLinkHtml = 'Like what you see? Visit the ' +\n",
              "            '<a target=\"_blank\" href=https://colab.research.google.com/notebooks/data_table.ipynb>data table notebook</a>'\n",
              "            + ' to learn more about interactive tables.';\n",
              "          element.innerHTML = '';\n",
              "          dataTable['output_type'] = 'display_data';\n",
              "          await google.colab.output.renderOutput(dataTable, element);\n",
              "          const docLink = document.createElement('div');\n",
              "          docLink.innerHTML = docLinkHtml;\n",
              "          element.appendChild(docLink);\n",
              "        }\n",
              "      </script>\n",
              "    </div>\n",
              "  </div>\n",
              "  "
            ]
          },
          "metadata": {},
          "execution_count": 55
        }
      ]
    },
    {
      "cell_type": "code",
      "source": [
        "import spacy\n",
        "def tokenizer(str):\n",
        "    nlp = spacy.blank('ur')\n",
        "    doc = nlp.tokenizer(str)\n",
        "    return [i.text for i in doc]\n",
        "df_w2v[\"tokens\"] = df_w2v[\"lemmatized_text\"].apply(tokenizer)"
      ],
      "metadata": {
        "id": "rJyKIgVdcLiY"
      },
      "execution_count": 56,
      "outputs": []
    },
    {
      "cell_type": "code",
      "source": [
        "import gensim\n",
        "model_word2vec = gensim.models.Word2Vec(sentences=df_w2v[\"tokens\"], vector_size=128, window=5, workers=10, min_count = 1)"
      ],
      "metadata": {
        "id": "sBOETwwOcLk6"
      },
      "execution_count": 60,
      "outputs": []
    },
    {
      "cell_type": "code",
      "source": [
        "model_word2vec.wv.most_similar(\"مرد\")"
      ],
      "metadata": {
        "colab": {
          "base_uri": "https://localhost:8080/"
        },
        "id": "0Zj8Me5KcLoe",
        "outputId": "d8b9937d-2810-4c64-dbe7-5e6731b83f73"
      },
      "execution_count": 61,
      "outputs": [
        {
          "output_type": "execute_result",
          "data": {
            "text/plain": [
              "[('دیکھ', 0.9996129274368286),\n",
              " ('جان', 0.9995877742767334),\n",
              " ('چھوڑ', 0.9995824098587036),\n",
              " ('بس', 0.9995759129524231),\n",
              " ('سو', 0.9995571970939636),\n",
              " ('لوگ', 0.9995548725128174),\n",
              " ('دنیا', 0.9995483160018921),\n",
              " ('ماں', 0.9995458126068115),\n",
              " ('بہن', 0.9995432496070862),\n",
              " ('ھے', 0.999540388584137)]"
            ]
          },
          "metadata": {},
          "execution_count": 61
        }
      ]
    },
    {
      "cell_type": "code",
      "source": [
        "VOCAB_SIZE = len(model_word2vec.wv.index_to_key)\n",
        "DIMENSIONS = 128\n",
        "MAX_LEN = max([len(x) for x in df_w2v[\"tokens\"]])"
      ],
      "metadata": {
        "id": "rLPoQU--cLrh"
      },
      "execution_count": 62,
      "outputs": []
    },
    {
      "cell_type": "code",
      "source": [
        "VOCAB_SIZE, DIMENSIONS, MAX_LEN"
      ],
      "metadata": {
        "colab": {
          "base_uri": "https://localhost:8080/"
        },
        "id": "caw4j3XWcXVO",
        "outputId": "8a034433-3e4c-49ba-e280-447fd371b93f"
      },
      "execution_count": 63,
      "outputs": [
        {
          "output_type": "execute_result",
          "data": {
            "text/plain": [
              "(17577, 128, 42)"
            ]
          },
          "metadata": {},
          "execution_count": 63
        }
      ]
    },
    {
      "cell_type": "code",
      "source": [
        "from keras.preprocessing.text import Tokenizer\n",
        "token = Tokenizer()\n",
        "token.fit_on_texts(df_w2v[\"tokens\"])\n",
        "encoded = token.texts_to_sequences(df_w2v[\"tokens\"])"
      ],
      "metadata": {
        "id": "sRDkNXBhcXYE"
      },
      "execution_count": 64,
      "outputs": []
    },
    {
      "cell_type": "code",
      "source": [
        "import numpy as np\n",
        "words2vec_matrix = np.zeros((VOCAB_SIZE+1,DIMENSIONS))\n",
        "for word, index in token.word_index.items():\n",
        "    try:\n",
        "        words2vec_matrix[index] = model_word2vec.wv[word]\n",
        "    except:\n",
        "        print(index, word)"
      ],
      "metadata": {
        "id": "H1azj8ixcXbB",
        "colab": {
          "base_uri": "https://localhost:8080/"
        },
        "outputId": "5e1f7a0d-90a0-4095-f4eb-3a7ae2d5dadf"
      },
      "execution_count": 75,
      "outputs": [
        {
          "output_type": "stream",
          "name": "stdout",
          "text": [
            "5641 rss\n",
            "8763 tv\n",
            "9441 you\n",
            "9664 uncles\n",
            "9716 کوئgirl\n",
            "9717 edit\n",
            "9755 coapکادماغ\n",
            "9789 cm\n",
            "11793 un\n",
            "12444 ptm\n",
            "12485 mns\n",
            "13285 t20\n",
            "13517 brexit\n",
            "13586 pta\n",
            "14119 ludo\n",
            "14142 l\n",
            "14766 شاہینiii\n",
            "15006 ghq\n",
            "15122 inshaallah\n"
          ]
        }
      ]
    },
    {
      "cell_type": "code",
      "source": [
        "import tensorflow as tf\n",
        "train_vectors = tf.keras.preprocessing.sequence.pad_sequences(encoded,padding='post',dtype=int)"
      ],
      "metadata": {
        "id": "QU0tb5UZcXeB"
      },
      "execution_count": 76,
      "outputs": []
    },
    {
      "cell_type": "code",
      "source": [
        "train_label = df_w2v.encoded_sentiments"
      ],
      "metadata": {
        "id": "mBlxH8pPcXhA"
      },
      "execution_count": 77,
      "outputs": []
    },
    {
      "cell_type": "code",
      "source": [
        "(train_sentences,test_sentences, train_tags, test_tags) = train_test_split(train_vectors, train_label, test_size=0.2, shuffle = True)"
      ],
      "metadata": {
        "id": "K6BhuzKTcXkS"
      },
      "execution_count": 78,
      "outputs": []
    },
    {
      "cell_type": "code",
      "source": [
        "train_label.nunique()"
      ],
      "metadata": {
        "colab": {
          "base_uri": "https://localhost:8080/"
        },
        "id": "KHzltmQmh8V4",
        "outputId": "e5b3eb6a-191c-4f78-c2e8-7c4aeed11908"
      },
      "execution_count": 79,
      "outputs": [
        {
          "output_type": "execute_result",
          "data": {
            "text/plain": [
              "12"
            ]
          },
          "metadata": {},
          "execution_count": 79
        }
      ]
    },
    {
      "cell_type": "code",
      "source": [
        "import tensorflow.keras.layers as Layers\n",
        "import tensorflow.keras.activations as Actications\n",
        "import tensorflow.keras.models as Models\n",
        "from tensorflow.keras.optimizers import Adam, Optimizer, SGD\n",
        "import tensorflow.keras.initializers as Init\n",
        "from tensorflow.keras import regularizers"
      ],
      "metadata": {
        "id": "XX24DF9RcvMY"
      },
      "execution_count": 70,
      "outputs": []
    },
    {
      "cell_type": "code",
      "source": [],
      "metadata": {
        "id": "7OwtF2DF82Dp"
      },
      "execution_count": 80,
      "outputs": []
    },
    {
      "cell_type": "code",
      "source": [],
      "metadata": {
        "id": "d-DX6UiU-0-3"
      },
      "execution_count": 80,
      "outputs": []
    },
    {
      "cell_type": "markdown",
      "source": [
        "#Deep Learning Models"
      ],
      "metadata": {
        "id": "j2-KbFqBkjUq"
      }
    },
    {
      "cell_type": "code",
      "source": [
        "model = Models.Sequential()\n",
        "\n",
        "model.add(Layers.Embedding(VOCAB_SIZE+1,DIMENSIONS,\n",
        "                           embeddings_initializer = Init.Constant(words2vec_matrix),\n",
        "                           input_length=MAX_LEN, trainable=False ))\n",
        "\n",
        "model.add(Layers.Conv1D(512, 5, activation=\"relu\", padding =\"same\"))\n",
        "model.add(Layers.MaxPooling1D(5))\n",
        "\n",
        "model.add(Layers.Conv1D(256, 5, activation=\"relu\", padding =\"same\"))\n",
        "\n",
        "model.add(Layers.Conv1D(128, 5, activation=\"relu\", padding =\"same\"))\n",
        "model.add(Layers.Dropout(0.3))\n",
        "model.add(Layers.MaxPooling1D(3))\n",
        "\n",
        "model.add(Layers.Conv1D(64, 3, activation=\"relu\", padding =\"same\"))\n",
        "model.add(Layers.Dropout(0.3))\n",
        "model.add(Layers.MaxPooling1D(1))\n",
        "\n",
        "model.add(Layers.Conv1D(32, 3, activation=\"relu\", padding =\"same\"))\n",
        "model.add(Layers.Dropout(0.3))\n",
        "\n",
        "model.add(Layers.Flatten())\n",
        "\n",
        "model.add(Layers.Dense(32, activation='relu', kernel_regularizer = regularizers.l2(1e-4)))\n",
        "model.add(Layers.Dropout(0.6))\n",
        "\n",
        "model.add(Layers.Dense(1,activation='sigmoid'))\n",
        "\n",
        "model.summary()\n",
        "\n",
        "model.compile(optimizer=\"adam\",loss='binary_crossentropy',metrics=['accuracy'])"
      ],
      "metadata": {
        "colab": {
          "base_uri": "https://localhost:8080/"
        },
        "id": "3jBLkuuPcvPM",
        "outputId": "6f49a933-3f07-402e-a3f5-7b4cb0dcf65c"
      },
      "execution_count": 71,
      "outputs": [
        {
          "output_type": "stream",
          "name": "stdout",
          "text": [
            "Model: \"sequential\"\n",
            "_________________________________________________________________\n",
            " Layer (type)                Output Shape              Param #   \n",
            "=================================================================\n",
            " embedding (Embedding)       (None, 42, 128)           2249984   \n",
            "                                                                 \n",
            " conv1d (Conv1D)             (None, 42, 512)           328192    \n",
            "                                                                 \n",
            " max_pooling1d (MaxPooling1D  (None, 8, 512)           0         \n",
            " )                                                               \n",
            "                                                                 \n",
            " conv1d_1 (Conv1D)           (None, 8, 256)            655616    \n",
            "                                                                 \n",
            " conv1d_2 (Conv1D)           (None, 8, 128)            163968    \n",
            "                                                                 \n",
            " dropout (Dropout)           (None, 8, 128)            0         \n",
            "                                                                 \n",
            " max_pooling1d_1 (MaxPooling  (None, 2, 128)           0         \n",
            " 1D)                                                             \n",
            "                                                                 \n",
            " conv1d_3 (Conv1D)           (None, 2, 64)             24640     \n",
            "                                                                 \n",
            " dropout_1 (Dropout)         (None, 2, 64)             0         \n",
            "                                                                 \n",
            " max_pooling1d_2 (MaxPooling  (None, 2, 64)            0         \n",
            " 1D)                                                             \n",
            "                                                                 \n",
            " conv1d_4 (Conv1D)           (None, 2, 32)             6176      \n",
            "                                                                 \n",
            " dropout_2 (Dropout)         (None, 2, 32)             0         \n",
            "                                                                 \n",
            " flatten (Flatten)           (None, 64)                0         \n",
            "                                                                 \n",
            " dense (Dense)               (None, 32)                2080      \n",
            "                                                                 \n",
            " dropout_3 (Dropout)         (None, 32)                0         \n",
            "                                                                 \n",
            " dense_1 (Dense)             (None, 1)                 33        \n",
            "                                                                 \n",
            "=================================================================\n",
            "Total params: 3,430,689\n",
            "Trainable params: 1,180,705\n",
            "Non-trainable params: 2,249,984\n",
            "_________________________________________________________________\n"
          ]
        }
      ]
    },
    {
      "cell_type": "code",
      "source": [],
      "metadata": {
        "id": "Wpn6sqDCd2lg"
      },
      "execution_count": null,
      "outputs": []
    },
    {
      "cell_type": "code",
      "source": [
        "CONV_NET = model.fit( train_sentences, train_tags, epochs=10, validation_split=0.20 )"
      ],
      "metadata": {
        "colab": {
          "base_uri": "https://localhost:8080/"
        },
        "id": "05iRYv33cvR-",
        "outputId": "a10063c5-80c6-4288-eac6-433246c9531a"
      },
      "execution_count": 72,
      "outputs": [
        {
          "output_type": "stream",
          "name": "stdout",
          "text": [
            "Epoch 1/10\n",
            "240/240 [==============================] - 38s 147ms/step - loss: -4489663741952.0000 - accuracy: 0.1423 - val_loss: -38844204318720.0000 - val_accuracy: 0.1414\n",
            "Epoch 2/10\n",
            "240/240 [==============================] - 31s 130ms/step - loss: -4001923019571200.0000 - accuracy: 0.1440 - val_loss: -15384266837852160.0000 - val_accuracy: 0.1414\n",
            "Epoch 3/10\n",
            "240/240 [==============================] - 32s 135ms/step - loss: -158431258966228992.0000 - accuracy: 0.1440 - val_loss: -375993050683408384.0000 - val_accuracy: 0.1414\n",
            "Epoch 4/10\n",
            "240/240 [==============================] - 32s 133ms/step - loss: -1688736610566275072.0000 - accuracy: 0.1440 - val_loss: -3079383249336664064.0000 - val_accuracy: 0.1414\n",
            "Epoch 5/10\n",
            "240/240 [==============================] - 31s 127ms/step - loss: -9616515613505617920.0000 - accuracy: 0.1440 - val_loss: -14620456803188604928.0000 - val_accuracy: 0.1414\n",
            "Epoch 6/10\n",
            "240/240 [==============================] - 31s 127ms/step - loss: -36928615344903290880.0000 - accuracy: 0.1440 - val_loss: -49401048639882657792.0000 - val_accuracy: 0.1414\n",
            "Epoch 7/10\n",
            "240/240 [==============================] - 32s 132ms/step - loss: -107032953364366229504.0000 - accuracy: 0.1440 - val_loss: -132575549659556085760.0000 - val_accuracy: 0.1414\n",
            "Epoch 8/10\n",
            "240/240 [==============================] - 32s 134ms/step - loss: -263308775227796750336.0000 - accuracy: 0.1440 - val_loss: -306908246365672833024.0000 - val_accuracy: 0.1414\n",
            "Epoch 9/10\n",
            "240/240 [==============================] - 30s 127ms/step - loss: nan - accuracy: 0.1235 - val_loss: nan - val_accuracy: 0.0428\n",
            "Epoch 10/10\n",
            "240/240 [==============================] - 32s 134ms/step - loss: nan - accuracy: 0.0524 - val_loss: nan - val_accuracy: 0.0428\n"
          ]
        }
      ]
    },
    {
      "cell_type": "code",
      "source": [
        "plt.plot(CONV_NET.history['accuracy'])\n",
        "plt.plot(CONV_NET.history['val_accuracy'])\n",
        "plt.title('Model accuracy')\n",
        "plt.ylabel('Accuracy')\n",
        "plt.xlabel('Epoch')\n",
        "plt.legend(['Train', 'Validation'], loc='upper left')\n",
        "plt.show()"
      ],
      "metadata": {
        "colab": {
          "base_uri": "https://localhost:8080/",
          "height": 472
        },
        "id": "UaUVHwDacvUv",
        "outputId": "a64cfa38-d71d-45c8-b4de-1b44ad6cba53"
      },
      "execution_count": 50,
      "outputs": [
        {
          "output_type": "display_data",
          "data": {
            "text/plain": [
              "<Figure size 640x480 with 1 Axes>"
            ],
            "image/png": "[encoded data removed]"
          },
          "metadata": {}
        }
      ]
    },
    {
      "cell_type": "code",
      "source": [
        "plt.plot(CONV_NET.history['loss'])\n",
        "plt.plot(CONV_NET.history['val_loss'])\n",
        "plt.title('Model loss')\n",
        "plt.ylabel('Loss')\n",
        "plt.xlabel('Epoch')\n",
        "plt.legend(['Train', 'Validation'], loc='upper left')\n",
        "plt.show()"
      ],
      "metadata": {
        "colab": {
          "base_uri": "https://localhost:8080/",
          "height": 472
        },
        "id": "Gut8E4aHcvXs",
        "outputId": "55dc00ae-7654-4bd9-945d-d4cdd13e263f"
      },
      "execution_count": 51,
      "outputs": [
        {
          "output_type": "display_data",
          "data": {
            "text/plain": [
              "<Figure size 640x480 with 1 Axes>"
            ],
            "image/png": "[encoded data removed]"
          },
          "metadata": {}
        }
      ]
    },
    {
      "cell_type": "code",
      "source": [
        "y_pred = np.argmax(model.predict(test_sentences), axis=1)\n",
        "y_true = np.argmax(tf.keras.utils.to_categorical(test_tags, NUM_CLASSES), axis=1)\n",
        "print(classification_report(y_true, y_pred))\n",
        "\n",
        "#print(classification_report(model.predict(test_sentences).round(), test_tags))"
      ],
      "metadata": {
        "colab": {
          "base_uri": "https://localhost:8080/"
        },
        "id": "hWZMYb4RcvbN",
        "outputId": "e9aa902b-d966-453c-c1b5-58892316714d"
      },
      "execution_count": 85,
      "outputs": [
        {
          "output_type": "stream",
          "name": "stdout",
          "text": [
            "75/75 [==============================] - 4s 47ms/step\n",
            "              precision    recall  f1-score   support\n",
            "\n",
            "           0       0.00      0.00      0.00       104\n",
            "           1       0.20      0.71      0.32       365\n",
            "           2       0.00      0.00      0.00       285\n",
            "           3       0.00      0.00      0.00       131\n",
            "           4       0.18      0.36      0.24       346\n",
            "           5       0.00      0.00      0.00       164\n",
            "           6       0.28      0.30      0.29       395\n",
            "           7       0.00      0.00      0.00       199\n",
            "           8       0.00      0.00      0.00        19\n",
            "           9       0.00      0.00      0.00       171\n",
            "          10       0.00      0.00      0.00       155\n",
            "          11       0.00      0.00      0.00        62\n",
            "\n",
            "    accuracy                           0.21      2396\n",
            "   macro avg       0.05      0.11      0.07      2396\n",
            "weighted avg       0.10      0.21      0.13      2396\n",
            "\n"
          ]
        },
        {
          "output_type": "stream",
          "name": "stderr",
          "text": [
            "/usr/local/lib/python3.10/dist-packages/sklearn/metrics/_classification.py:1344: UndefinedMetricWarning: Precision and F-score are ill-defined and being set to 0.0 in labels with no predicted samples. Use `zero_division` parameter to control this behavior.\n",
            "  _warn_prf(average, modifier, msg_start, len(result))\n",
            "/usr/local/lib/python3.10/dist-packages/sklearn/metrics/_classification.py:1344: UndefinedMetricWarning: Precision and F-score are ill-defined and being set to 0.0 in labels with no predicted samples. Use `zero_division` parameter to control this behavior.\n",
            "  _warn_prf(average, modifier, msg_start, len(result))\n",
            "/usr/local/lib/python3.10/dist-packages/sklearn/metrics/_classification.py:1344: UndefinedMetricWarning: Precision and F-score are ill-defined and being set to 0.0 in labels with no predicted samples. Use `zero_division` parameter to control this behavior.\n",
            "  _warn_prf(average, modifier, msg_start, len(result))\n"
          ]
        }
      ]
    },
    {
      "cell_type": "code",
      "source": [],
      "metadata": {
        "id": "5zSZAHC5JVwL"
      },
      "execution_count": 85,
      "outputs": []
    },
    {
      "cell_type": "code",
      "source": [],
      "metadata": {
        "id": "At9JYzCnJKRT"
      },
      "execution_count": 85,
      "outputs": []
    },
    {
      "cell_type": "code",
      "source": [
        "model = Models.Sequential()\n",
        "\n",
        "model.add(Layers.Embedding(VOCAB_SIZE+1,DIMENSIONS,\n",
        "                           embeddings_initializer = Init.Constant(words2vec_matrix),\n",
        "                           input_length=MAX_LEN, trainable=False ))\n",
        "\n",
        "model.add(Layers.Conv1D(512, 5, activation=\"relu\", padding =\"same\"))\n",
        "model.add(Layers.MaxPooling1D(5))\n",
        "\n",
        "model.add(Layers.Conv1D(256, 5, activation=\"relu\", padding =\"same\"))\n",
        "\n",
        "model.add(Layers.Conv1D(128, 5, activation=\"relu\", padding =\"same\"))\n",
        "model.add(Layers.Dropout(0.3))\n",
        "model.add(Layers.MaxPooling1D(3))\n",
        "\n",
        "model.add(Layers.Conv1D(64, 3, activation=\"relu\", padding =\"same\"))\n",
        "model.add(Layers.Dropout(0.3))\n",
        "model.add(Layers.MaxPooling1D(1))\n",
        "\n",
        "model.add(Layers.Conv1D(32, 3, activation=\"relu\", padding =\"same\"))\n",
        "model.add(Layers.Dropout(0.3))\n",
        "\n",
        "model.add(Layers.Flatten())\n",
        "\n",
        "model.add(Layers.Dense(32, activation='relu', kernel_regularizer = regularizers.l2(1e-4)))\n",
        "model.add(Layers.Dropout(0.6))\n",
        "\n",
        "model.add(Layers.Dense(12,activation='softmax'))\n",
        "\n",
        "model.summary()\n",
        "\n",
        "model.compile(optimizer=\"adam\",loss='categorical_crossentropy',metrics=['accuracy'])\n"
      ],
      "metadata": {
        "id": "lqzt-xG8d6K-",
        "outputId": "019b4439-8478-4238-ec88-5a1dd1e0b478",
        "colab": {
          "base_uri": "https://localhost:8080/"
        }
      },
      "execution_count": 86,
      "outputs": [
        {
          "output_type": "stream",
          "name": "stdout",
          "text": [
            "Model: \"sequential_2\"\n",
            "_________________________________________________________________\n",
            " Layer (type)                Output Shape              Param #   \n",
            "=================================================================\n",
            " embedding_2 (Embedding)     (None, 42, 128)           2249984   \n",
            "                                                                 \n",
            " conv1d_10 (Conv1D)          (None, 42, 512)           328192    \n",
            "                                                                 \n",
            " max_pooling1d_6 (MaxPooling  (None, 8, 512)           0         \n",
            " 1D)                                                             \n",
            "                                                                 \n",
            " conv1d_11 (Conv1D)          (None, 8, 256)            655616    \n",
            "                                                                 \n",
            " conv1d_12 (Conv1D)          (None, 8, 128)            163968    \n",
            "                                                                 \n",
            " dropout_8 (Dropout)         (None, 8, 128)            0         \n",
            "                                                                 \n",
            " max_pooling1d_7 (MaxPooling  (None, 2, 128)           0         \n",
            " 1D)                                                             \n",
            "                                                                 \n",
            " conv1d_13 (Conv1D)          (None, 2, 64)             24640     \n",
            "                                                                 \n",
            " dropout_9 (Dropout)         (None, 2, 64)             0         \n",
            "                                                                 \n",
            " max_pooling1d_8 (MaxPooling  (None, 2, 64)            0         \n",
            " 1D)                                                             \n",
            "                                                                 \n",
            " conv1d_14 (Conv1D)          (None, 2, 32)             6176      \n",
            "                                                                 \n",
            " dropout_10 (Dropout)        (None, 2, 32)             0         \n",
            "                                                                 \n",
            " flatten_2 (Flatten)         (None, 64)                0         \n",
            "                                                                 \n",
            " dense_4 (Dense)             (None, 32)                2080      \n",
            "                                                                 \n",
            " dropout_11 (Dropout)        (None, 32)                0         \n",
            "                                                                 \n",
            " dense_5 (Dense)             (None, 12)                396       \n",
            "                                                                 \n",
            "=================================================================\n",
            "Total params: 3,431,052\n",
            "Trainable params: 1,181,068\n",
            "Non-trainable params: 2,249,984\n",
            "_________________________________________________________________\n"
          ]
        }
      ]
    },
    {
      "cell_type": "code",
      "source": [
        "from keras.utils import to_categorical\n",
        "# Get all unique tags in the dataset\n",
        "tags = list(set(tag for doc in train_data for tag in doc[1]))\n",
        "\n",
        "# Define tag2idx dictionary\n",
        "tag2idx = {t: i for i, t in enumerate(tags)}\n",
        "\n",
        "# Convert the tags to one-hot encoded vectors\n",
        "num_classes = len(tags)\n",
        "train_tags_one_hot = to_categorical(train_tags, num_classes=num_classes)\n",
        "test_tags_one_hot = to_categorical(test_tags, num_classes=num_classes)\n",
        "\n",
        "# Define tag2idx dictionary\n",
        "tag2idx = {t: i for i, t in enumerate(tags)}\n",
        "\n",
        "# Convert the tags to one-hot encoded vectors\n",
        "num_classes = len(tag2idx)\n",
        "train_tags_one_hot = to_categorical(train_tags, num_classes=num_classes)\n",
        "test_tags_one_hot = to_categorical(test_tags, num_classes=num_classes)\n",
        "\n",
        "# Compile the model with the categorical cross-entropy loss function\n",
        "model.compile(loss='categorical_crossentropy', optimizer='adam')\n",
        "\n",
        "# Train the model\n",
        "history = model.fit(train_sentences, train_tags_one_hot, epochs=10, batch_size=32)\n",
        "\n",
        "# Evaluate the model\n",
        "print(classification_report(np.argmax(model.predict(test_sentences), axis=-1), np.argmax(test_tags_one_hot, axis=-1)))\n",
        "\n",
        "#CONV_NET = model.fit( train_sentences, train_tags, epochs=10, validation_split=0.20 )"
      ],
      "metadata": {
        "id": "0xHS_pYseF_l",
        "outputId": "0db1ccaf-34f6-4ea5-d16f-48f858d30694",
        "colab": {
          "base_uri": "https://localhost:8080/",
          "height": 235
        }
      },
      "execution_count": 90,
      "outputs": [
        {
          "output_type": "error",
          "ename": "NameError",
          "evalue": "ignored",
          "traceback": [
            "\u001b[0;31m---------------------------------------------------------------------------\u001b[0m",
            "\u001b[0;31mNameError\u001b[0m                                 Traceback (most recent call last)",
            "\u001b[0;32m<ipython-input-90-fd2c81c34986>\u001b[0m in \u001b[0;36m<cell line: 3>\u001b[0;34m()\u001b[0m\n\u001b[1;32m      1\u001b[0m \u001b[0;32mfrom\u001b[0m \u001b[0mkeras\u001b[0m\u001b[0;34m.\u001b[0m\u001b[0mutils\u001b[0m \u001b[0;32mimport\u001b[0m \u001b[0mto_categorical\u001b[0m\u001b[0;34m\u001b[0m\u001b[0;34m\u001b[0m\u001b[0m\n\u001b[1;32m      2\u001b[0m \u001b[0;31m# Get all unique tags in the dataset\u001b[0m\u001b[0;34m\u001b[0m\u001b[0;34m\u001b[0m\u001b[0m\n\u001b[0;32m----> 3\u001b[0;31m \u001b[0mtags\u001b[0m \u001b[0;34m=\u001b[0m \u001b[0mlist\u001b[0m\u001b[0;34m(\u001b[0m\u001b[0mset\u001b[0m\u001b[0;34m(\u001b[0m\u001b[0mtag\u001b[0m \u001b[0;32mfor\u001b[0m \u001b[0mdoc\u001b[0m \u001b[0;32min\u001b[0m \u001b[0mtrain_data\u001b[0m \u001b[0;32mfor\u001b[0m \u001b[0mtag\u001b[0m \u001b[0;32min\u001b[0m \u001b[0mdoc\u001b[0m\u001b[0;34m[\u001b[0m\u001b[0;36m1\u001b[0m\u001b[0;34m]\u001b[0m\u001b[0;34m)\u001b[0m\u001b[0;34m)\u001b[0m\u001b[0;34m\u001b[0m\u001b[0;34m\u001b[0m\u001b[0m\n\u001b[0m\u001b[1;32m      4\u001b[0m \u001b[0;34m\u001b[0m\u001b[0m\n\u001b[1;32m      5\u001b[0m \u001b[0;31m# Define tag2idx dictionary\u001b[0m\u001b[0;34m\u001b[0m\u001b[0;34m\u001b[0m\u001b[0m\n",
            "\u001b[0;31mNameError\u001b[0m: name 'train_data' is not defined"
          ]
        }
      ]
    },
    {
      "cell_type": "code",
      "source": [],
      "metadata": {
        "id": "Auz_zigoeXMB"
      },
      "execution_count": 67,
      "outputs": []
    },
    {
      "cell_type": "code",
      "source": [
        "lstm = Models.Sequential()\n",
        "\n",
        "lstm.add(Layers.Embedding(VOCAB_SIZE+1,DIMENSIONS,\n",
        "                          embeddings_initializer = Init.Constant(words2vec_matrix),\n",
        "                          input_length=MAX_LEN, trainable=False ))\n",
        "\n",
        "lstm.add(Layers.Bidirectional(Layers.LSTM(256, activation='tanh')))\n",
        "\n",
        "lstm.add(Layers.Dense(128, activation='tanh'))\n",
        "lstm.add(Layers.Dropout(0.3))\n",
        "\n",
        "lstm.add(Layers.Dense(64, activation='tanh'))\n",
        "lstm.add(Layers.Dropout(0.3))\n",
        "\n",
        "lstm.add(Layers.Dense(1, activation='sigmoid'))\n",
        "\n",
        "lstm.summary()"
      ],
      "metadata": {
        "colab": {
          "base_uri": "https://localhost:8080/"
        },
        "id": "lCjaNKOgdBLC",
        "outputId": "97bb0992-95af-45ae-f074-0445a0ea4d54"
      },
      "execution_count": 91,
      "outputs": [
        {
          "output_type": "stream",
          "name": "stdout",
          "text": [
            "Model: \"sequential_3\"\n",
            "_________________________________________________________________\n",
            " Layer (type)                Output Shape              Param #   \n",
            "=================================================================\n",
            " embedding_3 (Embedding)     (None, 42, 128)           2249984   \n",
            "                                                                 \n",
            " bidirectional (Bidirectiona  (None, 512)              788480    \n",
            " l)                                                              \n",
            "                                                                 \n",
            " dense_6 (Dense)             (None, 128)               65664     \n",
            "                                                                 \n",
            " dropout_12 (Dropout)        (None, 128)               0         \n",
            "                                                                 \n",
            " dense_7 (Dense)             (None, 64)                8256      \n",
            "                                                                 \n",
            " dropout_13 (Dropout)        (None, 64)                0         \n",
            "                                                                 \n",
            " dense_8 (Dense)             (None, 1)                 65        \n",
            "                                                                 \n",
            "=================================================================\n",
            "Total params: 3,112,449\n",
            "Trainable params: 862,465\n",
            "Non-trainable params: 2,249,984\n",
            "_________________________________________________________________\n"
          ]
        }
      ]
    },
    {
      "cell_type": "code",
      "source": [
        "from keras.callbacks import ModelCheckpoint\n",
        "from tensorflow.keras.callbacks import EarlyStopping\n",
        " \n",
        "\n",
        "lstm.compile(loss='binary_crossentropy', optimizer='adam', metrics=['accuracy'])\n",
        "es_callback = EarlyStopping(monitor='val_loss', patience=3) \n",
        "LSTM_NET = lstm.fit(train_sentences, train_tags, epochs=10, validation_split=0.2, callbacks=[es_callback], shuffle=False)"
      ],
      "metadata": {
        "colab": {
          "base_uri": "https://localhost:8080/"
        },
        "id": "KowpklixdBOy",
        "outputId": "4447ce6d-7309-4c33-9da4-01f66f79944b"
      },
      "execution_count": 92,
      "outputs": [
        {
          "output_type": "stream",
          "name": "stdout",
          "text": [
            "Epoch 1/10\n",
            "240/240 [==============================] - 80s 316ms/step - loss: -56.9509 - accuracy: 0.1402 - val_loss: -87.5351 - val_accuracy: 0.1288\n",
            "Epoch 2/10\n",
            "240/240 [==============================] - 70s 292ms/step - loss: -113.3547 - accuracy: 0.1403 - val_loss: -143.4803 - val_accuracy: 0.1288\n",
            "Epoch 3/10\n",
            "240/240 [==============================] - 70s 293ms/step - loss: -167.6944 - accuracy: 0.1403 - val_loss: -198.9536 - val_accuracy: 0.1288\n",
            "Epoch 4/10\n",
            "240/240 [==============================] - 70s 293ms/step - loss: -222.6806 - accuracy: 0.1403 - val_loss: -254.4250 - val_accuracy: 0.1288\n",
            "Epoch 5/10\n",
            "240/240 [==============================] - 70s 292ms/step - loss: -277.1568 - accuracy: 0.1403 - val_loss: -309.8084 - val_accuracy: 0.1288\n",
            "Epoch 6/10\n",
            "240/240 [==============================] - 71s 296ms/step - loss: -330.5371 - accuracy: 0.1403 - val_loss: -364.9746 - val_accuracy: 0.1288\n",
            "Epoch 7/10\n",
            "240/240 [==============================] - 71s 295ms/step - loss: -385.1757 - accuracy: 0.1403 - val_loss: -420.2152 - val_accuracy: 0.1288\n",
            "Epoch 8/10\n",
            "240/240 [==============================] - 72s 299ms/step - loss: -439.5490 - accuracy: 0.1403 - val_loss: -475.4582 - val_accuracy: 0.1288\n",
            "Epoch 9/10\n",
            "240/240 [==============================] - 71s 298ms/step - loss: -492.7852 - accuracy: 0.1403 - val_loss: -530.5975 - val_accuracy: 0.1288\n",
            "Epoch 10/10\n",
            "240/240 [==============================] - 71s 298ms/step - loss: -548.6951 - accuracy: 0.1403 - val_loss: -585.8560 - val_accuracy: 0.1288\n"
          ]
        }
      ]
    },
    {
      "cell_type": "code",
      "source": [
        "plt.plot(LSTM_NET.history['accuracy'])\n",
        "plt.plot(LSTM_NET.history['val_accuracy'])\n",
        "plt.title('Model accuracy')\n",
        "plt.ylabel('Accuracy')\n",
        "plt.xlabel('Epoch')\n",
        "plt.legend(['Train', 'Validation'], loc='upper left')\n",
        "plt.show()"
      ],
      "metadata": {
        "colab": {
          "base_uri": "https://localhost:8080/",
          "height": 472
        },
        "id": "UIb5NdBHdBSv",
        "outputId": "03d352a1-7d07-4fa6-cdf8-76b45006c6dd"
      },
      "execution_count": 93,
      "outputs": [
        {
          "output_type": "display_data",
          "data": {
            "text/plain": [
              "<Figure size 640x480 with 1 Axes>"
            ],
            "image/png": "[encoded data removed]"
          },
          "metadata": {}
        }
      ]
    },
    {
      "cell_type": "code",
      "source": [
        "plt.plot(LSTM_NET.history['loss'])\n",
        "plt.plot(LSTM_NET.history['val_loss'])\n",
        "plt.title('Model loss')\n",
        "plt.ylabel('Loss')\n",
        "plt.xlabel('Epoch')\n",
        "plt.legend(['Train', 'Validation'], loc='upper left')\n",
        "plt.show()"
      ],
      "metadata": {
        "colab": {
          "base_uri": "https://localhost:8080/",
          "height": 472
        },
        "id": "5Jj4VqcbdBVo",
        "outputId": "2338444f-9231-4b99-f7d9-2a0ec7b59e54"
      },
      "execution_count": 94,
      "outputs": [
        {
          "output_type": "display_data",
          "data": {
            "text/plain": [
              "<Figure size 640x480 with 1 Axes>"
            ],
            "image/png": "[encoded data removed]"
          },
          "metadata": {}
        }
      ]
    },
    {
      "cell_type": "code",
      "source": [
        "print(classification_report(lstm.predict(test_sentences).round(), test_tags))"
      ],
      "metadata": {
        "colab": {
          "base_uri": "https://localhost:8080/"
        },
        "id": "0JkXKAS3dKi2",
        "outputId": "fe100644-745d-49ec-fdf0-0ea55582bd04"
      },
      "execution_count": 95,
      "outputs": [
        {
          "output_type": "stream",
          "name": "stdout",
          "text": [
            "75/75 [==============================] - 6s 66ms/step\n",
            "              precision    recall  f1-score   support\n",
            "\n",
            "         0.0       0.00      0.00      0.00         0\n",
            "         1.0       1.00      0.15      0.26      2396\n",
            "         2.0       0.00      0.00      0.00         0\n",
            "         3.0       0.00      0.00      0.00         0\n",
            "         4.0       0.00      0.00      0.00         0\n",
            "         5.0       0.00      0.00      0.00         0\n",
            "         6.0       0.00      0.00      0.00         0\n",
            "         7.0       0.00      0.00      0.00         0\n",
            "         8.0       0.00      0.00      0.00         0\n",
            "         9.0       0.00      0.00      0.00         0\n",
            "        10.0       0.00      0.00      0.00         0\n",
            "        11.0       0.00      0.00      0.00         0\n",
            "\n",
            "    accuracy                           0.15      2396\n",
            "   macro avg       0.08      0.01      0.02      2396\n",
            "weighted avg       1.00      0.15      0.26      2396\n",
            "\n"
          ]
        },
        {
          "output_type": "stream",
          "name": "stderr",
          "text": [
            "/usr/local/lib/python3.10/dist-packages/sklearn/metrics/_classification.py:1344: UndefinedMetricWarning: Recall and F-score are ill-defined and being set to 0.0 in labels with no true samples. Use `zero_division` parameter to control this behavior.\n",
            "  _warn_prf(average, modifier, msg_start, len(result))\n",
            "/usr/local/lib/python3.10/dist-packages/sklearn/metrics/_classification.py:1344: UndefinedMetricWarning: Recall and F-score are ill-defined and being set to 0.0 in labels with no true samples. Use `zero_division` parameter to control this behavior.\n",
            "  _warn_prf(average, modifier, msg_start, len(result))\n",
            "/usr/local/lib/python3.10/dist-packages/sklearn/metrics/_classification.py:1344: UndefinedMetricWarning: Recall and F-score are ill-defined and being set to 0.0 in labels with no true samples. Use `zero_division` parameter to control this behavior.\n",
            "  _warn_prf(average, modifier, msg_start, len(result))\n"
          ]
        }
      ]
    },
    {
      "cell_type": "code",
      "source": [
        "import numpy as np\n",
        "from keras.models import Model\n",
        "from keras.layers import Input, Embedding, SpatialDropout1D, Bidirectional, LSTM, Concatenate, Dense, Dropout\n",
        "\n",
        "# define the number of classes\n",
        "num_classes = 9\n",
        "\n",
        "# define the maximum length of the input sequences\n",
        "max_length = 100\n",
        "\n",
        "# define the size of the embedding vector\n",
        "embedding_size = 128\n",
        "\n",
        "# define the size of the LSTM layer\n",
        "lstm_size = 64\n",
        "\n",
        "# define the size of the dense layer\n",
        "dense_size = 32\n",
        "\n",
        "# define the dropout rate\n",
        "dropout_rate = 0.2\n",
        "\n",
        "# create the input layer\n",
        "input_layer = Input(shape=(max_length,), dtype='int32')\n",
        "\n",
        "# create the embedding layer\n",
        "embedding_layer = Embedding(input_dim=vocab_size, output_dim=embedding_size, input_length=max_length)(input_layer)\n",
        "\n",
        "# apply spatial dropout to the embedding layer\n",
        "embedding_layer = SpatialDropout1D(rate=dropout_rate)(embedding_layer)\n",
        "\n",
        "# create the bidirectional LSTM layer\n",
        "lstm_layer = Bidirectional(LSTM(units=lstm_size, dropout=dropout_rate, recurrent_dropout=dropout_rate))(embedding_layer)\n",
        "\n",
        "# create the dense layer\n",
        "dense_layer = Dense(units=dense_size, activation='relu')(lstm_layer)\n",
        "\n",
        "# apply dropout to the dense layer\n",
        "dense_layer = Dropout(rate=dropout_rate)(dense_layer)\n",
        "\n",
        "# create the output layer\n",
        "output_layer = Dense(units=num_classes, activation='softmax')(dense_layer)\n",
        "\n",
        "# create the model\n",
        "model = Model(inputs=input_layer, outputs=output_layer)\n",
        "\n",
        "# compile the model\n",
        "model.compile(loss='categorical_crossentropy', optimizer='adam', metrics=['accuracy'])\n",
        "\n",
        "# train the model\n",
        "model.fit(x_train, y_train, validation_data=(x_test, y_test), epochs=10, batch_size=32)\n",
        "\n",
        "# evaluate the model\n",
        "loss, accuracy = model.evaluate(x_test, y_test, batch_size=32)\n",
        "print('Test loss:', loss)\n",
        "print('Test accuracy:', accuracy)\n"
      ],
      "metadata": {
        "colab": {
          "base_uri": "https://localhost:8080/",
          "height": 235
        },
        "id": "Z85HBN8DBBP1",
        "outputId": "01369432-aabe-46c8-f5b5-47d96ab01164"
      },
      "execution_count": 59,
      "outputs": [
        {
          "output_type": "error",
          "ename": "NameError",
          "evalue": "ignored",
          "traceback": [
            "\u001b[0;31m---------------------------------------------------------------------------\u001b[0m",
            "\u001b[0;31mNameError\u001b[0m                                 Traceback (most recent call last)",
            "\u001b[0;32m<ipython-input-59-b1eec14ba802>\u001b[0m in \u001b[0;36m<cell line: 27>\u001b[0;34m()\u001b[0m\n\u001b[1;32m     25\u001b[0m \u001b[0;34m\u001b[0m\u001b[0m\n\u001b[1;32m     26\u001b[0m \u001b[0;31m# create the embedding layer\u001b[0m\u001b[0;34m\u001b[0m\u001b[0;34m\u001b[0m\u001b[0m\n\u001b[0;32m---> 27\u001b[0;31m \u001b[0membedding_layer\u001b[0m \u001b[0;34m=\u001b[0m \u001b[0mEmbedding\u001b[0m\u001b[0;34m(\u001b[0m\u001b[0minput_dim\u001b[0m\u001b[0;34m=\u001b[0m\u001b[0mvocab_size\u001b[0m\u001b[0;34m,\u001b[0m \u001b[0moutput_dim\u001b[0m\u001b[0;34m=\u001b[0m\u001b[0membedding_size\u001b[0m\u001b[0;34m,\u001b[0m \u001b[0minput_length\u001b[0m\u001b[0;34m=\u001b[0m\u001b[0mmax_length\u001b[0m\u001b[0;34m)\u001b[0m\u001b[0;34m(\u001b[0m\u001b[0minput_layer\u001b[0m\u001b[0;34m)\u001b[0m\u001b[0;34m\u001b[0m\u001b[0;34m\u001b[0m\u001b[0m\n\u001b[0m\u001b[1;32m     28\u001b[0m \u001b[0;34m\u001b[0m\u001b[0m\n\u001b[1;32m     29\u001b[0m \u001b[0;31m# apply spatial dropout to the embedding layer\u001b[0m\u001b[0;34m\u001b[0m\u001b[0;34m\u001b[0m\u001b[0m\n",
            "\u001b[0;31mNameError\u001b[0m: name 'vocab_size' is not defined"
          ]
        }
      ]
    },
    {
      "cell_type": "code",
      "source": [
        "import numpy as np\n",
        "from keras.models import Model\n",
        "from keras.layers import Input, Embedding, SpatialDropout1D, Bidirectional, LSTM, Concatenate, Dense, Dropout\n",
        "\n",
        "# define the number of classes\n",
        "num_classes = 3\n",
        "\n",
        "# define the maximum length of the input sequences\n",
        "max_length = 500\n",
        "\n",
        "# define the size of the embedding vector\n",
        "embedding_size = 128\n",
        "\n",
        "# define the size of the LSTM layer\n",
        "lstm_size = 64\n",
        "\n",
        "# define the size of the dense layer\n",
        "dense_size = 32\n",
        "\n",
        "# define the dropout rate\n",
        "dropout_rate = 0.2\n",
        "\n",
        "# define the size of the vocabulary used in the input text data\n",
        "vocab_size = 10000\n",
        "\n",
        "# create the input layer\n",
        "input_layer = Input(shape=(500,), dtype='int32')\n",
        "\n",
        "# create the embedding layer\n",
        "embedding_layer = Embedding(input_dim=vocab_size, output_dim=embedding_size, input_length=max_length)(input_layer)\n",
        "\n",
        "# apply spatial dropout to the embedding layer\n",
        "embedding_layer = SpatialDropout1D(rate=dropout_rate)(embedding_layer)\n",
        "\n",
        "# create the bidirectional LSTM layer\n",
        "lstm_layer = Bidirectional(LSTM(units=lstm_size, dropout=dropout_rate, recurrent_dropout=dropout_rate))(embedding_layer)\n",
        "\n",
        "# create the dense layer\n",
        "dense_layer = Dense(units=dense_size, activation='relu')(lstm_layer)\n",
        "\n",
        "# apply dropout to the dense layer\n",
        "dense_layer = Dropout(rate=dropout_rate)(dense_layer)\n",
        "\n",
        "# create the output layer\n",
        "output_layer = Dense(units=num_classes, activation='softmax')(dense_layer)\n",
        "\n",
        "# create the model\n",
        "model = Model(inputs=input_layer, outputs=output_layer)\n",
        "\n",
        "# compile the model\n",
        "model.compile(loss='categorical_crossentropy', optimizer='adam', metrics=['accuracy'])\n",
        "\n",
        "# train the model\n",
        "model.fit(train_vecs, Y_train, validation_data=(test_vecs, Y_test), epochs=10, batch_size=32)\n",
        "\n",
        "# evaluate the model\n",
        "loss, accuracy = model.evaluate(x_test, y_test, batch_size=32)\n",
        "print('Test loss:', loss)\n",
        "print('Test accuracy:', accuracy)\n"
      ],
      "metadata": {
        "colab": {
          "base_uri": "https://localhost:8080/",
          "height": 235
        },
        "id": "L3e8Gz-gBctV",
        "outputId": "2f031fc8-a9dc-45b6-c1a5-acf7e058aa7f"
      },
      "execution_count": null,
      "outputs": [
        {
          "output_type": "error",
          "ename": "NameError",
          "evalue": "ignored",
          "traceback": [
            "\u001b[0;31m---------------------------------------------------------------------------\u001b[0m",
            "\u001b[0;31mNameError\u001b[0m                                 Traceback (most recent call last)",
            "\u001b[0;32m<ipython-input-66-ab4265bb3a15>\u001b[0m in \u001b[0;36m<cell line: 33>\u001b[0;34m()\u001b[0m\n\u001b[1;32m     31\u001b[0m \u001b[0membedding_layer\u001b[0m \u001b[0;34m=\u001b[0m \u001b[0mEmbedding\u001b[0m\u001b[0;34m(\u001b[0m\u001b[0minput_dim\u001b[0m\u001b[0;34m=\u001b[0m\u001b[0mvocab_size\u001b[0m\u001b[0;34m,\u001b[0m \u001b[0moutput_dim\u001b[0m\u001b[0;34m=\u001b[0m\u001b[0membedding_size\u001b[0m\u001b[0;34m,\u001b[0m \u001b[0minput_length\u001b[0m\u001b[0;34m=\u001b[0m\u001b[0mmax_length\u001b[0m\u001b[0;34m)\u001b[0m\u001b[0;34m(\u001b[0m\u001b[0minput_layer\u001b[0m\u001b[0;34m)\u001b[0m\u001b[0;34m\u001b[0m\u001b[0;34m\u001b[0m\u001b[0m\n\u001b[1;32m     32\u001b[0m \u001b[0;31m###\u001b[0m\u001b[0;34m\u001b[0m\u001b[0;34m\u001b[0m\u001b[0m\n\u001b[0;32m---> 33\u001b[0;31m \u001b[0mtrain_vecs\u001b[0m \u001b[0;34m=\u001b[0m \u001b[0mnp\u001b[0m\u001b[0;34m.\u001b[0m\u001b[0marray\u001b[0m\u001b[0;34m(\u001b[0m\u001b[0;34m[\u001b[0m\u001b[0mdoc\u001b[0m\u001b[0;34m.\u001b[0m\u001b[0mvector\u001b[0m\u001b[0;34m[\u001b[0m\u001b[0;34m:\u001b[0m\u001b[0;36m500\u001b[0m\u001b[0;34m]\u001b[0m \u001b[0;32mfor\u001b[0m \u001b[0mdoc\u001b[0m \u001b[0;32min\u001b[0m \u001b[0mtrain_docs\u001b[0m\u001b[0;34m]\u001b[0m\u001b[0;34m)\u001b[0m\u001b[0;34m\u001b[0m\u001b[0;34m\u001b[0m\u001b[0m\n\u001b[0m\u001b[1;32m     34\u001b[0m \u001b[0mtest_vecs\u001b[0m \u001b[0;34m=\u001b[0m \u001b[0mnp\u001b[0m\u001b[0;34m.\u001b[0m\u001b[0marray\u001b[0m\u001b[0;34m(\u001b[0m\u001b[0;34m[\u001b[0m\u001b[0mdoc\u001b[0m\u001b[0;34m.\u001b[0m\u001b[0mvector\u001b[0m\u001b[0;34m[\u001b[0m\u001b[0;34m:\u001b[0m\u001b[0;36m500\u001b[0m\u001b[0;34m]\u001b[0m \u001b[0;32mfor\u001b[0m \u001b[0mdoc\u001b[0m \u001b[0;32min\u001b[0m \u001b[0mtest_docs\u001b[0m\u001b[0;34m]\u001b[0m\u001b[0;34m)\u001b[0m\u001b[0;34m\u001b[0m\u001b[0;34m\u001b[0m\u001b[0m\n\u001b[1;32m     35\u001b[0m \u001b[0;31m# apply spatial dropout to the embedding layer\u001b[0m\u001b[0;34m\u001b[0m\u001b[0;34m\u001b[0m\u001b[0m\n",
            "\u001b[0;31mNameError\u001b[0m: name 'train_docs' is not defined"
          ]
        }
      ]
    },
    {
      "cell_type": "code",
      "source": [
        "import pandas as pd\n",
        "from sklearn.feature_extraction.text import CountVectorizer\n",
        "from sklearn.naive_bayes import MultinomialNB\n",
        "from sklearn.metrics import accuracy_score, classification_report\n",
        "\n",
        "# Load the dataset\n",
        "data = pd.read_csv(\"Copy of Clean Translated Annotated Data 12000 data (1).csv\")\n",
        "\n",
        "# Split the data into training and testing sets\n",
        "train_data = data[:700]\n",
        "test_data = data[700:]\n",
        "\n",
        "# Preprocess the text data\n",
        "vectorizer = CountVectorizer()\n",
        "train_features = vectorizer.fit_transform(train_data[\"Sentence\"])\n",
        "test_features = vectorizer.transform(test_data[\"Sentence\"])\n",
        "\n",
        "# Train the classifier\n",
        "clf = MultinomialNB()\n",
        "clf.fit(train_features, train_data[\"Emotion Score\"])\n",
        "\n",
        "# Test the classifier\n",
        "predictions = clf.predict(test_features)\n",
        "accuracy = accuracy_score(test_data[\"emotion\"], predictions)\n",
        "report = classification_report(test_data[\"emotion\"], predictions)\n",
        "\n",
        "# Print the results\n",
        "print(\"Accuracy: \", accuracy)\n",
        "print(report)\n"
      ],
      "metadata": {
        "colab": {
          "base_uri": "https://localhost:8080/",
          "height": 380
        },
        "id": "RvEm_uHfJBX7",
        "outputId": "f340c3d1-1943-465b-f045-9068d1896466"
      },
      "execution_count": 69,
      "outputs": [
        {
          "output_type": "error",
          "ename": "ValueError",
          "evalue": "ignored",
          "traceback": [
            "\u001b[0;31m---------------------------------------------------------------------------\u001b[0m",
            "\u001b[0;31mValueError\u001b[0m                                Traceback (most recent call last)",
            "\u001b[0;32m<ipython-input-69-95436602b85a>\u001b[0m in \u001b[0;36m<cell line: 16>\u001b[0;34m()\u001b[0m\n\u001b[1;32m     14\u001b[0m \u001b[0mvectorizer\u001b[0m \u001b[0;34m=\u001b[0m \u001b[0mCountVectorizer\u001b[0m\u001b[0;34m(\u001b[0m\u001b[0;34m)\u001b[0m\u001b[0;34m\u001b[0m\u001b[0;34m\u001b[0m\u001b[0m\n\u001b[1;32m     15\u001b[0m \u001b[0mtrain_features\u001b[0m \u001b[0;34m=\u001b[0m \u001b[0mvectorizer\u001b[0m\u001b[0;34m.\u001b[0m\u001b[0mfit_transform\u001b[0m\u001b[0;34m(\u001b[0m\u001b[0mtrain_data\u001b[0m\u001b[0;34m[\u001b[0m\u001b[0;34m\"Sentence\"\u001b[0m\u001b[0;34m]\u001b[0m\u001b[0;34m)\u001b[0m\u001b[0;34m\u001b[0m\u001b[0;34m\u001b[0m\u001b[0m\n\u001b[0;32m---> 16\u001b[0;31m \u001b[0mtest_features\u001b[0m \u001b[0;34m=\u001b[0m \u001b[0mvectorizer\u001b[0m\u001b[0;34m.\u001b[0m\u001b[0mtransform\u001b[0m\u001b[0;34m(\u001b[0m\u001b[0mtest_data\u001b[0m\u001b[0;34m[\u001b[0m\u001b[0;34m\"Sentence\"\u001b[0m\u001b[0;34m]\u001b[0m\u001b[0;34m)\u001b[0m\u001b[0;34m\u001b[0m\u001b[0;34m\u001b[0m\u001b[0m\n\u001b[0m\u001b[1;32m     17\u001b[0m \u001b[0;34m\u001b[0m\u001b[0m\n\u001b[1;32m     18\u001b[0m \u001b[0;31m# Train the classifier\u001b[0m\u001b[0;34m\u001b[0m\u001b[0;34m\u001b[0m\u001b[0m\n",
            "\u001b[0;32m/usr/local/lib/python3.10/dist-packages/sklearn/feature_extraction/text.py\u001b[0m in \u001b[0;36mtransform\u001b[0;34m(self, raw_documents)\u001b[0m\n\u001b[1;32m   1431\u001b[0m \u001b[0;34m\u001b[0m\u001b[0m\n\u001b[1;32m   1432\u001b[0m         \u001b[0;31m# use the same matrix-building strategy as fit_transform\u001b[0m\u001b[0;34m\u001b[0m\u001b[0;34m\u001b[0m\u001b[0m\n\u001b[0;32m-> 1433\u001b[0;31m         \u001b[0m_\u001b[0m\u001b[0;34m,\u001b[0m \u001b[0mX\u001b[0m \u001b[0;34m=\u001b[0m \u001b[0mself\u001b[0m\u001b[0;34m.\u001b[0m\u001b[0m_count_vocab\u001b[0m\u001b[0;34m(\u001b[0m\u001b[0mraw_documents\u001b[0m\u001b[0;34m,\u001b[0m \u001b[0mfixed_vocab\u001b[0m\u001b[0;34m=\u001b[0m\u001b[0;32mTrue\u001b[0m\u001b[0;34m)\u001b[0m\u001b[0;34m\u001b[0m\u001b[0;34m\u001b[0m\u001b[0m\n\u001b[0m\u001b[1;32m   1434\u001b[0m         \u001b[0;32mif\u001b[0m \u001b[0mself\u001b[0m\u001b[0;34m.\u001b[0m\u001b[0mbinary\u001b[0m\u001b[0;34m:\u001b[0m\u001b[0;34m\u001b[0m\u001b[0;34m\u001b[0m\u001b[0m\n\u001b[1;32m   1435\u001b[0m             \u001b[0mX\u001b[0m\u001b[0;34m.\u001b[0m\u001b[0mdata\u001b[0m\u001b[0;34m.\u001b[0m\u001b[0mfill\u001b[0m\u001b[0;34m(\u001b[0m\u001b[0;36m1\u001b[0m\u001b[0;34m)\u001b[0m\u001b[0;34m\u001b[0m\u001b[0;34m\u001b[0m\u001b[0m\n",
            "\u001b[0;32m/usr/local/lib/python3.10/dist-packages/sklearn/feature_extraction/text.py\u001b[0m in \u001b[0;36m_count_vocab\u001b[0;34m(self, raw_documents, fixed_vocab)\u001b[0m\n\u001b[1;32m   1273\u001b[0m         \u001b[0;32mfor\u001b[0m \u001b[0mdoc\u001b[0m \u001b[0;32min\u001b[0m \u001b[0mraw_documents\u001b[0m\u001b[0;34m:\u001b[0m\u001b[0;34m\u001b[0m\u001b[0;34m\u001b[0m\u001b[0m\n\u001b[1;32m   1274\u001b[0m             \u001b[0mfeature_counter\u001b[0m \u001b[0;34m=\u001b[0m \u001b[0;34m{\u001b[0m\u001b[0;34m}\u001b[0m\u001b[0;34m\u001b[0m\u001b[0;34m\u001b[0m\u001b[0m\n\u001b[0;32m-> 1275\u001b[0;31m             \u001b[0;32mfor\u001b[0m \u001b[0mfeature\u001b[0m \u001b[0;32min\u001b[0m \u001b[0manalyze\u001b[0m\u001b[0;34m(\u001b[0m\u001b[0mdoc\u001b[0m\u001b[0;34m)\u001b[0m\u001b[0;34m:\u001b[0m\u001b[0;34m\u001b[0m\u001b[0;34m\u001b[0m\u001b[0m\n\u001b[0m\u001b[1;32m   1276\u001b[0m                 \u001b[0;32mtry\u001b[0m\u001b[0;34m:\u001b[0m\u001b[0;34m\u001b[0m\u001b[0;34m\u001b[0m\u001b[0m\n\u001b[1;32m   1277\u001b[0m                     \u001b[0mfeature_idx\u001b[0m \u001b[0;34m=\u001b[0m \u001b[0mvocabulary\u001b[0m\u001b[0;34m[\u001b[0m\u001b[0mfeature\u001b[0m\u001b[0;34m]\u001b[0m\u001b[0;34m\u001b[0m\u001b[0;34m\u001b[0m\u001b[0m\n",
            "\u001b[0;32m/usr/local/lib/python3.10/dist-packages/sklearn/feature_extraction/text.py\u001b[0m in \u001b[0;36m_analyze\u001b[0;34m(doc, analyzer, tokenizer, ngrams, preprocessor, decoder, stop_words)\u001b[0m\n\u001b[1;32m    104\u001b[0m \u001b[0;34m\u001b[0m\u001b[0m\n\u001b[1;32m    105\u001b[0m     \u001b[0;32mif\u001b[0m \u001b[0mdecoder\u001b[0m \u001b[0;32mis\u001b[0m \u001b[0;32mnot\u001b[0m \u001b[0;32mNone\u001b[0m\u001b[0;34m:\u001b[0m\u001b[0;34m\u001b[0m\u001b[0;34m\u001b[0m\u001b[0m\n\u001b[0;32m--> 106\u001b[0;31m         \u001b[0mdoc\u001b[0m \u001b[0;34m=\u001b[0m \u001b[0mdecoder\u001b[0m\u001b[0;34m(\u001b[0m\u001b[0mdoc\u001b[0m\u001b[0;34m)\u001b[0m\u001b[0;34m\u001b[0m\u001b[0;34m\u001b[0m\u001b[0m\n\u001b[0m\u001b[1;32m    107\u001b[0m     \u001b[0;32mif\u001b[0m \u001b[0manalyzer\u001b[0m \u001b[0;32mis\u001b[0m \u001b[0;32mnot\u001b[0m \u001b[0;32mNone\u001b[0m\u001b[0;34m:\u001b[0m\u001b[0;34m\u001b[0m\u001b[0;34m\u001b[0m\u001b[0m\n\u001b[1;32m    108\u001b[0m         \u001b[0mdoc\u001b[0m \u001b[0;34m=\u001b[0m \u001b[0manalyzer\u001b[0m\u001b[0;34m(\u001b[0m\u001b[0mdoc\u001b[0m\u001b[0;34m)\u001b[0m\u001b[0;34m\u001b[0m\u001b[0;34m\u001b[0m\u001b[0m\n",
            "\u001b[0;32m/usr/local/lib/python3.10/dist-packages/sklearn/feature_extraction/text.py\u001b[0m in \u001b[0;36mdecode\u001b[0;34m(self, doc)\u001b[0m\n\u001b[1;32m    237\u001b[0m \u001b[0;34m\u001b[0m\u001b[0m\n\u001b[1;32m    238\u001b[0m         \u001b[0;32mif\u001b[0m \u001b[0mdoc\u001b[0m \u001b[0;32mis\u001b[0m \u001b[0mnp\u001b[0m\u001b[0;34m.\u001b[0m\u001b[0mnan\u001b[0m\u001b[0;34m:\u001b[0m\u001b[0;34m\u001b[0m\u001b[0;34m\u001b[0m\u001b[0m\n\u001b[0;32m--> 239\u001b[0;31m             raise ValueError(\n\u001b[0m\u001b[1;32m    240\u001b[0m                 \u001b[0;34m\"np.nan is an invalid document, expected byte or unicode string.\"\u001b[0m\u001b[0;34m\u001b[0m\u001b[0;34m\u001b[0m\u001b[0m\n\u001b[1;32m    241\u001b[0m             )\n",
            "\u001b[0;31mValueError\u001b[0m: np.nan is an invalid document, expected byte or unicode string."
          ]
        }
      ]
    },
    {
      "cell_type": "code",
      "source": [],
      "metadata": {
        "id": "Cx5iwmCzJgfW"
      },
      "execution_count": 81,
      "outputs": []
    },
    {
      "cell_type": "code",
      "source": [],
      "metadata": {
        "id": "AarlbM7KKA2r"
      },
      "execution_count": 81,
      "outputs": []
    },
    {
      "cell_type": "code",
      "source": [],
      "metadata": {
        "id": "lXLAKY5rRXaq"
      },
      "execution_count": 81,
      "outputs": []
    },
    {
      "cell_type": "code",
      "source": [],
      "metadata": {
        "id": "ZiWu6oCsScff"
      },
      "execution_count": 81,
      "outputs": []
    }
  ]
}